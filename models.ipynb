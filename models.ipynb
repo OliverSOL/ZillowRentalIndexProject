{
 "cells": [
  {
   "cell_type": "code",
   "execution_count": 2,
   "metadata": {},
   "outputs": [],
   "source": [
    "import numpy as np\n",
    "import pandas as pd\n",
    "from sklearn.linear_model import LinearRegression\n",
    "from sklearn.model_selection import cross_validate\n",
    "from sklearn.metrics import r2_score"
   ]
  },
  {
   "cell_type": "markdown",
   "metadata": {},
   "source": [
    "## Pull CSV Files"
   ]
  },
  {
   "cell_type": "code",
   "execution_count": 3,
   "metadata": {},
   "outputs": [],
   "source": [
    "zori = pd.read_csv('./data/cleandata/clean_zori.csv').drop('Unnamed: 0', axis = 1)\n",
    "zhvi = pd.read_csv('./data/cleandata/clean_zhvi.csv').drop('Unnamed: 0', axis = 1)\n",
    "airq = pd.read_csv('./data/cleandata/clean_airq.csv').drop('Unnamed: 0', axis = 1)\n",
    "population = pd.read_csv('./data/cleandata/clean_population.csv').drop('Unnamed: 0', axis = 1)\n",
    "unemployment = pd.read_csv('./data/cleandata/clean_unemployment.csv').drop('Unnamed: 0', axis = 1)\n",
    "education = pd.read_csv('./data/cleandata/clean_education.csv').drop('Unnamed: 0', axis = 1)\n",
    "permits = pd.read_csv('./data/cleandata/clean_permits.csv').drop('Unnamed: 0', axis = 1)\n",
    "IandH = pd.read_csv('./data/cleandata/clean_IandH.csv').drop('Unnamed: 0', axis = 1)\n",
    "pce = pd.read_csv('./data/cleandata/clean_pce.csv').drop('Unnamed: 0', axis = 1)\n",
    "vacancy = pd.read_csv('./data/cleandata/clean_vacancy.csv').drop('Unnamed: 0', axis = 1)"
   ]
  },
  {
   "cell_type": "markdown",
   "metadata": {},
   "source": [
    "## Intermediate Matrices for Merging Dataframes before Training"
   ]
  },
  {
   "cell_type": "code",
   "execution_count": 4,
   "metadata": {},
   "outputs": [],
   "source": [
    "one_year_forecast = zori[['Year', 'Month', 'Year_Month']]\n",
    "one_year_forecast = pd.concat([one_year_forecast, pd.DataFrame(one_year_forecast['Year'].map(lambda year: year - 1))], \n",
    "                             axis = 1)\n",
    "one_year_forecast.columns = ['Year', 'Month', 'Year_Month', 'Year2']\n",
    "one_year_forecast = pd.concat([one_year_forecast, pd.DataFrame(one_year_forecast['Year'].map(lambda year: year - 2))], \n",
    "                             axis = 1)\n",
    "one_year_forecast.columns = ['Year', 'Month', 'Year_Month', 'Year2', 'Year3']\n",
    "one_year_forecast['Year_Month2'] = one_year_forecast['Year2'].map(str) + '_' + one_year_forecast['Month'].map(str)\n",
    "one_year_forecast['Year_Month3'] = one_year_forecast['Year3'].map(str) + '_' + one_year_forecast['Month'].map(str)\n",
    "one_year_forecast = one_year_forecast[['Year_Month', 'Year_Month2', 'Year_Month3']]\n",
    "one_year_forecast.drop_duplicates(inplace = True)"
   ]
  },
  {
   "cell_type": "code",
   "execution_count": 5,
   "metadata": {},
   "outputs": [
    {
     "data": {
      "text/html": [
       "<div>\n",
       "<style scoped>\n",
       "    .dataframe tbody tr th:only-of-type {\n",
       "        vertical-align: middle;\n",
       "    }\n",
       "\n",
       "    .dataframe tbody tr th {\n",
       "        vertical-align: top;\n",
       "    }\n",
       "\n",
       "    .dataframe thead th {\n",
       "        text-align: right;\n",
       "    }\n",
       "</style>\n",
       "<table border=\"1\" class=\"dataframe\">\n",
       "  <thead>\n",
       "    <tr style=\"text-align: right;\">\n",
       "      <th></th>\n",
       "      <th>Year_Month</th>\n",
       "      <th>Year_Month2</th>\n",
       "      <th>Year_Month3</th>\n",
       "    </tr>\n",
       "  </thead>\n",
       "  <tbody>\n",
       "    <tr>\n",
       "      <th>0</th>\n",
       "      <td>2014_2</td>\n",
       "      <td>2013_2</td>\n",
       "      <td>2012_2</td>\n",
       "    </tr>\n",
       "    <tr>\n",
       "      <th>1</th>\n",
       "      <td>2014_3</td>\n",
       "      <td>2013_3</td>\n",
       "      <td>2012_3</td>\n",
       "    </tr>\n",
       "    <tr>\n",
       "      <th>2</th>\n",
       "      <td>2014_4</td>\n",
       "      <td>2013_4</td>\n",
       "      <td>2012_4</td>\n",
       "    </tr>\n",
       "    <tr>\n",
       "      <th>3</th>\n",
       "      <td>2014_5</td>\n",
       "      <td>2013_5</td>\n",
       "      <td>2012_5</td>\n",
       "    </tr>\n",
       "    <tr>\n",
       "      <th>4</th>\n",
       "      <td>2014_6</td>\n",
       "      <td>2013_6</td>\n",
       "      <td>2012_6</td>\n",
       "    </tr>\n",
       "    <tr>\n",
       "      <th>...</th>\n",
       "      <td>...</td>\n",
       "      <td>...</td>\n",
       "      <td>...</td>\n",
       "    </tr>\n",
       "    <tr>\n",
       "      <th>75</th>\n",
       "      <td>2020_5</td>\n",
       "      <td>2019_5</td>\n",
       "      <td>2018_5</td>\n",
       "    </tr>\n",
       "    <tr>\n",
       "      <th>76</th>\n",
       "      <td>2020_6</td>\n",
       "      <td>2019_6</td>\n",
       "      <td>2018_6</td>\n",
       "    </tr>\n",
       "    <tr>\n",
       "      <th>77</th>\n",
       "      <td>2020_7</td>\n",
       "      <td>2019_7</td>\n",
       "      <td>2018_7</td>\n",
       "    </tr>\n",
       "    <tr>\n",
       "      <th>78</th>\n",
       "      <td>2020_8</td>\n",
       "      <td>2019_8</td>\n",
       "      <td>2018_8</td>\n",
       "    </tr>\n",
       "    <tr>\n",
       "      <th>79</th>\n",
       "      <td>2020_9</td>\n",
       "      <td>2019_9</td>\n",
       "      <td>2018_9</td>\n",
       "    </tr>\n",
       "  </tbody>\n",
       "</table>\n",
       "<p>80 rows × 3 columns</p>\n",
       "</div>"
      ],
      "text/plain": [
       "   Year_Month Year_Month2 Year_Month3\n",
       "0      2014_2      2013_2      2012_2\n",
       "1      2014_3      2013_3      2012_3\n",
       "2      2014_4      2013_4      2012_4\n",
       "3      2014_5      2013_5      2012_5\n",
       "4      2014_6      2013_6      2012_6\n",
       "..        ...         ...         ...\n",
       "75     2020_5      2019_5      2018_5\n",
       "76     2020_6      2019_6      2018_6\n",
       "77     2020_7      2019_7      2018_7\n",
       "78     2020_8      2019_8      2018_8\n",
       "79     2020_9      2019_9      2018_9\n",
       "\n",
       "[80 rows x 3 columns]"
      ]
     },
     "execution_count": 5,
     "metadata": {},
     "output_type": "execute_result"
    }
   ],
   "source": [
    "one_year_forecast"
   ]
  },
  {
   "cell_type": "markdown",
   "metadata": {},
   "source": [
    "## Final Dataframe for Training"
   ]
  },
  {
   "cell_type": "code",
   "execution_count": 147,
   "metadata": {},
   "outputs": [],
   "source": [
    "df = zori\n",
    "df = pd.merge(df, one_year_forecast, on = 'Year_Month')\n",
    "df = pd.merge(df, zori[['Year_Month', 'ZipCode', 'ZORI']], left_on = ['Year_Month2', 'ZipCode'],\n",
    "              right_on = ['Year_Month', 'ZipCode'], how = 'left')\n",
    "df.drop('Year_Month_y', axis = 1, inplace = True)"
   ]
  },
  {
   "cell_type": "code",
   "execution_count": 148,
   "metadata": {},
   "outputs": [],
   "source": [
    "df = pd.merge(df, zhvi[['Year_Month', 'ZipCode', 'ZHVI']], left_on = ['Year_Month2', 'ZipCode'],\n",
    "              right_on = ['Year_Month', 'ZipCode'], how = 'left')\n",
    "df.drop('Year_Month', axis = 1, inplace = True)"
   ]
  },
  {
   "cell_type": "code",
   "execution_count": 149,
   "metadata": {},
   "outputs": [],
   "source": [
    "df = pd.merge(df, airq[['County', 'State', 'Year_Month', 'AQI']], left_on = ['County', 'State', 'Year_Month2'],\n",
    "              right_on = ['County', 'State', 'Year_Month'], how = 'left')\n",
    "df.drop('Year_Month', axis = 1, inplace = True)"
   ]
  },
  {
   "cell_type": "code",
   "execution_count": 150,
   "metadata": {},
   "outputs": [],
   "source": [
    "df = pd.merge(df, population[['County', 'State', 'Year_Month', 'Population']], \n",
    "              left_on = ['County', 'State', 'Year_Month3'], right_on = ['County', 'State', 'Year_Month'], how = 'left')\n",
    "df.drop('Year_Month', axis = 1, inplace = True)"
   ]
  },
  {
   "cell_type": "code",
   "execution_count": 151,
   "metadata": {},
   "outputs": [],
   "source": [
    "df = pd.merge(df, unemployment[['County', 'State', 'Year_Month', 'Unemployment']], \n",
    "             left_on = ['County', 'State', 'Year_Month2'], right_on = ['County', 'State', 'Year_Month'], how = 'left')\n",
    "df.drop('Year_Month', axis = 1, inplace = True)"
   ]
  },
  {
   "cell_type": "code",
   "execution_count": 152,
   "metadata": {},
   "outputs": [],
   "source": [
    "df['Year2'] = df['Year'] - 1\n",
    "df['Year3'] = df['Year'] - 2\n",
    "df = pd.merge(df, education, left_on = ['County', 'State', 'Year3'], right_on = ['County', 'State', 'Year'], how = 'left')\n",
    "df.drop('Year_y', axis = 1, inplace = True)"
   ]
  },
  {
   "cell_type": "code",
   "execution_count": 153,
   "metadata": {},
   "outputs": [],
   "source": [
    "df = pd.merge(df, permits[['State', 'Units', 'Year_Month']], left_on = ['State', 'Year_Month2'], \n",
    "              right_on = ['State', 'Year_Month'], how = 'left')\n",
    "df.drop('Year_Month', axis = 1, inplace = True)"
   ]
  },
  {
   "cell_type": "code",
   "execution_count": 154,
   "metadata": {},
   "outputs": [],
   "source": [
    "df = pd.merge(df, IandH[['County', 'State', 'Year_Month', 'Total_Households', 'Med_income']], \n",
    "             left_on = ['County', 'State', 'Year_Month3'], right_on = ['County', 'State', 'Year_Month'], how = 'left')\n",
    "df.drop('Year_Month', axis = 1, inplace = True)"
   ]
  },
  {
   "cell_type": "code",
   "execution_count": 155,
   "metadata": {},
   "outputs": [],
   "source": [
    "df = pd.merge(df, pce[['PCE', 'Year_Month']], left_on = 'Year_Month2', right_on = 'Year_Month')\n",
    "df.drop('Year_Month', axis = 1, inplace = True)"
   ]
  },
  {
   "cell_type": "code",
   "execution_count": 156,
   "metadata": {},
   "outputs": [],
   "source": [
    "df = pd.merge(df, vacancy, left_on = ['County', 'State', 'Year3'], right_on = ['County', 'State', 'Year'], how = 'left')\n",
    "df.drop('Year', axis = 1, inplace = True)"
   ]
  },
  {
   "cell_type": "code",
   "execution_count": 157,
   "metadata": {},
   "outputs": [],
   "source": [
    "df = df[['Year_x', 'Month', 'ZipCode', 'ZORI_x', 'ZORI_y', 'ZHVI', 'AQI', 'Population', 'Unemployment', \n",
    "         'Percent Bachelors', 'Units', 'Total_Households', 'Med_income', 'PCE', 'Rental Vacancy Rate']]"
   ]
  },
  {
   "cell_type": "code",
   "execution_count": 158,
   "metadata": {},
   "outputs": [],
   "source": [
    "df.columns = ['Year', 'Month', 'ZipCode', 'ZORI', 'ZORI_lagged_1', 'ZHVI_lagged_1', 'AQI_lagged_1', 'Population_lagged_2', \n",
    "              'Unemployment_lagged_1', 'Percent Bachelors_lagged_2', 'Permits_lagged_1', 'Total_Households_lagged_2',\n",
    "              'Med_Income_lagged_2', 'PCE_lagged_1', 'Rental Vacancy Rate_lagged_2']"
   ]
  },
  {
   "cell_type": "code",
   "execution_count": 159,
   "metadata": {},
   "outputs": [],
   "source": [
    "# Dropping all NaN values instead of imputing for simplicity for now\n",
    "df = df[(df['Year'] != 2014) & ~((df['Year'] == 2015) & (df['Month'] == 1))]\n",
    "df = df[~df['Total_Households_lagged_2'].isnull()]\n",
    "df = df[~df['ZORI'].isnull()]\n",
    "df = df[~df['ZORI_lagged_1'].isnull()]\n",
    "df = df[~df['ZHVI_lagged_1'].isnull()]\n",
    "df = df[~df['AQI_lagged_1'].isnull()]\n",
    "df = df[~df['Rental Vacancy Rate_lagged_2'].isnull()]\n",
    "train = df[df['Year'] != 2020]\n",
    "test = df[df['Year'] == 2020]"
   ]
  },
  {
   "cell_type": "markdown",
   "metadata": {},
   "source": [
    "## Multiple Linear Regression on ZORI"
   ]
  },
  {
   "cell_type": "code",
   "execution_count": 160,
   "metadata": {},
   "outputs": [
    {
     "data": {
      "text/plain": [
       "0.9925193482593228"
      ]
     },
     "execution_count": 160,
     "metadata": {},
     "output_type": "execute_result"
    }
   ],
   "source": [
    "regression = LinearRegression()\n",
    "regression.fit(train.iloc[:, 4:], train.iloc[:, 3])\n",
    "regression.score(train.iloc[:, 4:], train.iloc[:, 3])"
   ]
  },
  {
   "cell_type": "code",
   "execution_count": 161,
   "metadata": {},
   "outputs": [
    {
     "data": {
      "text/plain": [
       "0.9801955421585727"
      ]
     },
     "execution_count": 161,
     "metadata": {},
     "output_type": "execute_result"
    }
   ],
   "source": [
    "r2_score(test.iloc[:, 3], regression.predict(test.iloc[:, 4:]))"
   ]
  },
  {
   "cell_type": "code",
   "execution_count": 162,
   "metadata": {},
   "outputs": [
    {
     "data": {
      "text/plain": [
       "0.9915774934484615"
      ]
     },
     "execution_count": 162,
     "metadata": {},
     "output_type": "execute_result"
    }
   ],
   "source": [
    "# Regression to see how much prior year ZORI drives current year ZORI\n",
    "temp = LinearRegression()\n",
    "temp.fit(np.array(train.iloc[:, 4]).reshape(-1, 1), train.iloc[:, 3])\n",
    "temp.score(np.array(train.iloc[:, 4]).reshape(-1, 1), train.iloc[:, 3])"
   ]
  },
  {
   "cell_type": "code",
   "execution_count": 163,
   "metadata": {},
   "outputs": [
    {
     "data": {
      "text/plain": [
       "0.978426063311627"
      ]
     },
     "execution_count": 163,
     "metadata": {},
     "output_type": "execute_result"
    }
   ],
   "source": [
    "r2_score(test.iloc[:, 3], temp.predict(np.array(test.iloc[:, 4]).reshape(-1, 1)))"
   ]
  },
  {
   "cell_type": "markdown",
   "metadata": {},
   "source": [
    "# Multiple Linear Regression on Change in ZORI"
   ]
  },
  {
   "cell_type": "code",
   "execution_count": 222,
   "metadata": {},
   "outputs": [],
   "source": [
    "df_change = df.copy()\n",
    "df_change['Year_Month'] = df_change['Year'].map(str) + '_' + df_change['Month'].map(str)\n",
    "df_change = pd.merge(df_change, one_year_forecast, on = 'Year_Month')\n",
    "df_change = pd.merge(df_change, df_change, left_on = ['Year_Month', 'ZipCode'], right_on = ['Year_Month2', 'ZipCode'],\n",
    "                     how = 'inner')"
   ]
  },
  {
   "cell_type": "code",
   "execution_count": 223,
   "metadata": {},
   "outputs": [],
   "source": [
    "df_change['ZORI_x'] = df_change['ZORI_x'] - df_change['ZORI_y']\n",
    "df_change['ZHVI_lagged_1_x'] = df_change['ZHVI_lagged_1_x'] - df_change['ZHVI_lagged_1_y']\n",
    "df_change['AQI_lagged_1_x'] = df_change['AQI_lagged_1_x'] - df_change['AQI_lagged_1_y']\n",
    "df_change['Population_lagged_2_x'] = df_change['Population_lagged_2_x'] - df_change['Population_lagged_2_y']\n",
    "df_change['Unemployment_lagged_1_x'] = df_change['Unemployment_lagged_1_x'] - df_change['Unemployment_lagged_1_y']\n",
    "df_change['Percent Bacehlors_lagged_2_x'] = df_change['Percent Bachelors_lagged_2_x'] -\\\n",
    "                                            df_change['Percent Bachelors_lagged_2_y']\n",
    "df_change['Permits_lagged_1_x'] = df_change['Permits_lagged_1_x'] - df_change['Permits_lagged_1_y']\n",
    "df_change['Total_Households_lagged_2_x'] = df_change['Total_Households_lagged_2_x'] -\\\n",
    "                                           df_change['Total_Households_lagged_2_y']\n",
    "df_change['Med_Income_lagged_2_x'] = df_change['Med_Income_lagged_2_x'] - df_change['Med_Income_lagged_2_y']\n",
    "df_change['PCE_lagged_1_x'] = df_change['PCE_lagged_1_x'] - df_change['PCE_lagged_1_y']\n",
    "df_change['Rental Vacancy Rate_lagged_2_x'] = df_change['Rental Vacancy Rate_lagged_2_x'] -\\\n",
    "                                              df_change['Rental Vacancy Rate_lagged_2_y']"
   ]
  },
  {
   "cell_type": "code",
   "execution_count": 224,
   "metadata": {},
   "outputs": [],
   "source": [
    "df_change = df_change[['Year_x', 'Month_x', 'ZipCode', 'ZORI_x', 'ZHVI_lagged_1_x', 'AQI_lagged_1_x', \n",
    "                      'Population_lagged_2_x', 'Unemployment_lagged_1_x', 'Percent Bachelors_lagged_2_x', \n",
    "                      'Permits_lagged_1_x', 'Total_Households_lagged_2_x', 'Med_Income_lagged_2_x', 'PCE_lagged_1_x', \n",
    "                      'Rental Vacancy Rate_lagged_2_x']]"
   ]
  },
  {
   "cell_type": "code",
   "execution_count": 225,
   "metadata": {},
   "outputs": [],
   "source": [
    "df_change.columns = ['Year', 'Month', 'ZipCode', 'ZORI_delta', 'ZHVI_lagged_1_delta', 'AQI_lagged_1_delta',\n",
    "                    'Population_lagged_2_delta', 'Unemployment_lagged_1_delta', 'Percent Bachelors_lagged_2_delta', \n",
    "                    'Permits_lagged_1_delta', 'Total_Households_lagged_2_delta', 'Med_Income_lagged_2_delta', \n",
    "                    'PCE_lagged_1_delta', 'Rental Vacancy Rate_lagged_2_delta']"
   ]
  },
  {
   "cell_type": "code",
   "execution_count": 226,
   "metadata": {},
   "outputs": [],
   "source": [
    "train_change = df_change[df_change['Year'] != 2019]\n",
    "test_change = df_change[df_change['Year'] == 2019]"
   ]
  },
  {
   "cell_type": "code",
   "execution_count": 227,
   "metadata": {},
   "outputs": [
    {
     "data": {
      "text/plain": [
       "0.012174841246029522"
      ]
     },
     "execution_count": 227,
     "metadata": {},
     "output_type": "execute_result"
    }
   ],
   "source": [
    "regression_change = LinearRegression()\n",
    "regression.fit(train_change.iloc[:, 4:], train_change.iloc[:, 3])\n",
    "regression.score(train_change.iloc[:, 4:], train_change.iloc[:, 3])"
   ]
  },
  {
   "cell_type": "code",
   "execution_count": 228,
   "metadata": {},
   "outputs": [
    {
     "data": {
      "text/plain": [
       "0.0007700455758817837"
      ]
     },
     "execution_count": 228,
     "metadata": {},
     "output_type": "execute_result"
    }
   ],
   "source": [
    "r2_score(test_change.iloc[:, 3], regression.predict(test_change.iloc[:, 4:]))"
   ]
  }
 ],
 "metadata": {
  "kernelspec": {
   "display_name": "Python 3",
   "language": "python",
   "name": "python3"
  },
  "language_info": {
   "codemirror_mode": {
    "name": "ipython",
    "version": 3
   },
   "file_extension": ".py",
   "mimetype": "text/x-python",
   "name": "python",
   "nbconvert_exporter": "python",
   "pygments_lexer": "ipython3",
   "version": "3.7.7"
  }
 },
 "nbformat": 4,
 "nbformat_minor": 4
}
