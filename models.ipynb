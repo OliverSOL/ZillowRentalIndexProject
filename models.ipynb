{
 "cells": [
  {
   "cell_type": "code",
   "execution_count": 827,
   "metadata": {},
   "outputs": [],
   "source": [
    "import numpy as np\n",
    "import pandas as pd\n",
    "pd.options.mode.chained_assignment = None\n",
    "from sklearn.linear_model import LinearRegression, Lasso\n",
    "from sklearn.model_selection import cross_validate\n",
    "from sklearn.metrics import r2_score\n",
    "from sklearn import ensemble\n",
    "from sklearn.model_selection import GridSearchCV\n",
    "from sklearn.feature_selection import mutual_info_regression \n",
    "from sklearn.preprocessing import StandardScaler\n",
    "import matplotlib.pyplot as plt\n",
    "import seaborn as sns\n",
    "from dateutil.relativedelta import relativedelta"
   ]
  },
  {
   "cell_type": "markdown",
   "metadata": {},
   "source": [
    "## Pull CSV Files"
   ]
  },
  {
   "cell_type": "code",
   "execution_count": 717,
   "metadata": {},
   "outputs": [],
   "source": [
    "zori = pd.read_csv('./data/cleandata/clean_zori.csv').drop('Unnamed: 0', axis = 1)\n",
    "hpi = pd.read_csv('./data/cleandata/clean_hpi.csv').drop('Unnamed: 0', axis = 1)\n",
    "zhvi = pd.read_csv('./data/cleandata/clean_zhvi.csv').drop('Unnamed: 0', axis = 1)\n",
    "airq = pd.read_csv('./data/cleandata/clean_airq.csv').drop('Unnamed: 0', axis = 1)\n",
    "population = pd.read_csv('./data/cleandata/clean_population.csv').drop('Unnamed: 0', axis = 1)\n",
    "unemployment = pd.read_csv('./data/cleandata/clean_unemployment.csv').drop('Unnamed: 0', axis = 1)\n",
    "education = pd.read_csv('./data/cleandata/clean_education.csv').drop('Unnamed: 0', axis = 1)\n",
    "permits = pd.read_csv('./data/cleandata/clean_permits.csv').drop('Unnamed: 0', axis = 1)\n",
    "IandH = pd.read_csv('./data/cleandata/clean_IandH.csv').drop('Unnamed: 0', axis = 1)\n",
    "pce = pd.read_csv('./data/cleandata/clean_pce.csv').drop('Unnamed: 0', axis = 1)\n",
    "vacancy = pd.read_csv('./data/cleandata/clean_vacancy.csv').drop('Unnamed: 0', axis = 1)\n",
    "jobs = pd.read_csv('./data/cleandata/clean_jos.csv').drop('Unnamed: 0', axis = 1)\n",
    "commute_worker = pd.read_csv('./data/cleandata/clean_commute_worker.csv').drop('Unnamed: 0', axis = 1)\n",
    "grapi = pd.read_csv('./data/cleandata/clean_grapi.csv').drop('Unnamed: 0', axis = 1)"
   ]
  },
  {
   "cell_type": "markdown",
   "metadata": {},
   "source": [
    "## Intermediate Matrices for Merging Dataframes before Training"
   ]
  },
  {
   "cell_type": "code",
   "execution_count": 699,
   "metadata": {},
   "outputs": [],
   "source": [
    "one_year_forecast_train = zori[['Year', 'Month', 'Year_Month']]\n",
    "one_year_forecast_train = pd.concat([one_year_forecast_train, \n",
    "                                     pd.DataFrame(one_year_forecast_train['Year'].map(lambda year: year - 1))], \n",
    "                                    axis = 1)\n",
    "one_year_forecast_train.columns = ['Year', 'Month', 'Year_Month', 'Year2']\n",
    "one_year_forecast_train = pd.concat([one_year_forecast_train, \n",
    "                                     pd.DataFrame(one_year_forecast_train['Year'].map(lambda year: year - 2))], \n",
    "                                    axis = 1)\n",
    "one_year_forecast_train.columns = ['Year', 'Month', 'Year_Month', 'Year2', 'Year3']\n",
    "one_year_forecast_train['Year_Month2'] = one_year_forecast_train['Year2'].map(str) + '_' +\\\n",
    "                                         one_year_forecast_train['Month'].map(str)\n",
    "one_year_forecast_train['Year_Month3'] = one_year_forecast_train['Year3'].map(str) + '_' +\\\n",
    "                                         one_year_forecast_train['Month'].map(str)\n",
    "one_year_forecast_train = one_year_forecast_train[['Year_Month', 'Year_Month2', 'Year_Month3']]\n",
    "one_year_forecast_train.drop_duplicates(inplace = True)"
   ]
  },
  {
   "cell_type": "code",
   "execution_count": 700,
   "metadata": {},
   "outputs": [
    {
     "data": {
      "text/html": [
       "<div>\n",
       "<style scoped>\n",
       "    .dataframe tbody tr th:only-of-type {\n",
       "        vertical-align: middle;\n",
       "    }\n",
       "\n",
       "    .dataframe tbody tr th {\n",
       "        vertical-align: top;\n",
       "    }\n",
       "\n",
       "    .dataframe thead th {\n",
       "        text-align: right;\n",
       "    }\n",
       "</style>\n",
       "<table border=\"1\" class=\"dataframe\">\n",
       "  <thead>\n",
       "    <tr style=\"text-align: right;\">\n",
       "      <th></th>\n",
       "      <th>Year_Month</th>\n",
       "      <th>Year_Month2</th>\n",
       "      <th>Year_Month3</th>\n",
       "    </tr>\n",
       "  </thead>\n",
       "  <tbody>\n",
       "    <tr>\n",
       "      <th>0</th>\n",
       "      <td>2014_2</td>\n",
       "      <td>2013_2</td>\n",
       "      <td>2012_2</td>\n",
       "    </tr>\n",
       "    <tr>\n",
       "      <th>1</th>\n",
       "      <td>2014_3</td>\n",
       "      <td>2013_3</td>\n",
       "      <td>2012_3</td>\n",
       "    </tr>\n",
       "    <tr>\n",
       "      <th>2</th>\n",
       "      <td>2014_4</td>\n",
       "      <td>2013_4</td>\n",
       "      <td>2012_4</td>\n",
       "    </tr>\n",
       "    <tr>\n",
       "      <th>3</th>\n",
       "      <td>2014_5</td>\n",
       "      <td>2013_5</td>\n",
       "      <td>2012_5</td>\n",
       "    </tr>\n",
       "    <tr>\n",
       "      <th>4</th>\n",
       "      <td>2014_6</td>\n",
       "      <td>2013_6</td>\n",
       "      <td>2012_6</td>\n",
       "    </tr>\n",
       "    <tr>\n",
       "      <th>...</th>\n",
       "      <td>...</td>\n",
       "      <td>...</td>\n",
       "      <td>...</td>\n",
       "    </tr>\n",
       "    <tr>\n",
       "      <th>75</th>\n",
       "      <td>2020_5</td>\n",
       "      <td>2019_5</td>\n",
       "      <td>2018_5</td>\n",
       "    </tr>\n",
       "    <tr>\n",
       "      <th>76</th>\n",
       "      <td>2020_6</td>\n",
       "      <td>2019_6</td>\n",
       "      <td>2018_6</td>\n",
       "    </tr>\n",
       "    <tr>\n",
       "      <th>77</th>\n",
       "      <td>2020_7</td>\n",
       "      <td>2019_7</td>\n",
       "      <td>2018_7</td>\n",
       "    </tr>\n",
       "    <tr>\n",
       "      <th>78</th>\n",
       "      <td>2020_8</td>\n",
       "      <td>2019_8</td>\n",
       "      <td>2018_8</td>\n",
       "    </tr>\n",
       "    <tr>\n",
       "      <th>79</th>\n",
       "      <td>2020_9</td>\n",
       "      <td>2019_9</td>\n",
       "      <td>2018_9</td>\n",
       "    </tr>\n",
       "  </tbody>\n",
       "</table>\n",
       "<p>80 rows × 3 columns</p>\n",
       "</div>"
      ],
      "text/plain": [
       "   Year_Month Year_Month2 Year_Month3\n",
       "0      2014_2      2013_2      2012_2\n",
       "1      2014_3      2013_3      2012_3\n",
       "2      2014_4      2013_4      2012_4\n",
       "3      2014_5      2013_5      2012_5\n",
       "4      2014_6      2013_6      2012_6\n",
       "..        ...         ...         ...\n",
       "75     2020_5      2019_5      2018_5\n",
       "76     2020_6      2019_6      2018_6\n",
       "77     2020_7      2019_7      2018_7\n",
       "78     2020_8      2019_8      2018_8\n",
       "79     2020_9      2019_9      2018_9\n",
       "\n",
       "[80 rows x 3 columns]"
      ]
     },
     "execution_count": 700,
     "metadata": {},
     "output_type": "execute_result"
    }
   ],
   "source": [
    "one_year_forecast_train"
   ]
  },
  {
   "cell_type": "markdown",
   "metadata": {},
   "source": [
    "## Final Dataframe for Training"
   ]
  },
  {
   "cell_type": "code",
   "execution_count": 701,
   "metadata": {},
   "outputs": [],
   "source": [
    "df = zori[zori['ZORI'] <= 4000]\n",
    "df = pd.merge(df, one_year_forecast_train, on = 'Year_Month')\n",
    "df = pd.merge(df, zori[['Year_Month', 'ZipCode', 'ZORI']], left_on = ['Year_Month2', 'ZipCode'],\n",
    "              right_on = ['Year_Month', 'ZipCode'], how = 'left')\n",
    "df.drop('Year_Month_y', axis = 1, inplace = True)"
   ]
  },
  {
   "cell_type": "code",
   "execution_count": 702,
   "metadata": {},
   "outputs": [],
   "source": [
    "df = pd.merge(df, zhvi[['Year_Month', 'ZipCode', 'ZHVI']], left_on = ['Year_Month2', 'ZipCode'],\n",
    "              right_on = ['Year_Month', 'ZipCode'], how = 'left')\n",
    "df.drop('Year_Month', axis = 1, inplace = True)"
   ]
  },
  {
   "cell_type": "code",
   "execution_count": 703,
   "metadata": {},
   "outputs": [],
   "source": [
    "df = pd.merge(df, hpi[['Year_Month', 'ZipCode', 'HPI']], left_on = ['Year_Month3', 'ZipCode'],\n",
    "              right_on = ['Year_Month', 'ZipCode'], how = 'left')\n",
    "df.drop('Year_Month', axis = 1, inplace = True)"
   ]
  },
  {
   "cell_type": "code",
   "execution_count": 704,
   "metadata": {},
   "outputs": [],
   "source": [
    "df = pd.merge(df, airq[['County', 'State', 'Year_Month', 'AQI']], left_on = ['County', 'State', 'Year_Month2'],\n",
    "              right_on = ['County', 'State', 'Year_Month'], how = 'left')\n",
    "df.drop('Year_Month', axis = 1, inplace = True)"
   ]
  },
  {
   "cell_type": "code",
   "execution_count": 705,
   "metadata": {},
   "outputs": [],
   "source": [
    "df = pd.merge(df, population[['County', 'State', 'Year_Month', 'Population']], \n",
    "              left_on = ['County', 'State', 'Year_Month3'], right_on = ['County', 'State', 'Year_Month'], how = 'left')\n",
    "df.drop('Year_Month', axis = 1, inplace = True)"
   ]
  },
  {
   "cell_type": "code",
   "execution_count": 706,
   "metadata": {},
   "outputs": [],
   "source": [
    "df = pd.merge(df, unemployment[['County', 'State', 'Year_Month', 'Unemployment']], \n",
    "             left_on = ['County', 'State', 'Year_Month2'], right_on = ['County', 'State', 'Year_Month'], how = 'left')\n",
    "df.drop('Year_Month', axis = 1, inplace = True)"
   ]
  },
  {
   "cell_type": "code",
   "execution_count": 707,
   "metadata": {},
   "outputs": [],
   "source": [
    "df = pd.merge(df, education[['County', 'State', 'Year_Month', 'Percent Bachelors']],\n",
    "              left_on = ['County', 'State', 'Year_Month3'], right_on = ['County', 'State', 'Year_Month'], how = 'left')\n",
    "df.drop('Year_Month', axis = 1, inplace = True)"
   ]
  },
  {
   "cell_type": "code",
   "execution_count": 708,
   "metadata": {},
   "outputs": [],
   "source": [
    "df = pd.merge(df, permits[['State', 'Units', 'Year_Month']], left_on = ['State', 'Year_Month2'], \n",
    "              right_on = ['State', 'Year_Month'], how = 'left')\n",
    "df.drop('Year_Month', axis = 1, inplace = True)"
   ]
  },
  {
   "cell_type": "code",
   "execution_count": 709,
   "metadata": {},
   "outputs": [],
   "source": [
    "df = pd.merge(df, IandH[['County', 'State', 'Year_Month', 'Total_Households', 'Med_income']], \n",
    "             left_on = ['County', 'State', 'Year_Month3'], right_on = ['County', 'State', 'Year_Month'], how = 'left')\n",
    "df.drop('Year_Month', axis = 1, inplace = True)"
   ]
  },
  {
   "cell_type": "code",
   "execution_count": 710,
   "metadata": {},
   "outputs": [],
   "source": [
    "df = pd.merge(df, pce[['PCE', 'Year_Month']], left_on = 'Year_Month2', right_on = 'Year_Month')\n",
    "df.drop('Year_Month', axis = 1, inplace = True)"
   ]
  },
  {
   "cell_type": "code",
   "execution_count": 711,
   "metadata": {},
   "outputs": [],
   "source": [
    "df = pd.merge(df, vacancy[['County', 'State', 'Year_Month', 'Rental Vacancy Rate']],\n",
    "              left_on = ['County', 'State', 'Year_Month3'], right_on = ['County', 'State', 'Year_Month'], how = 'left')\n",
    "df.drop('Year_Month', axis = 1, inplace = True)"
   ]
  },
  {
   "cell_type": "code",
   "execution_count": 712,
   "metadata": {},
   "outputs": [],
   "source": [
    "df = pd.merge(df, jobs[['State', 'Job Openings', 'Year_Month']], left_on = ['State', 'Year_Month2'], \n",
    "              right_on = ['State', 'Year_Month'], how = 'left')\n",
    "df.drop('Year_Month', axis = 1, inplace = True)"
   ]
  },
  {
   "cell_type": "code",
   "execution_count": 719,
   "metadata": {},
   "outputs": [],
   "source": [
    "df = pd.merge(df, commute_worker[['County', 'State', 'CommuteTime', 'Salwrkr', 'Govwrkr', 'Year_Month']],\n",
    "              left_on = ['County', 'State', 'Year_Month3'], right_on = ['County', 'State', 'Year_Month'], how = 'left')\n",
    "df.drop('Year_Month', axis = 1, inplace = True)"
   ]
  },
  {
   "cell_type": "code",
   "execution_count": 723,
   "metadata": {},
   "outputs": [],
   "source": [
    "df = pd.merge(df, grapi[['County', 'State', 'GRAPI', 'Year_Month']], left_on = ['County', 'State', 'Year_Month3'], \n",
    "              right_on = ['County', 'State', 'Year_Month'], how = 'left')\n",
    "df.drop('Year_Month', axis = 1, inplace = True)"
   ]
  },
  {
   "cell_type": "code",
   "execution_count": 725,
   "metadata": {},
   "outputs": [
    {
     "data": {
      "text/plain": [
       "Index(['ZipCode', 'County', 'State', 'ZORI_x', 'Year', 'Month', 'Year_Month_x',\n",
       "       'Year_Month2', 'Year_Month3', 'ZORI_y', 'ZHVI', 'HPI', 'AQI',\n",
       "       'Population', 'Unemployment', 'Percent Bachelors', 'Units',\n",
       "       'Total_Households', 'Med_income', 'PCE', 'Rental Vacancy Rate',\n",
       "       'Job Openings', 'CommuteTime', 'Salwrkr', 'Govwrkr', 'GRAPI'],\n",
       "      dtype='object')"
      ]
     },
     "execution_count": 725,
     "metadata": {},
     "output_type": "execute_result"
    }
   ],
   "source": [
    "df.columns"
   ]
  },
  {
   "cell_type": "code",
   "execution_count": 726,
   "metadata": {},
   "outputs": [],
   "source": [
    "df = df[['Year', 'Month', 'ZipCode', 'ZORI_x', 'ZORI_y', 'ZHVI', 'HPI', 'AQI', 'Population', 'Unemployment', \n",
    "         'Percent Bachelors', 'Units', 'Total_Households', 'Med_income', 'PCE', 'Rental Vacancy Rate', 'Job Openings', \n",
    "        'CommuteTime', 'Salwrkr', 'Govwrkr', 'GRAPI']]"
   ]
  },
  {
   "cell_type": "code",
   "execution_count": 727,
   "metadata": {},
   "outputs": [],
   "source": [
    "df.columns = ['Year', 'Month', 'ZipCode', 'ZORI', 'ZORI_lagged_1', 'ZHVI_lagged_1', 'HPI_lagged_2', 'AQI_lagged_1',\n",
    "              'Population_lagged_2', 'Unemployment_lagged_1', 'Percent Bachelors_lagged_2', 'Permits_lagged_1',\n",
    "              'Total_Households_lagged_2', 'Med_Income_lagged_2', 'PCE_lagged_1', 'Rental Vacancy Rate_lagged_2',\n",
    "              'Job Openings_lagged_1', 'CommuteTime_lagged_2', 'Salwrkr_lagged_2', 'Govwrkr_lagged_2', 'GRAPI_lagged_2']"
   ]
  },
  {
   "cell_type": "code",
   "execution_count": 728,
   "metadata": {},
   "outputs": [],
   "source": [
    "# df_clean = df.drop('ZORI_lagged_1', axis = 1)\n",
    "df_clean = df.copy()"
   ]
  },
  {
   "cell_type": "code",
   "execution_count": 729,
   "metadata": {},
   "outputs": [
    {
     "data": {
      "text/plain": [
       "Year                                0\n",
       "Month                               0\n",
       "ZipCode                             0\n",
       "ZORI                                0\n",
       "ZORI_lagged_1                   42156\n",
       "ZHVI_lagged_1                   10148\n",
       "HPI_lagged_2                    17192\n",
       "AQI_lagged_1                    21794\n",
       "Population_lagged_2              8690\n",
       "Unemployment_lagged_1            7458\n",
       "Percent Bachelors_lagged_2       8690\n",
       "Permits_lagged_1                   80\n",
       "Total_Households_lagged_2        8690\n",
       "Med_Income_lagged_2              8690\n",
       "PCE_lagged_1                        0\n",
       "Rental Vacancy Rate_lagged_2     8943\n",
       "Job Openings_lagged_1            1445\n",
       "CommuteTime_lagged_2             8690\n",
       "Salwrkr_lagged_2                 8690\n",
       "Govwrkr_lagged_2                 8690\n",
       "GRAPI_lagged_2                   8690\n",
       "dtype: int64"
      ]
     },
     "execution_count": 729,
     "metadata": {},
     "output_type": "execute_result"
    }
   ],
   "source": [
    "df_clean.isnull().sum(axis = 0) "
   ]
  },
  {
   "cell_type": "code",
   "execution_count": 730,
   "metadata": {},
   "outputs": [],
   "source": [
    "# Dropping all NaN values because data is not available in certain zipcodes and counties\n",
    "# These are missing data even after imputing. \n",
    "df_clean = df_clean[~df_clean['ZORI_lagged_1'].isnull()]\n",
    "df_clean = df_clean[~df_clean['ZHVI_lagged_1'].isnull()]\n",
    "df_clean = df_clean[~df_clean['HPI_lagged_2'].isnull()]\n",
    "df_clean = df_clean[~df_clean['AQI_lagged_1'].isnull()]\n",
    "df_clean = df_clean[~df_clean['Percent Bachelors_lagged_2'].isnull()]\n",
    "df_clean = df_clean[~df_clean['Rental Vacancy Rate_lagged_2'].isnull()]"
   ]
  },
  {
   "cell_type": "code",
   "execution_count": 731,
   "metadata": {},
   "outputs": [
    {
     "data": {
      "text/plain": [
       "Year                            0\n",
       "Month                           0\n",
       "ZipCode                         0\n",
       "ZORI                            0\n",
       "ZORI_lagged_1                   0\n",
       "ZHVI_lagged_1                   0\n",
       "HPI_lagged_2                    0\n",
       "AQI_lagged_1                    0\n",
       "Population_lagged_2             0\n",
       "Unemployment_lagged_1           0\n",
       "Percent Bachelors_lagged_2      0\n",
       "Permits_lagged_1                0\n",
       "Total_Households_lagged_2       0\n",
       "Med_Income_lagged_2             0\n",
       "PCE_lagged_1                    0\n",
       "Rental Vacancy Rate_lagged_2    0\n",
       "Job Openings_lagged_1           0\n",
       "CommuteTime_lagged_2            0\n",
       "Salwrkr_lagged_2                0\n",
       "Govwrkr_lagged_2                0\n",
       "GRAPI_lagged_2                  0\n",
       "dtype: int64"
      ]
     },
     "execution_count": 731,
     "metadata": {},
     "output_type": "execute_result"
    }
   ],
   "source": [
    "df_clean.isnull().sum(axis = 0) "
   ]
  },
  {
   "cell_type": "code",
   "execution_count": 732,
   "metadata": {},
   "outputs": [
    {
     "data": {
      "text/html": [
       "<div>\n",
       "<style scoped>\n",
       "    .dataframe tbody tr th:only-of-type {\n",
       "        vertical-align: middle;\n",
       "    }\n",
       "\n",
       "    .dataframe tbody tr th {\n",
       "        vertical-align: top;\n",
       "    }\n",
       "\n",
       "    .dataframe thead th {\n",
       "        text-align: right;\n",
       "    }\n",
       "</style>\n",
       "<table border=\"1\" class=\"dataframe\">\n",
       "  <thead>\n",
       "    <tr style=\"text-align: right;\">\n",
       "      <th></th>\n",
       "      <th>Year</th>\n",
       "      <th>Month</th>\n",
       "      <th>ZipCode</th>\n",
       "      <th>ZORI</th>\n",
       "      <th>ZORI_lagged_1</th>\n",
       "      <th>ZHVI_lagged_1</th>\n",
       "      <th>HPI_lagged_2</th>\n",
       "      <th>AQI_lagged_1</th>\n",
       "      <th>Population_lagged_2</th>\n",
       "      <th>Unemployment_lagged_1</th>\n",
       "      <th>...</th>\n",
       "      <th>Permits_lagged_1</th>\n",
       "      <th>Total_Households_lagged_2</th>\n",
       "      <th>Med_Income_lagged_2</th>\n",
       "      <th>PCE_lagged_1</th>\n",
       "      <th>Rental Vacancy Rate_lagged_2</th>\n",
       "      <th>Job Openings_lagged_1</th>\n",
       "      <th>CommuteTime_lagged_2</th>\n",
       "      <th>Salwrkr_lagged_2</th>\n",
       "      <th>Govwrkr_lagged_2</th>\n",
       "      <th>GRAPI_lagged_2</th>\n",
       "    </tr>\n",
       "  </thead>\n",
       "  <tbody>\n",
       "    <tr>\n",
       "      <th>33517</th>\n",
       "      <td>2015</td>\n",
       "      <td>2</td>\n",
       "      <td>60657</td>\n",
       "      <td>1643.0</td>\n",
       "      <td>1583.0</td>\n",
       "      <td>441010.0</td>\n",
       "      <td>147.81</td>\n",
       "      <td>59.571429</td>\n",
       "      <td>5240700.0</td>\n",
       "      <td>9.1</td>\n",
       "      <td>...</td>\n",
       "      <td>269.0</td>\n",
       "      <td>1939894.0</td>\n",
       "      <td>53827.0</td>\n",
       "      <td>1.455676</td>\n",
       "      <td>6.2</td>\n",
       "      <td>154.0</td>\n",
       "      <td>31.9</td>\n",
       "      <td>84.1</td>\n",
       "      <td>11.1</td>\n",
       "      <td>1468.8</td>\n",
       "    </tr>\n",
       "    <tr>\n",
       "      <th>33520</th>\n",
       "      <td>2015</td>\n",
       "      <td>2</td>\n",
       "      <td>60614</td>\n",
       "      <td>1808.0</td>\n",
       "      <td>1752.0</td>\n",
       "      <td>564138.0</td>\n",
       "      <td>134.51</td>\n",
       "      <td>59.571429</td>\n",
       "      <td>5240700.0</td>\n",
       "      <td>9.1</td>\n",
       "      <td>...</td>\n",
       "      <td>269.0</td>\n",
       "      <td>1939894.0</td>\n",
       "      <td>53827.0</td>\n",
       "      <td>1.455676</td>\n",
       "      <td>6.2</td>\n",
       "      <td>154.0</td>\n",
       "      <td>31.9</td>\n",
       "      <td>84.1</td>\n",
       "      <td>11.1</td>\n",
       "      <td>1468.8</td>\n",
       "    </tr>\n",
       "    <tr>\n",
       "      <th>33521</th>\n",
       "      <td>2015</td>\n",
       "      <td>2</td>\n",
       "      <td>77449</td>\n",
       "      <td>1361.0</td>\n",
       "      <td>1288.0</td>\n",
       "      <td>137129.0</td>\n",
       "      <td>119.96</td>\n",
       "      <td>50.571429</td>\n",
       "      <td>4336853.0</td>\n",
       "      <td>5.5</td>\n",
       "      <td>...</td>\n",
       "      <td>4368.0</td>\n",
       "      <td>1497363.0</td>\n",
       "      <td>52489.0</td>\n",
       "      <td>1.455676</td>\n",
       "      <td>8.2</td>\n",
       "      <td>374.0</td>\n",
       "      <td>28.1</td>\n",
       "      <td>83.7</td>\n",
       "      <td>9.8</td>\n",
       "      <td>1230.3</td>\n",
       "    </tr>\n",
       "    <tr>\n",
       "      <th>33523</th>\n",
       "      <td>2015</td>\n",
       "      <td>2</td>\n",
       "      <td>77084</td>\n",
       "      <td>1214.0</td>\n",
       "      <td>1123.0</td>\n",
       "      <td>136900.0</td>\n",
       "      <td>119.39</td>\n",
       "      <td>50.571429</td>\n",
       "      <td>4336853.0</td>\n",
       "      <td>5.5</td>\n",
       "      <td>...</td>\n",
       "      <td>4368.0</td>\n",
       "      <td>1497363.0</td>\n",
       "      <td>52489.0</td>\n",
       "      <td>1.455676</td>\n",
       "      <td>8.2</td>\n",
       "      <td>374.0</td>\n",
       "      <td>28.1</td>\n",
       "      <td>83.7</td>\n",
       "      <td>9.8</td>\n",
       "      <td>1230.3</td>\n",
       "    </tr>\n",
       "    <tr>\n",
       "      <th>33524</th>\n",
       "      <td>2015</td>\n",
       "      <td>2</td>\n",
       "      <td>79936</td>\n",
       "      <td>977.0</td>\n",
       "      <td>992.0</td>\n",
       "      <td>118388.0</td>\n",
       "      <td>141.34</td>\n",
       "      <td>42.571429</td>\n",
       "      <td>827718.0</td>\n",
       "      <td>7.0</td>\n",
       "      <td>...</td>\n",
       "      <td>4368.0</td>\n",
       "      <td>258587.0</td>\n",
       "      <td>39945.0</td>\n",
       "      <td>1.455676</td>\n",
       "      <td>8.5</td>\n",
       "      <td>374.0</td>\n",
       "      <td>23.0</td>\n",
       "      <td>72.7</td>\n",
       "      <td>20.4</td>\n",
       "      <td>234.6</td>\n",
       "    </tr>\n",
       "    <tr>\n",
       "      <th>...</th>\n",
       "      <td>...</td>\n",
       "      <td>...</td>\n",
       "      <td>...</td>\n",
       "      <td>...</td>\n",
       "      <td>...</td>\n",
       "      <td>...</td>\n",
       "      <td>...</td>\n",
       "      <td>...</td>\n",
       "      <td>...</td>\n",
       "      <td>...</td>\n",
       "      <td>...</td>\n",
       "      <td>...</td>\n",
       "      <td>...</td>\n",
       "      <td>...</td>\n",
       "      <td>...</td>\n",
       "      <td>...</td>\n",
       "      <td>...</td>\n",
       "      <td>...</td>\n",
       "      <td>...</td>\n",
       "      <td>...</td>\n",
       "      <td>...</td>\n",
       "    </tr>\n",
       "    <tr>\n",
       "      <th>247032</th>\n",
       "      <td>2020</td>\n",
       "      <td>9</td>\n",
       "      <td>92624</td>\n",
       "      <td>2897.0</td>\n",
       "      <td>3029.0</td>\n",
       "      <td>1050005.0</td>\n",
       "      <td>245.57</td>\n",
       "      <td>58.000000</td>\n",
       "      <td>3185968.0</td>\n",
       "      <td>2.5</td>\n",
       "      <td>...</td>\n",
       "      <td>5364.0</td>\n",
       "      <td>1040394.0</td>\n",
       "      <td>89759.0</td>\n",
       "      <td>1.721905</td>\n",
       "      <td>4.0</td>\n",
       "      <td>777.0</td>\n",
       "      <td>28.3</td>\n",
       "      <td>81.6</td>\n",
       "      <td>10.1</td>\n",
       "      <td>2.1</td>\n",
       "    </tr>\n",
       "    <tr>\n",
       "      <th>247033</th>\n",
       "      <td>2020</td>\n",
       "      <td>9</td>\n",
       "      <td>32266</td>\n",
       "      <td>2150.0</td>\n",
       "      <td>2098.0</td>\n",
       "      <td>455807.0</td>\n",
       "      <td>238.65</td>\n",
       "      <td>46.346154</td>\n",
       "      <td>950181.0</td>\n",
       "      <td>3.0</td>\n",
       "      <td>...</td>\n",
       "      <td>6613.0</td>\n",
       "      <td>367238.0</td>\n",
       "      <td>55832.0</td>\n",
       "      <td>1.721905</td>\n",
       "      <td>5.9</td>\n",
       "      <td>431.0</td>\n",
       "      <td>25.5</td>\n",
       "      <td>85.2</td>\n",
       "      <td>10.9</td>\n",
       "      <td>1.9</td>\n",
       "    </tr>\n",
       "    <tr>\n",
       "      <th>247035</th>\n",
       "      <td>2020</td>\n",
       "      <td>9</td>\n",
       "      <td>30288</td>\n",
       "      <td>1253.0</td>\n",
       "      <td>1140.0</td>\n",
       "      <td>134851.0</td>\n",
       "      <td>90.63</td>\n",
       "      <td>46.200000</td>\n",
       "      <td>289615.0</td>\n",
       "      <td>3.8</td>\n",
       "      <td>...</td>\n",
       "      <td>1059.0</td>\n",
       "      <td>96286.0</td>\n",
       "      <td>46646.0</td>\n",
       "      <td>1.721905</td>\n",
       "      <td>9.4</td>\n",
       "      <td>229.0</td>\n",
       "      <td>33.2</td>\n",
       "      <td>81.9</td>\n",
       "      <td>14.2</td>\n",
       "      <td>2.1</td>\n",
       "    </tr>\n",
       "    <tr>\n",
       "      <th>247037</th>\n",
       "      <td>2020</td>\n",
       "      <td>9</td>\n",
       "      <td>2466</td>\n",
       "      <td>2164.0</td>\n",
       "      <td>2162.0</td>\n",
       "      <td>960437.0</td>\n",
       "      <td>228.58</td>\n",
       "      <td>34.066667</td>\n",
       "      <td>1614714.0</td>\n",
       "      <td>2.2</td>\n",
       "      <td>...</td>\n",
       "      <td>371.0</td>\n",
       "      <td>612224.0</td>\n",
       "      <td>100517.0</td>\n",
       "      <td>1.721905</td>\n",
       "      <td>2.8</td>\n",
       "      <td>173.0</td>\n",
       "      <td>32.0</td>\n",
       "      <td>83.4</td>\n",
       "      <td>10.5</td>\n",
       "      <td>1.7</td>\n",
       "    </tr>\n",
       "    <tr>\n",
       "      <th>247050</th>\n",
       "      <td>2020</td>\n",
       "      <td>9</td>\n",
       "      <td>33306</td>\n",
       "      <td>1517.0</td>\n",
       "      <td>1473.0</td>\n",
       "      <td>337334.0</td>\n",
       "      <td>220.05</td>\n",
       "      <td>34.928571</td>\n",
       "      <td>1951260.0</td>\n",
       "      <td>2.8</td>\n",
       "      <td>...</td>\n",
       "      <td>6613.0</td>\n",
       "      <td>694980.0</td>\n",
       "      <td>57278.0</td>\n",
       "      <td>1.721905</td>\n",
       "      <td>7.0</td>\n",
       "      <td>431.0</td>\n",
       "      <td>28.7</td>\n",
       "      <td>83.2</td>\n",
       "      <td>10.6</td>\n",
       "      <td>2.4</td>\n",
       "    </tr>\n",
       "  </tbody>\n",
       "</table>\n",
       "<p>165993 rows × 21 columns</p>\n",
       "</div>"
      ],
      "text/plain": [
       "        Year  Month  ZipCode    ZORI  ZORI_lagged_1  ZHVI_lagged_1  \\\n",
       "33517   2015      2    60657  1643.0         1583.0       441010.0   \n",
       "33520   2015      2    60614  1808.0         1752.0       564138.0   \n",
       "33521   2015      2    77449  1361.0         1288.0       137129.0   \n",
       "33523   2015      2    77084  1214.0         1123.0       136900.0   \n",
       "33524   2015      2    79936   977.0          992.0       118388.0   \n",
       "...      ...    ...      ...     ...            ...            ...   \n",
       "247032  2020      9    92624  2897.0         3029.0      1050005.0   \n",
       "247033  2020      9    32266  2150.0         2098.0       455807.0   \n",
       "247035  2020      9    30288  1253.0         1140.0       134851.0   \n",
       "247037  2020      9     2466  2164.0         2162.0       960437.0   \n",
       "247050  2020      9    33306  1517.0         1473.0       337334.0   \n",
       "\n",
       "        HPI_lagged_2  AQI_lagged_1  Population_lagged_2  \\\n",
       "33517         147.81     59.571429            5240700.0   \n",
       "33520         134.51     59.571429            5240700.0   \n",
       "33521         119.96     50.571429            4336853.0   \n",
       "33523         119.39     50.571429            4336853.0   \n",
       "33524         141.34     42.571429             827718.0   \n",
       "...              ...           ...                  ...   \n",
       "247032        245.57     58.000000            3185968.0   \n",
       "247033        238.65     46.346154             950181.0   \n",
       "247035         90.63     46.200000             289615.0   \n",
       "247037        228.58     34.066667            1614714.0   \n",
       "247050        220.05     34.928571            1951260.0   \n",
       "\n",
       "        Unemployment_lagged_1  ...  Permits_lagged_1  \\\n",
       "33517                     9.1  ...             269.0   \n",
       "33520                     9.1  ...             269.0   \n",
       "33521                     5.5  ...            4368.0   \n",
       "33523                     5.5  ...            4368.0   \n",
       "33524                     7.0  ...            4368.0   \n",
       "...                       ...  ...               ...   \n",
       "247032                    2.5  ...            5364.0   \n",
       "247033                    3.0  ...            6613.0   \n",
       "247035                    3.8  ...            1059.0   \n",
       "247037                    2.2  ...             371.0   \n",
       "247050                    2.8  ...            6613.0   \n",
       "\n",
       "        Total_Households_lagged_2  Med_Income_lagged_2  PCE_lagged_1  \\\n",
       "33517                   1939894.0              53827.0      1.455676   \n",
       "33520                   1939894.0              53827.0      1.455676   \n",
       "33521                   1497363.0              52489.0      1.455676   \n",
       "33523                   1497363.0              52489.0      1.455676   \n",
       "33524                    258587.0              39945.0      1.455676   \n",
       "...                           ...                  ...           ...   \n",
       "247032                  1040394.0              89759.0      1.721905   \n",
       "247033                   367238.0              55832.0      1.721905   \n",
       "247035                    96286.0              46646.0      1.721905   \n",
       "247037                   612224.0             100517.0      1.721905   \n",
       "247050                   694980.0              57278.0      1.721905   \n",
       "\n",
       "        Rental Vacancy Rate_lagged_2  Job Openings_lagged_1  \\\n",
       "33517                            6.2                  154.0   \n",
       "33520                            6.2                  154.0   \n",
       "33521                            8.2                  374.0   \n",
       "33523                            8.2                  374.0   \n",
       "33524                            8.5                  374.0   \n",
       "...                              ...                    ...   \n",
       "247032                           4.0                  777.0   \n",
       "247033                           5.9                  431.0   \n",
       "247035                           9.4                  229.0   \n",
       "247037                           2.8                  173.0   \n",
       "247050                           7.0                  431.0   \n",
       "\n",
       "        CommuteTime_lagged_2  Salwrkr_lagged_2  Govwrkr_lagged_2  \\\n",
       "33517                   31.9              84.1              11.1   \n",
       "33520                   31.9              84.1              11.1   \n",
       "33521                   28.1              83.7               9.8   \n",
       "33523                   28.1              83.7               9.8   \n",
       "33524                   23.0              72.7              20.4   \n",
       "...                      ...               ...               ...   \n",
       "247032                  28.3              81.6              10.1   \n",
       "247033                  25.5              85.2              10.9   \n",
       "247035                  33.2              81.9              14.2   \n",
       "247037                  32.0              83.4              10.5   \n",
       "247050                  28.7              83.2              10.6   \n",
       "\n",
       "        GRAPI_lagged_2  \n",
       "33517           1468.8  \n",
       "33520           1468.8  \n",
       "33521           1230.3  \n",
       "33523           1230.3  \n",
       "33524            234.6  \n",
       "...                ...  \n",
       "247032             2.1  \n",
       "247033             1.9  \n",
       "247035             2.1  \n",
       "247037             1.7  \n",
       "247050             2.4  \n",
       "\n",
       "[165993 rows x 21 columns]"
      ]
     },
     "execution_count": 732,
     "metadata": {},
     "output_type": "execute_result"
    }
   ],
   "source": [
    "df_clean"
   ]
  },
  {
   "cell_type": "code",
   "execution_count": 733,
   "metadata": {},
   "outputs": [],
   "source": [
    "train_idx = np.random.choice(range(df_clean.shape[0]), round(df_clean.shape[0] * 0.75), replace = False)"
   ]
  },
  {
   "cell_type": "code",
   "execution_count": 734,
   "metadata": {},
   "outputs": [],
   "source": [
    "train = df_clean.iloc[train_idx, :]\n",
    "test = df_clean.iloc[list(set(range(df_clean.shape[0])) - set(train_idx)), :]"
   ]
  },
  {
   "cell_type": "markdown",
   "metadata": {},
   "source": [
    "## Intermediate Matrices for Merging Dataframes before Predicting"
   ]
  },
  {
   "cell_type": "code",
   "execution_count": 735,
   "metadata": {},
   "outputs": [],
   "source": [
    "prediction_start_month = 10\n",
    "prediction_start_year = 2020\n",
    "prediction_horizon_months = 12"
   ]
  },
  {
   "cell_type": "code",
   "execution_count": 736,
   "metadata": {},
   "outputs": [],
   "source": [
    "one_year_forecast_pred = pd.DataFrame({'Year': np.array(prediction_start_year).repeat(prediction_horizon_months), \n",
    "                                       'Month': np.arange(prediction_start_month, \n",
    "                                                          prediction_start_month + prediction_horizon_months)})\n",
    "one_year_forecast_pred['Year_Month'] = one_year_forecast_pred['Year'].map(str) + '_' +\\\n",
    "                                       one_year_forecast_pred['Month'].map(str)\n",
    "one_year_forecast_pred['Year_Month'] = one_year_forecast_pred['Year_Month'].map(lambda x: str(int(x[:4]) + 1) + '_' +\\\n",
    "                                                                                str(int(x[x.find('_') + 1:]) - 12) if \\\n",
    "                                                                                int(x[x.find('_') + 1:]) > 12 else x)\n",
    "one_year_forecast_pred['Year'] = one_year_forecast_pred['Year_Month'].map(lambda x: int(x[:4]))\n",
    "one_year_forecast_pred['Month'] = one_year_forecast_pred['Year_Month'].map(lambda x: int(x[x.find('_') + 1:]))\n",
    "one_year_forecast_pred = pd.concat([one_year_forecast_pred, \n",
    "                                    pd.DataFrame(one_year_forecast_pred['Year'].map(lambda year: year - 1))], \n",
    "                                   axis = 1)\n",
    "one_year_forecast_pred.columns = ['Year', 'Month', 'Year_Month', 'Year2']\n",
    "one_year_forecast_pred = pd.concat([one_year_forecast_pred, \n",
    "                                    pd.DataFrame(one_year_forecast_pred['Year'].map(lambda year: year - 2))], \n",
    "                                   axis = 1)\n",
    "one_year_forecast_pred.columns = ['Year', 'Month', 'Year_Month', 'Year2', 'Year3']\n",
    "one_year_forecast_pred['Year_Month2'] = one_year_forecast_pred['Year2'].map(str) + '_' +\\\n",
    "                                        one_year_forecast_pred['Month'].map(str)\n",
    "one_year_forecast_pred['Year_Month3'] = one_year_forecast_pred['Year3'].map(str) + '_' +\\\n",
    "                                        one_year_forecast_pred['Month'].map(str)\n",
    "one_year_forecast_pred = one_year_forecast_pred[['Year_Month', 'Year_Month2', 'Year_Month3']]"
   ]
  },
  {
   "cell_type": "code",
   "execution_count": 737,
   "metadata": {},
   "outputs": [
    {
     "data": {
      "text/html": [
       "<div>\n",
       "<style scoped>\n",
       "    .dataframe tbody tr th:only-of-type {\n",
       "        vertical-align: middle;\n",
       "    }\n",
       "\n",
       "    .dataframe tbody tr th {\n",
       "        vertical-align: top;\n",
       "    }\n",
       "\n",
       "    .dataframe thead th {\n",
       "        text-align: right;\n",
       "    }\n",
       "</style>\n",
       "<table border=\"1\" class=\"dataframe\">\n",
       "  <thead>\n",
       "    <tr style=\"text-align: right;\">\n",
       "      <th></th>\n",
       "      <th>Year_Month</th>\n",
       "      <th>Year_Month2</th>\n",
       "      <th>Year_Month3</th>\n",
       "    </tr>\n",
       "  </thead>\n",
       "  <tbody>\n",
       "    <tr>\n",
       "      <th>0</th>\n",
       "      <td>2020_10</td>\n",
       "      <td>2019_10</td>\n",
       "      <td>2018_10</td>\n",
       "    </tr>\n",
       "    <tr>\n",
       "      <th>1</th>\n",
       "      <td>2020_11</td>\n",
       "      <td>2019_11</td>\n",
       "      <td>2018_11</td>\n",
       "    </tr>\n",
       "    <tr>\n",
       "      <th>2</th>\n",
       "      <td>2020_12</td>\n",
       "      <td>2019_12</td>\n",
       "      <td>2018_12</td>\n",
       "    </tr>\n",
       "    <tr>\n",
       "      <th>3</th>\n",
       "      <td>2021_1</td>\n",
       "      <td>2020_1</td>\n",
       "      <td>2019_1</td>\n",
       "    </tr>\n",
       "    <tr>\n",
       "      <th>4</th>\n",
       "      <td>2021_2</td>\n",
       "      <td>2020_2</td>\n",
       "      <td>2019_2</td>\n",
       "    </tr>\n",
       "    <tr>\n",
       "      <th>5</th>\n",
       "      <td>2021_3</td>\n",
       "      <td>2020_3</td>\n",
       "      <td>2019_3</td>\n",
       "    </tr>\n",
       "    <tr>\n",
       "      <th>6</th>\n",
       "      <td>2021_4</td>\n",
       "      <td>2020_4</td>\n",
       "      <td>2019_4</td>\n",
       "    </tr>\n",
       "    <tr>\n",
       "      <th>7</th>\n",
       "      <td>2021_5</td>\n",
       "      <td>2020_5</td>\n",
       "      <td>2019_5</td>\n",
       "    </tr>\n",
       "    <tr>\n",
       "      <th>8</th>\n",
       "      <td>2021_6</td>\n",
       "      <td>2020_6</td>\n",
       "      <td>2019_6</td>\n",
       "    </tr>\n",
       "    <tr>\n",
       "      <th>9</th>\n",
       "      <td>2021_7</td>\n",
       "      <td>2020_7</td>\n",
       "      <td>2019_7</td>\n",
       "    </tr>\n",
       "    <tr>\n",
       "      <th>10</th>\n",
       "      <td>2021_8</td>\n",
       "      <td>2020_8</td>\n",
       "      <td>2019_8</td>\n",
       "    </tr>\n",
       "    <tr>\n",
       "      <th>11</th>\n",
       "      <td>2021_9</td>\n",
       "      <td>2020_9</td>\n",
       "      <td>2019_9</td>\n",
       "    </tr>\n",
       "  </tbody>\n",
       "</table>\n",
       "</div>"
      ],
      "text/plain": [
       "   Year_Month Year_Month2 Year_Month3\n",
       "0     2020_10     2019_10     2018_10\n",
       "1     2020_11     2019_11     2018_11\n",
       "2     2020_12     2019_12     2018_12\n",
       "3      2021_1      2020_1      2019_1\n",
       "4      2021_2      2020_2      2019_2\n",
       "5      2021_3      2020_3      2019_3\n",
       "6      2021_4      2020_4      2019_4\n",
       "7      2021_5      2020_5      2019_5\n",
       "8      2021_6      2020_6      2019_6\n",
       "9      2021_7      2020_7      2019_7\n",
       "10     2021_8      2020_8      2019_8\n",
       "11     2021_9      2020_9      2019_9"
      ]
     },
     "execution_count": 737,
     "metadata": {},
     "output_type": "execute_result"
    }
   ],
   "source": [
    "one_year_forecast_pred"
   ]
  },
  {
   "cell_type": "markdown",
   "metadata": {},
   "source": [
    "## Final DataFrame for Prediction"
   ]
  },
  {
   "cell_type": "code",
   "execution_count": 738,
   "metadata": {},
   "outputs": [],
   "source": [
    "df_pred = zori.copy()\n",
    "df_pred = pd.merge(df_pred, one_year_forecast_pred, left_on = 'Year_Month', right_on = 'Year_Month2')\n",
    "df_pred.drop('Year_Month_x', axis = 1, inplace = True)\n",
    "df_pred['Year'] = df_pred['Year'] + 1"
   ]
  },
  {
   "cell_type": "code",
   "execution_count": 739,
   "metadata": {},
   "outputs": [],
   "source": [
    "df_pred = pd.merge(df_pred, zhvi[['Year_Month', 'ZipCode', 'ZHVI']], left_on = ['Year_Month2', 'ZipCode'],\n",
    "                   right_on = ['Year_Month', 'ZipCode'], how = 'left')\n",
    "df_pred.drop('Year_Month', axis = 1, inplace = True)"
   ]
  },
  {
   "cell_type": "code",
   "execution_count": 740,
   "metadata": {},
   "outputs": [],
   "source": [
    "df_pred = pd.merge(df_pred, hpi[['Year_Month', 'ZipCode', 'HPI']], left_on = ['Year_Month3', 'ZipCode'],\n",
    "                   right_on = ['Year_Month', 'ZipCode'], how = 'left')\n",
    "df_pred.drop('Year_Month', axis = 1, inplace = True)"
   ]
  },
  {
   "cell_type": "code",
   "execution_count": 741,
   "metadata": {},
   "outputs": [],
   "source": [
    "df_pred = pd.merge(df_pred, airq[['County', 'State', 'Year_Month', 'AQI']], left_on = ['County', 'State', 'Year_Month2'],\n",
    "                   right_on = ['County', 'State', 'Year_Month'], how = 'left')\n",
    "df_pred.drop('Year_Month', axis = 1, inplace = True)"
   ]
  },
  {
   "cell_type": "code",
   "execution_count": 742,
   "metadata": {},
   "outputs": [],
   "source": [
    "df_pred = pd.merge(df_pred, population[['County', 'State', 'Year_Month', 'Population']], \n",
    "                   left_on = ['County', 'State', 'Year_Month3'], right_on = ['County', 'State', 'Year_Month'], how = 'left')\n",
    "df_pred.drop('Year_Month', axis = 1, inplace = True)"
   ]
  },
  {
   "cell_type": "code",
   "execution_count": 743,
   "metadata": {},
   "outputs": [],
   "source": [
    "df_pred = pd.merge(df_pred, unemployment[['County', 'State', 'Year_Month', 'Unemployment']], \n",
    "                   left_on = ['County', 'State', 'Year_Month2'], right_on = ['County', 'State', 'Year_Month'], how = 'left')\n",
    "df_pred.drop('Year_Month', axis = 1, inplace = True)"
   ]
  },
  {
   "cell_type": "code",
   "execution_count": 744,
   "metadata": {},
   "outputs": [],
   "source": [
    "df_pred = pd.merge(df_pred, education[['County', 'State', 'Year_Month', 'Percent Bachelors']],\n",
    "                   left_on = ['County', 'State', 'Year_Month3'], right_on = ['County', 'State', 'Year_Month'], how = 'left')\n",
    "df_pred.drop('Year_Month', axis = 1, inplace = True)"
   ]
  },
  {
   "cell_type": "code",
   "execution_count": 745,
   "metadata": {},
   "outputs": [],
   "source": [
    "df_pred = pd.merge(df_pred, permits[['State', 'Units', 'Year_Month']], left_on = ['State', 'Year_Month2'], \n",
    "                   right_on = ['State', 'Year_Month'], how = 'left')\n",
    "df_pred.drop('Year_Month', axis = 1, inplace = True)"
   ]
  },
  {
   "cell_type": "code",
   "execution_count": 746,
   "metadata": {},
   "outputs": [],
   "source": [
    "df_pred = pd.merge(df_pred, IandH[['County', 'State', 'Year_Month', 'Total_Households', 'Med_income']], \n",
    "                   left_on = ['County', 'State', 'Year_Month3'], right_on = ['County', 'State', 'Year_Month'], how = 'left')\n",
    "df_pred.drop('Year_Month', axis = 1, inplace = True)"
   ]
  },
  {
   "cell_type": "code",
   "execution_count": 747,
   "metadata": {},
   "outputs": [],
   "source": [
    "df_pred = pd.merge(df_pred, pce[['PCE', 'Year_Month']], left_on = 'Year_Month2', right_on = 'Year_Month')\n",
    "df_pred.drop('Year_Month', axis = 1, inplace = True)"
   ]
  },
  {
   "cell_type": "code",
   "execution_count": 748,
   "metadata": {},
   "outputs": [],
   "source": [
    "df_pred = pd.merge(df_pred, vacancy[['County', 'State', 'Year_Month', 'Rental Vacancy Rate']],\n",
    "                   left_on = ['County', 'State', 'Year_Month3'], right_on = ['County', 'State', 'Year_Month'], how = 'left')\n",
    "df_pred.drop('Year_Month', axis = 1, inplace = True)"
   ]
  },
  {
   "cell_type": "code",
   "execution_count": 749,
   "metadata": {},
   "outputs": [],
   "source": [
    "df_pred = pd.merge(df_pred, jobs[['State', 'Job Openings', 'Year_Month']], left_on = ['State', 'Year_Month2'], \n",
    "                   right_on = ['State', 'Year_Month'], how = 'left')\n",
    "df_pred.drop('Year_Month', axis = 1, inplace = True)"
   ]
  },
  {
   "cell_type": "code",
   "execution_count": 754,
   "metadata": {},
   "outputs": [],
   "source": [
    "df_pred = pd.merge(df_pred, commute_worker[['County', 'State', 'CommuteTime', 'Salwrkr', 'Govwrkr', 'Year_Month']],\n",
    "                   left_on = ['County', 'State', 'Year_Month3'], right_on = ['County', 'State', 'Year_Month'], how = 'left')\n",
    "df_pred.drop('Year_Month', axis = 1, inplace = True)"
   ]
  },
  {
   "cell_type": "code",
   "execution_count": 758,
   "metadata": {},
   "outputs": [],
   "source": [
    "df_pred = pd.merge(df_pred, grapi[['County', 'State', 'GRAPI', 'Year_Month']],\n",
    "                   left_on = ['County', 'State', 'Year_Month3'], right_on = ['County', 'State', 'Year_Month'], how = 'left')\n",
    "df_pred.drop('Year_Month', axis = 1, inplace = True)"
   ]
  },
  {
   "cell_type": "code",
   "execution_count": 761,
   "metadata": {},
   "outputs": [],
   "source": [
    "df_pred = df_pred[['Year', 'Month', 'ZipCode', 'ZORI', 'ZHVI', 'HPI', 'AQI', 'Population', 'Unemployment',\n",
    "                   'Percent Bachelors', 'Units', 'Total_Households', 'Med_income', 'PCE', 'Rental Vacancy Rate',\n",
    "                   'Job Openings', 'CommuteTime', 'Salwrkr', 'Govwrkr', 'GRAPI']]"
   ]
  },
  {
   "cell_type": "code",
   "execution_count": 762,
   "metadata": {},
   "outputs": [],
   "source": [
    "df_pred.columns = ['Year', 'Month', 'ZipCode', 'ZORI_lagged_1', 'ZHVI_lagged_1', 'HPI_lagged_2', 'AQI_lagged_1',\n",
    "                  'Population_lagged_2', 'Unemployment_lagged_1', 'Percent Bachelors_lagged_2', 'Permits_lagged_1',\n",
    "                  'Total_Households_lagged_2', 'Med_Income_lagged_2', 'PCE_lagged_1', 'Rental Vacancy Rate_lagged_2',\n",
    "                  'Job Openings_lagged_1', 'CommuteTime_lagged_2', 'Salwrkr_lagged_2', 'Govwrkr_lagged_2', \n",
    "                   'GRAPI_lagged_2']"
   ]
  },
  {
   "cell_type": "code",
   "execution_count": 763,
   "metadata": {},
   "outputs": [
    {
     "data": {
      "text/plain": [
       "Year                               0\n",
       "Month                              0\n",
       "ZipCode                            0\n",
       "ZORI_lagged_1                    765\n",
       "ZHVI_lagged_1                   1584\n",
       "HPI_lagged_2                    2868\n",
       "AQI_lagged_1                    3384\n",
       "Population_lagged_2             1332\n",
       "Unemployment_lagged_1           1152\n",
       "Percent Bachelors_lagged_2      1332\n",
       "Permits_lagged_1                  12\n",
       "Total_Households_lagged_2       1332\n",
       "Med_Income_lagged_2             1332\n",
       "PCE_lagged_1                       0\n",
       "Rental Vacancy Rate_lagged_2    1395\n",
       "Job Openings_lagged_1           9963\n",
       "CommuteTime_lagged_2            1332\n",
       "Salwrkr_lagged_2                1332\n",
       "Govwrkr_lagged_2                1332\n",
       "GRAPI_lagged_2                  1332\n",
       "dtype: int64"
      ]
     },
     "execution_count": 763,
     "metadata": {},
     "output_type": "execute_result"
    }
   ],
   "source": [
    "df_pred.isnull().sum(axis = 0)"
   ]
  },
  {
   "cell_type": "code",
   "execution_count": 764,
   "metadata": {},
   "outputs": [],
   "source": [
    "df_pred = df_pred[~df_pred['ZORI_lagged_1'].isnull()]\n",
    "df_pred = df_pred[~df_pred['ZHVI_lagged_1'].isnull()]\n",
    "df_pred = df_pred[~df_pred['HPI_lagged_2'].isnull()]\n",
    "df_pred = df_pred[~df_pred['HPI_lagged_2'].isnull()]\n",
    "df_pred = df_pred[~df_pred['AQI_lagged_1'].isnull()]\n",
    "df_pred = df_pred[~df_pred['Population_lagged_2'].isnull()]\n",
    "df_pred = df_pred[~df_pred['Permits_lagged_1'].isnull()]\n",
    "df_pred = df_pred[~df_pred['Rental Vacancy Rate_lagged_2'].isnull()]\n",
    "df_pred = df_pred[~df_pred['Job Openings_lagged_1'].isnull()]"
   ]
  },
  {
   "cell_type": "code",
   "execution_count": 765,
   "metadata": {},
   "outputs": [
    {
     "data": {
      "text/plain": [
       "Year                            0\n",
       "Month                           0\n",
       "ZipCode                         0\n",
       "ZORI_lagged_1                   0\n",
       "ZHVI_lagged_1                   0\n",
       "HPI_lagged_2                    0\n",
       "AQI_lagged_1                    0\n",
       "Population_lagged_2             0\n",
       "Unemployment_lagged_1           0\n",
       "Percent Bachelors_lagged_2      0\n",
       "Permits_lagged_1                0\n",
       "Total_Households_lagged_2       0\n",
       "Med_Income_lagged_2             0\n",
       "PCE_lagged_1                    0\n",
       "Rental Vacancy Rate_lagged_2    0\n",
       "Job Openings_lagged_1           0\n",
       "CommuteTime_lagged_2            0\n",
       "Salwrkr_lagged_2                0\n",
       "Govwrkr_lagged_2                0\n",
       "GRAPI_lagged_2                  0\n",
       "dtype: int64"
      ]
     },
     "execution_count": 765,
     "metadata": {},
     "output_type": "execute_result"
    }
   ],
   "source": [
    "df_pred.isnull().sum(axis = 0)"
   ]
  },
  {
   "cell_type": "markdown",
   "metadata": {},
   "source": [
    "## Multiple Linear Regression on ZORI"
   ]
  },
  {
   "cell_type": "code",
   "execution_count": 767,
   "metadata": {},
   "outputs": [
    {
     "data": {
      "text/plain": [
       "0.9941934977567316"
      ]
     },
     "execution_count": 767,
     "metadata": {},
     "output_type": "execute_result"
    }
   ],
   "source": [
    "regression = LinearRegression()\n",
    "regression.fit(train.iloc[:, 4:], train.iloc[:, 3])\n",
    "regression.score(train.iloc[:, 4:], train.iloc[:, 3])"
   ]
  },
  {
   "cell_type": "code",
   "execution_count": 769,
   "metadata": {},
   "outputs": [
    {
     "data": {
      "text/plain": [
       "0.9942819175235297"
      ]
     },
     "execution_count": 769,
     "metadata": {},
     "output_type": "execute_result"
    }
   ],
   "source": [
    "r2_score(test.iloc[:, 3], regression.predict(test.iloc[:, 4:]))"
   ]
  },
  {
   "cell_type": "code",
   "execution_count": 771,
   "metadata": {},
   "outputs": [
    {
     "data": {
      "text/plain": [
       "LinearRegression()"
      ]
     },
     "execution_count": 771,
     "metadata": {},
     "output_type": "execute_result"
    }
   ],
   "source": [
    "# Refit using the entire dataset\n",
    "regression.fit(df_clean.iloc[:, 4:], df_clean.iloc[:, 3])"
   ]
  },
  {
   "cell_type": "code",
   "execution_count": 772,
   "metadata": {},
   "outputs": [],
   "source": [
    "# Prediction on ZipCode of 77084 (randomly chosen)\n",
    "zipcode = 77084\n",
    "df_pred_zipcode = df_pred[df_pred['ZipCode'] == zipcode]\n",
    "pred_MLR = regression.predict(df_pred_zipcode.iloc[:, 3:])"
   ]
  },
  {
   "cell_type": "code",
   "execution_count": 773,
   "metadata": {},
   "outputs": [],
   "source": [
    "pred_MLR = pd.DataFrame({'Year': df_pred_zipcode['Year'], 'Month': df_pred_zipcode['Month'], \n",
    "                     'ZORI_MLR': pred_MLR}).reset_index().drop('index', axis = 1)\n",
    "pred_MLR['Year_Month'] = pred_MLR['Year'].map(str) + '_' + pred_MLR['Month'].map(str)\n",
    "pred_MLR = pred_MLR[['Year_Month', 'ZORI_MLR']]\n",
    "pred_MLR['Year_Month'] = pd.to_datetime(pred_MLR['Year_Month'], format = '%Y_%m')"
   ]
  },
  {
   "cell_type": "code",
   "execution_count": 774,
   "metadata": {},
   "outputs": [],
   "source": [
    "actual = zori[zori['ZipCode'] == zipcode][['Year_Month', 'ZORI']]\n",
    "actual['Year_Month'] = pd.to_datetime(actual['Year_Month'], format = '%Y_%m')"
   ]
  },
  {
   "cell_type": "code",
   "execution_count": 775,
   "metadata": {},
   "outputs": [
    {
     "data": {
      "image/png": "[encoded data removed]",
      "text/plain": [
       "<Figure size 432x288 with 1 Axes>"
      ]
     },
     "metadata": {
      "needs_background": "light"
     },
     "output_type": "display_data"
    }
   ],
   "source": [
    "sns.lineplot(x = 'Year_Month', y = 'ZORI', data = actual)\n",
    "sns.lineplot(x = 'Year_Month', y = 'ZORI_MLR', data = pred_MLR)\n",
    "plt.title(f'ZORI for {zipcode}');"
   ]
  },
  {
   "cell_type": "code",
   "execution_count": 776,
   "metadata": {},
   "outputs": [],
   "source": [
    "mutual_scores = mutual_info_regression(train.iloc[:, 4:], train.iloc[:, 3])"
   ]
  },
  {
   "cell_type": "code",
   "execution_count": 777,
   "metadata": {},
   "outputs": [
    {
     "data": {
      "text/html": [
       "<div>\n",
       "<style scoped>\n",
       "    .dataframe tbody tr th:only-of-type {\n",
       "        vertical-align: middle;\n",
       "    }\n",
       "\n",
       "    .dataframe tbody tr th {\n",
       "        vertical-align: top;\n",
       "    }\n",
       "\n",
       "    .dataframe thead th {\n",
       "        text-align: right;\n",
       "    }\n",
       "</style>\n",
       "<table border=\"1\" class=\"dataframe\">\n",
       "  <thead>\n",
       "    <tr style=\"text-align: right;\">\n",
       "      <th></th>\n",
       "      <th>mutual information scores</th>\n",
       "    </tr>\n",
       "  </thead>\n",
       "  <tbody>\n",
       "    <tr>\n",
       "      <th>ZORI_lagged_1</th>\n",
       "      <td>2.587809</td>\n",
       "    </tr>\n",
       "    <tr>\n",
       "      <th>ZHVI_lagged_1</th>\n",
       "      <td>0.842684</td>\n",
       "    </tr>\n",
       "    <tr>\n",
       "      <th>HPI_lagged_2</th>\n",
       "      <td>0.625384</td>\n",
       "    </tr>\n",
       "    <tr>\n",
       "      <th>Med_Income_lagged_2</th>\n",
       "      <td>0.623087</td>\n",
       "    </tr>\n",
       "    <tr>\n",
       "      <th>CommuteTime_lagged_2</th>\n",
       "      <td>0.456232</td>\n",
       "    </tr>\n",
       "    <tr>\n",
       "      <th>Population_lagged_2</th>\n",
       "      <td>0.450117</td>\n",
       "    </tr>\n",
       "    <tr>\n",
       "      <th>Total_Households_lagged_2</th>\n",
       "      <td>0.446991</td>\n",
       "    </tr>\n",
       "    <tr>\n",
       "      <th>Percent Bachelors_lagged_2</th>\n",
       "      <td>0.415692</td>\n",
       "    </tr>\n",
       "    <tr>\n",
       "      <th>Salwrkr_lagged_2</th>\n",
       "      <td>0.378079</td>\n",
       "    </tr>\n",
       "    <tr>\n",
       "      <th>Rental Vacancy Rate_lagged_2</th>\n",
       "      <td>0.317929</td>\n",
       "    </tr>\n",
       "    <tr>\n",
       "      <th>Govwrkr_lagged_2</th>\n",
       "      <td>0.308547</td>\n",
       "    </tr>\n",
       "    <tr>\n",
       "      <th>GRAPI_lagged_2</th>\n",
       "      <td>0.276022</td>\n",
       "    </tr>\n",
       "    <tr>\n",
       "      <th>Job Openings_lagged_1</th>\n",
       "      <td>0.239348</td>\n",
       "    </tr>\n",
       "    <tr>\n",
       "      <th>Permits_lagged_1</th>\n",
       "      <td>0.174380</td>\n",
       "    </tr>\n",
       "    <tr>\n",
       "      <th>AQI_lagged_1</th>\n",
       "      <td>0.060166</td>\n",
       "    </tr>\n",
       "    <tr>\n",
       "      <th>Unemployment_lagged_1</th>\n",
       "      <td>0.053913</td>\n",
       "    </tr>\n",
       "    <tr>\n",
       "      <th>PCE_lagged_1</th>\n",
       "      <td>0.017185</td>\n",
       "    </tr>\n",
       "  </tbody>\n",
       "</table>\n",
       "</div>"
      ],
      "text/plain": [
       "                              mutual information scores\n",
       "ZORI_lagged_1                                  2.587809\n",
       "ZHVI_lagged_1                                  0.842684\n",
       "HPI_lagged_2                                   0.625384\n",
       "Med_Income_lagged_2                            0.623087\n",
       "CommuteTime_lagged_2                           0.456232\n",
       "Population_lagged_2                            0.450117\n",
       "Total_Households_lagged_2                      0.446991\n",
       "Percent Bachelors_lagged_2                     0.415692\n",
       "Salwrkr_lagged_2                               0.378079\n",
       "Rental Vacancy Rate_lagged_2                   0.317929\n",
       "Govwrkr_lagged_2                               0.308547\n",
       "GRAPI_lagged_2                                 0.276022\n",
       "Job Openings_lagged_1                          0.239348\n",
       "Permits_lagged_1                               0.174380\n",
       "AQI_lagged_1                                   0.060166\n",
       "Unemployment_lagged_1                          0.053913\n",
       "PCE_lagged_1                                   0.017185"
      ]
     },
     "execution_count": 777,
     "metadata": {},
     "output_type": "execute_result"
    }
   ],
   "source": [
    "mutual_score_values = pd.Series(mutual_scores, index = train.iloc[:, 4:].columns).sort_values(ascending = False)\n",
    "pd.DataFrame(mutual_score_values, columns = ['mutual information scores'])"
   ]
  },
  {
   "cell_type": "code",
   "execution_count": 778,
   "metadata": {},
   "outputs": [
    {
     "data": {
      "text/html": [
       "<div>\n",
       "<style scoped>\n",
       "    .dataframe tbody tr th:only-of-type {\n",
       "        vertical-align: middle;\n",
       "    }\n",
       "\n",
       "    .dataframe tbody tr th {\n",
       "        vertical-align: top;\n",
       "    }\n",
       "\n",
       "    .dataframe thead th {\n",
       "        text-align: right;\n",
       "    }\n",
       "</style>\n",
       "<table border=\"1\" class=\"dataframe\">\n",
       "  <thead>\n",
       "    <tr style=\"text-align: right;\">\n",
       "      <th></th>\n",
       "      <th>ZORI_lagged_1</th>\n",
       "      <th>ZHVI_lagged_1</th>\n",
       "      <th>HPI_lagged_2</th>\n",
       "      <th>AQI_lagged_1</th>\n",
       "      <th>Population_lagged_2</th>\n",
       "      <th>Unemployment_lagged_1</th>\n",
       "      <th>Percent Bachelors_lagged_2</th>\n",
       "      <th>Permits_lagged_1</th>\n",
       "      <th>Total_Households_lagged_2</th>\n",
       "      <th>Med_Income_lagged_2</th>\n",
       "      <th>PCE_lagged_1</th>\n",
       "      <th>Rental Vacancy Rate_lagged_2</th>\n",
       "      <th>Job Openings_lagged_1</th>\n",
       "      <th>CommuteTime_lagged_2</th>\n",
       "      <th>Salwrkr_lagged_2</th>\n",
       "      <th>Govwrkr_lagged_2</th>\n",
       "      <th>GRAPI_lagged_2</th>\n",
       "    </tr>\n",
       "  </thead>\n",
       "  <tbody>\n",
       "    <tr>\n",
       "      <th>0.001</th>\n",
       "      <td>539.484495</td>\n",
       "      <td>5.231816</td>\n",
       "      <td>-1.686606</td>\n",
       "      <td>1.766409</td>\n",
       "      <td>-0.0</td>\n",
       "      <td>4.190989</td>\n",
       "      <td>-0.0</td>\n",
       "      <td>3.494515</td>\n",
       "      <td>-1.633439</td>\n",
       "      <td>-2.809954</td>\n",
       "      <td>0.0</td>\n",
       "      <td>-8.027545</td>\n",
       "      <td>0.000000</td>\n",
       "      <td>-1.474960</td>\n",
       "      <td>-11.445672</td>\n",
       "      <td>-11.797239</td>\n",
       "      <td>6.132431</td>\n",
       "    </tr>\n",
       "    <tr>\n",
       "      <th>0.002</th>\n",
       "      <td>538.914430</td>\n",
       "      <td>5.036868</td>\n",
       "      <td>-0.277999</td>\n",
       "      <td>1.399497</td>\n",
       "      <td>-0.0</td>\n",
       "      <td>4.434906</td>\n",
       "      <td>-0.0</td>\n",
       "      <td>3.865812</td>\n",
       "      <td>-0.000000</td>\n",
       "      <td>-1.914234</td>\n",
       "      <td>-0.0</td>\n",
       "      <td>-7.606073</td>\n",
       "      <td>0.308446</td>\n",
       "      <td>-1.545416</td>\n",
       "      <td>-4.224094</td>\n",
       "      <td>-4.725127</td>\n",
       "      <td>5.943104</td>\n",
       "    </tr>\n",
       "    <tr>\n",
       "      <th>0.003</th>\n",
       "      <td>538.402916</td>\n",
       "      <td>5.240320</td>\n",
       "      <td>-0.000000</td>\n",
       "      <td>1.551891</td>\n",
       "      <td>0.0</td>\n",
       "      <td>4.154371</td>\n",
       "      <td>-0.0</td>\n",
       "      <td>3.840934</td>\n",
       "      <td>0.000000</td>\n",
       "      <td>-1.548073</td>\n",
       "      <td>-0.0</td>\n",
       "      <td>-7.219416</td>\n",
       "      <td>0.934741</td>\n",
       "      <td>-1.047644</td>\n",
       "      <td>-0.000000</td>\n",
       "      <td>-0.580907</td>\n",
       "      <td>6.121556</td>\n",
       "    </tr>\n",
       "    <tr>\n",
       "      <th>0.004</th>\n",
       "      <td>537.648930</td>\n",
       "      <td>5.225842</td>\n",
       "      <td>-0.000000</td>\n",
       "      <td>1.531285</td>\n",
       "      <td>0.0</td>\n",
       "      <td>3.787991</td>\n",
       "      <td>-0.0</td>\n",
       "      <td>3.586424</td>\n",
       "      <td>0.000000</td>\n",
       "      <td>-1.018015</td>\n",
       "      <td>-0.0</td>\n",
       "      <td>-6.655722</td>\n",
       "      <td>1.055682</td>\n",
       "      <td>-0.384835</td>\n",
       "      <td>-0.000000</td>\n",
       "      <td>-0.406327</td>\n",
       "      <td>6.089612</td>\n",
       "    </tr>\n",
       "    <tr>\n",
       "      <th>0.005</th>\n",
       "      <td>536.987690</td>\n",
       "      <td>5.172029</td>\n",
       "      <td>-0.000000</td>\n",
       "      <td>1.497615</td>\n",
       "      <td>0.0</td>\n",
       "      <td>3.489742</td>\n",
       "      <td>-0.0</td>\n",
       "      <td>3.343353</td>\n",
       "      <td>0.000000</td>\n",
       "      <td>-0.413632</td>\n",
       "      <td>-0.0</td>\n",
       "      <td>-6.126574</td>\n",
       "      <td>1.205280</td>\n",
       "      <td>-0.000000</td>\n",
       "      <td>-0.000000</td>\n",
       "      <td>-0.210113</td>\n",
       "      <td>6.051751</td>\n",
       "    </tr>\n",
       "    <tr>\n",
       "      <th>0.006</th>\n",
       "      <td>536.622537</td>\n",
       "      <td>5.046750</td>\n",
       "      <td>0.000000</td>\n",
       "      <td>1.412121</td>\n",
       "      <td>0.0</td>\n",
       "      <td>3.219616</td>\n",
       "      <td>-0.0</td>\n",
       "      <td>3.075926</td>\n",
       "      <td>0.000000</td>\n",
       "      <td>-0.000000</td>\n",
       "      <td>-0.0</td>\n",
       "      <td>-5.719128</td>\n",
       "      <td>1.380290</td>\n",
       "      <td>-0.000000</td>\n",
       "      <td>-0.000000</td>\n",
       "      <td>-0.000000</td>\n",
       "      <td>5.990902</td>\n",
       "    </tr>\n",
       "    <tr>\n",
       "      <th>0.007</th>\n",
       "      <td>536.392910</td>\n",
       "      <td>4.994513</td>\n",
       "      <td>0.000000</td>\n",
       "      <td>1.290426</td>\n",
       "      <td>0.0</td>\n",
       "      <td>2.823669</td>\n",
       "      <td>-0.0</td>\n",
       "      <td>2.722483</td>\n",
       "      <td>0.000000</td>\n",
       "      <td>-0.000000</td>\n",
       "      <td>-0.0</td>\n",
       "      <td>-5.418134</td>\n",
       "      <td>1.529070</td>\n",
       "      <td>-0.000000</td>\n",
       "      <td>-0.000000</td>\n",
       "      <td>-0.000000</td>\n",
       "      <td>5.907137</td>\n",
       "    </tr>\n",
       "    <tr>\n",
       "      <th>0.008</th>\n",
       "      <td>536.165347</td>\n",
       "      <td>4.940753</td>\n",
       "      <td>0.000000</td>\n",
       "      <td>1.168741</td>\n",
       "      <td>0.0</td>\n",
       "      <td>2.427528</td>\n",
       "      <td>-0.0</td>\n",
       "      <td>2.367452</td>\n",
       "      <td>0.000000</td>\n",
       "      <td>-0.000000</td>\n",
       "      <td>-0.0</td>\n",
       "      <td>-5.116642</td>\n",
       "      <td>1.678808</td>\n",
       "      <td>-0.000000</td>\n",
       "      <td>-0.000000</td>\n",
       "      <td>-0.000000</td>\n",
       "      <td>5.823685</td>\n",
       "    </tr>\n",
       "    <tr>\n",
       "      <th>0.009</th>\n",
       "      <td>535.939926</td>\n",
       "      <td>4.885337</td>\n",
       "      <td>0.000000</td>\n",
       "      <td>1.046988</td>\n",
       "      <td>0.0</td>\n",
       "      <td>2.031086</td>\n",
       "      <td>-0.0</td>\n",
       "      <td>2.010131</td>\n",
       "      <td>0.000000</td>\n",
       "      <td>-0.000000</td>\n",
       "      <td>-0.0</td>\n",
       "      <td>-4.814515</td>\n",
       "      <td>1.830100</td>\n",
       "      <td>-0.000000</td>\n",
       "      <td>-0.000000</td>\n",
       "      <td>-0.000000</td>\n",
       "      <td>5.740667</td>\n",
       "    </tr>\n",
       "    <tr>\n",
       "      <th>0.010</th>\n",
       "      <td>535.714533</td>\n",
       "      <td>4.829918</td>\n",
       "      <td>0.000000</td>\n",
       "      <td>0.925255</td>\n",
       "      <td>0.0</td>\n",
       "      <td>1.634670</td>\n",
       "      <td>-0.0</td>\n",
       "      <td>1.652971</td>\n",
       "      <td>0.000000</td>\n",
       "      <td>-0.000000</td>\n",
       "      <td>-0.0</td>\n",
       "      <td>-4.512416</td>\n",
       "      <td>1.981247</td>\n",
       "      <td>-0.000000</td>\n",
       "      <td>-0.000000</td>\n",
       "      <td>-0.000000</td>\n",
       "      <td>5.657622</td>\n",
       "    </tr>\n",
       "    <tr>\n",
       "      <th>0.011</th>\n",
       "      <td>535.489289</td>\n",
       "      <td>4.774405</td>\n",
       "      <td>0.000000</td>\n",
       "      <td>0.803533</td>\n",
       "      <td>0.0</td>\n",
       "      <td>1.238269</td>\n",
       "      <td>-0.0</td>\n",
       "      <td>1.295839</td>\n",
       "      <td>0.000000</td>\n",
       "      <td>-0.000000</td>\n",
       "      <td>-0.0</td>\n",
       "      <td>-4.210310</td>\n",
       "      <td>2.132342</td>\n",
       "      <td>-0.000000</td>\n",
       "      <td>-0.000000</td>\n",
       "      <td>-0.000000</td>\n",
       "      <td>5.574574</td>\n",
       "    </tr>\n",
       "    <tr>\n",
       "      <th>0.012</th>\n",
       "      <td>535.264245</td>\n",
       "      <td>4.718767</td>\n",
       "      <td>0.000000</td>\n",
       "      <td>0.681825</td>\n",
       "      <td>0.0</td>\n",
       "      <td>0.841887</td>\n",
       "      <td>-0.0</td>\n",
       "      <td>0.938744</td>\n",
       "      <td>0.000000</td>\n",
       "      <td>-0.000000</td>\n",
       "      <td>-0.0</td>\n",
       "      <td>-3.908192</td>\n",
       "      <td>2.283368</td>\n",
       "      <td>0.000000</td>\n",
       "      <td>-0.000000</td>\n",
       "      <td>-0.000000</td>\n",
       "      <td>5.491522</td>\n",
       "    </tr>\n",
       "    <tr>\n",
       "      <th>0.013</th>\n",
       "      <td>535.039201</td>\n",
       "      <td>4.663128</td>\n",
       "      <td>0.000000</td>\n",
       "      <td>0.560116</td>\n",
       "      <td>0.0</td>\n",
       "      <td>0.445504</td>\n",
       "      <td>-0.0</td>\n",
       "      <td>0.581650</td>\n",
       "      <td>0.000000</td>\n",
       "      <td>-0.000000</td>\n",
       "      <td>-0.0</td>\n",
       "      <td>-3.606075</td>\n",
       "      <td>2.434393</td>\n",
       "      <td>0.000000</td>\n",
       "      <td>-0.000000</td>\n",
       "      <td>-0.000000</td>\n",
       "      <td>5.408470</td>\n",
       "    </tr>\n",
       "    <tr>\n",
       "      <th>0.014</th>\n",
       "      <td>534.814157</td>\n",
       "      <td>4.607490</td>\n",
       "      <td>0.000000</td>\n",
       "      <td>0.438408</td>\n",
       "      <td>0.0</td>\n",
       "      <td>0.049122</td>\n",
       "      <td>-0.0</td>\n",
       "      <td>0.224555</td>\n",
       "      <td>0.000000</td>\n",
       "      <td>-0.000000</td>\n",
       "      <td>-0.0</td>\n",
       "      <td>-3.303957</td>\n",
       "      <td>2.585418</td>\n",
       "      <td>0.000000</td>\n",
       "      <td>-0.000000</td>\n",
       "      <td>-0.000000</td>\n",
       "      <td>5.325419</td>\n",
       "    </tr>\n",
       "    <tr>\n",
       "      <th>0.015</th>\n",
       "      <td>534.678937</td>\n",
       "      <td>4.551772</td>\n",
       "      <td>0.000000</td>\n",
       "      <td>0.260286</td>\n",
       "      <td>0.0</td>\n",
       "      <td>0.000000</td>\n",
       "      <td>-0.0</td>\n",
       "      <td>0.000000</td>\n",
       "      <td>0.000000</td>\n",
       "      <td>-0.000000</td>\n",
       "      <td>-0.0</td>\n",
       "      <td>-3.047284</td>\n",
       "      <td>2.627756</td>\n",
       "      <td>0.000000</td>\n",
       "      <td>-0.000000</td>\n",
       "      <td>-0.000000</td>\n",
       "      <td>5.084797</td>\n",
       "    </tr>\n",
       "    <tr>\n",
       "      <th>0.016</th>\n",
       "      <td>534.486274</td>\n",
       "      <td>4.570266</td>\n",
       "      <td>0.000000</td>\n",
       "      <td>0.087150</td>\n",
       "      <td>0.0</td>\n",
       "      <td>0.000000</td>\n",
       "      <td>-0.0</td>\n",
       "      <td>0.000000</td>\n",
       "      <td>0.000000</td>\n",
       "      <td>-0.000000</td>\n",
       "      <td>-0.0</td>\n",
       "      <td>-2.821572</td>\n",
       "      <td>2.489140</td>\n",
       "      <td>0.000000</td>\n",
       "      <td>-0.000000</td>\n",
       "      <td>-0.000000</td>\n",
       "      <td>4.801288</td>\n",
       "    </tr>\n",
       "    <tr>\n",
       "      <th>0.017</th>\n",
       "      <td>534.332936</td>\n",
       "      <td>4.558528</td>\n",
       "      <td>0.000000</td>\n",
       "      <td>0.000000</td>\n",
       "      <td>0.0</td>\n",
       "      <td>0.000000</td>\n",
       "      <td>-0.0</td>\n",
       "      <td>0.000000</td>\n",
       "      <td>0.000000</td>\n",
       "      <td>-0.000000</td>\n",
       "      <td>-0.0</td>\n",
       "      <td>-2.589591</td>\n",
       "      <td>2.315556</td>\n",
       "      <td>0.000000</td>\n",
       "      <td>-0.000000</td>\n",
       "      <td>-0.000000</td>\n",
       "      <td>4.498862</td>\n",
       "    </tr>\n",
       "    <tr>\n",
       "      <th>0.018</th>\n",
       "      <td>534.196536</td>\n",
       "      <td>4.535828</td>\n",
       "      <td>0.000000</td>\n",
       "      <td>0.000000</td>\n",
       "      <td>0.0</td>\n",
       "      <td>0.000000</td>\n",
       "      <td>-0.0</td>\n",
       "      <td>0.000000</td>\n",
       "      <td>0.000000</td>\n",
       "      <td>-0.000000</td>\n",
       "      <td>-0.0</td>\n",
       "      <td>-2.349964</td>\n",
       "      <td>2.108980</td>\n",
       "      <td>0.000000</td>\n",
       "      <td>-0.000000</td>\n",
       "      <td>-0.000000</td>\n",
       "      <td>4.175976</td>\n",
       "    </tr>\n",
       "    <tr>\n",
       "      <th>0.019</th>\n",
       "      <td>534.059623</td>\n",
       "      <td>4.513388</td>\n",
       "      <td>0.000000</td>\n",
       "      <td>0.000000</td>\n",
       "      <td>0.0</td>\n",
       "      <td>0.000000</td>\n",
       "      <td>-0.0</td>\n",
       "      <td>0.000000</td>\n",
       "      <td>0.000000</td>\n",
       "      <td>-0.000000</td>\n",
       "      <td>-0.0</td>\n",
       "      <td>-2.110389</td>\n",
       "      <td>1.902527</td>\n",
       "      <td>0.000000</td>\n",
       "      <td>-0.000000</td>\n",
       "      <td>-0.000000</td>\n",
       "      <td>3.853063</td>\n",
       "    </tr>\n",
       "    <tr>\n",
       "      <th>0.020</th>\n",
       "      <td>533.922300</td>\n",
       "      <td>4.491176</td>\n",
       "      <td>0.000000</td>\n",
       "      <td>0.000000</td>\n",
       "      <td>0.0</td>\n",
       "      <td>0.000000</td>\n",
       "      <td>-0.0</td>\n",
       "      <td>0.000000</td>\n",
       "      <td>0.000000</td>\n",
       "      <td>-0.000000</td>\n",
       "      <td>-0.0</td>\n",
       "      <td>-1.870852</td>\n",
       "      <td>1.696162</td>\n",
       "      <td>0.000000</td>\n",
       "      <td>-0.000000</td>\n",
       "      <td>-0.000000</td>\n",
       "      <td>3.530128</td>\n",
       "    </tr>\n",
       "    <tr>\n",
       "      <th>0.021</th>\n",
       "      <td>533.784452</td>\n",
       "      <td>4.469310</td>\n",
       "      <td>0.000000</td>\n",
       "      <td>0.000000</td>\n",
       "      <td>0.0</td>\n",
       "      <td>0.000000</td>\n",
       "      <td>-0.0</td>\n",
       "      <td>0.000000</td>\n",
       "      <td>0.000000</td>\n",
       "      <td>-0.000000</td>\n",
       "      <td>-0.0</td>\n",
       "      <td>-1.631355</td>\n",
       "      <td>1.489890</td>\n",
       "      <td>0.000000</td>\n",
       "      <td>-0.000000</td>\n",
       "      <td>-0.000000</td>\n",
       "      <td>3.207164</td>\n",
       "    </tr>\n",
       "    <tr>\n",
       "      <th>0.022</th>\n",
       "      <td>533.646569</td>\n",
       "      <td>4.447465</td>\n",
       "      <td>0.000000</td>\n",
       "      <td>0.000000</td>\n",
       "      <td>0.0</td>\n",
       "      <td>0.000000</td>\n",
       "      <td>-0.0</td>\n",
       "      <td>0.000000</td>\n",
       "      <td>0.000000</td>\n",
       "      <td>-0.000000</td>\n",
       "      <td>-0.0</td>\n",
       "      <td>-1.391861</td>\n",
       "      <td>1.283625</td>\n",
       "      <td>0.000000</td>\n",
       "      <td>-0.000000</td>\n",
       "      <td>-0.000000</td>\n",
       "      <td>2.884198</td>\n",
       "    </tr>\n",
       "    <tr>\n",
       "      <th>0.023</th>\n",
       "      <td>533.508946</td>\n",
       "      <td>4.425433</td>\n",
       "      <td>0.000000</td>\n",
       "      <td>0.000000</td>\n",
       "      <td>0.0</td>\n",
       "      <td>0.000000</td>\n",
       "      <td>-0.0</td>\n",
       "      <td>0.000000</td>\n",
       "      <td>0.000000</td>\n",
       "      <td>-0.000000</td>\n",
       "      <td>-0.0</td>\n",
       "      <td>-1.152350</td>\n",
       "      <td>1.077320</td>\n",
       "      <td>0.000000</td>\n",
       "      <td>-0.000000</td>\n",
       "      <td>-0.000000</td>\n",
       "      <td>2.561246</td>\n",
       "    </tr>\n",
       "    <tr>\n",
       "      <th>0.024</th>\n",
       "      <td>533.371580</td>\n",
       "      <td>4.403219</td>\n",
       "      <td>0.000000</td>\n",
       "      <td>0.000000</td>\n",
       "      <td>0.0</td>\n",
       "      <td>0.000000</td>\n",
       "      <td>-0.0</td>\n",
       "      <td>0.000000</td>\n",
       "      <td>0.000000</td>\n",
       "      <td>-0.000000</td>\n",
       "      <td>-0.0</td>\n",
       "      <td>-0.912822</td>\n",
       "      <td>0.870976</td>\n",
       "      <td>0.000000</td>\n",
       "      <td>-0.000000</td>\n",
       "      <td>-0.000000</td>\n",
       "      <td>2.238309</td>\n",
       "    </tr>\n",
       "    <tr>\n",
       "      <th>0.025</th>\n",
       "      <td>533.234294</td>\n",
       "      <td>4.380951</td>\n",
       "      <td>0.000000</td>\n",
       "      <td>0.000000</td>\n",
       "      <td>0.0</td>\n",
       "      <td>0.000000</td>\n",
       "      <td>-0.0</td>\n",
       "      <td>0.000000</td>\n",
       "      <td>0.000000</td>\n",
       "      <td>-0.000000</td>\n",
       "      <td>-0.0</td>\n",
       "      <td>-0.673288</td>\n",
       "      <td>0.664619</td>\n",
       "      <td>0.000000</td>\n",
       "      <td>-0.000000</td>\n",
       "      <td>-0.000000</td>\n",
       "      <td>1.915376</td>\n",
       "    </tr>\n",
       "  </tbody>\n",
       "</table>\n",
       "</div>"
      ],
      "text/plain": [
       "       ZORI_lagged_1  ZHVI_lagged_1  HPI_lagged_2  AQI_lagged_1  \\\n",
       "0.001     539.484495       5.231816     -1.686606      1.766409   \n",
       "0.002     538.914430       5.036868     -0.277999      1.399497   \n",
       "0.003     538.402916       5.240320     -0.000000      1.551891   \n",
       "0.004     537.648930       5.225842     -0.000000      1.531285   \n",
       "0.005     536.987690       5.172029     -0.000000      1.497615   \n",
       "0.006     536.622537       5.046750      0.000000      1.412121   \n",
       "0.007     536.392910       4.994513      0.000000      1.290426   \n",
       "0.008     536.165347       4.940753      0.000000      1.168741   \n",
       "0.009     535.939926       4.885337      0.000000      1.046988   \n",
       "0.010     535.714533       4.829918      0.000000      0.925255   \n",
       "0.011     535.489289       4.774405      0.000000      0.803533   \n",
       "0.012     535.264245       4.718767      0.000000      0.681825   \n",
       "0.013     535.039201       4.663128      0.000000      0.560116   \n",
       "0.014     534.814157       4.607490      0.000000      0.438408   \n",
       "0.015     534.678937       4.551772      0.000000      0.260286   \n",
       "0.016     534.486274       4.570266      0.000000      0.087150   \n",
       "0.017     534.332936       4.558528      0.000000      0.000000   \n",
       "0.018     534.196536       4.535828      0.000000      0.000000   \n",
       "0.019     534.059623       4.513388      0.000000      0.000000   \n",
       "0.020     533.922300       4.491176      0.000000      0.000000   \n",
       "0.021     533.784452       4.469310      0.000000      0.000000   \n",
       "0.022     533.646569       4.447465      0.000000      0.000000   \n",
       "0.023     533.508946       4.425433      0.000000      0.000000   \n",
       "0.024     533.371580       4.403219      0.000000      0.000000   \n",
       "0.025     533.234294       4.380951      0.000000      0.000000   \n",
       "\n",
       "       Population_lagged_2  Unemployment_lagged_1  Percent Bachelors_lagged_2  \\\n",
       "0.001                 -0.0               4.190989                        -0.0   \n",
       "0.002                 -0.0               4.434906                        -0.0   \n",
       "0.003                  0.0               4.154371                        -0.0   \n",
       "0.004                  0.0               3.787991                        -0.0   \n",
       "0.005                  0.0               3.489742                        -0.0   \n",
       "0.006                  0.0               3.219616                        -0.0   \n",
       "0.007                  0.0               2.823669                        -0.0   \n",
       "0.008                  0.0               2.427528                        -0.0   \n",
       "0.009                  0.0               2.031086                        -0.0   \n",
       "0.010                  0.0               1.634670                        -0.0   \n",
       "0.011                  0.0               1.238269                        -0.0   \n",
       "0.012                  0.0               0.841887                        -0.0   \n",
       "0.013                  0.0               0.445504                        -0.0   \n",
       "0.014                  0.0               0.049122                        -0.0   \n",
       "0.015                  0.0               0.000000                        -0.0   \n",
       "0.016                  0.0               0.000000                        -0.0   \n",
       "0.017                  0.0               0.000000                        -0.0   \n",
       "0.018                  0.0               0.000000                        -0.0   \n",
       "0.019                  0.0               0.000000                        -0.0   \n",
       "0.020                  0.0               0.000000                        -0.0   \n",
       "0.021                  0.0               0.000000                        -0.0   \n",
       "0.022                  0.0               0.000000                        -0.0   \n",
       "0.023                  0.0               0.000000                        -0.0   \n",
       "0.024                  0.0               0.000000                        -0.0   \n",
       "0.025                  0.0               0.000000                        -0.0   \n",
       "\n",
       "       Permits_lagged_1  Total_Households_lagged_2  Med_Income_lagged_2  \\\n",
       "0.001          3.494515                  -1.633439            -2.809954   \n",
       "0.002          3.865812                  -0.000000            -1.914234   \n",
       "0.003          3.840934                   0.000000            -1.548073   \n",
       "0.004          3.586424                   0.000000            -1.018015   \n",
       "0.005          3.343353                   0.000000            -0.413632   \n",
       "0.006          3.075926                   0.000000            -0.000000   \n",
       "0.007          2.722483                   0.000000            -0.000000   \n",
       "0.008          2.367452                   0.000000            -0.000000   \n",
       "0.009          2.010131                   0.000000            -0.000000   \n",
       "0.010          1.652971                   0.000000            -0.000000   \n",
       "0.011          1.295839                   0.000000            -0.000000   \n",
       "0.012          0.938744                   0.000000            -0.000000   \n",
       "0.013          0.581650                   0.000000            -0.000000   \n",
       "0.014          0.224555                   0.000000            -0.000000   \n",
       "0.015          0.000000                   0.000000            -0.000000   \n",
       "0.016          0.000000                   0.000000            -0.000000   \n",
       "0.017          0.000000                   0.000000            -0.000000   \n",
       "0.018          0.000000                   0.000000            -0.000000   \n",
       "0.019          0.000000                   0.000000            -0.000000   \n",
       "0.020          0.000000                   0.000000            -0.000000   \n",
       "0.021          0.000000                   0.000000            -0.000000   \n",
       "0.022          0.000000                   0.000000            -0.000000   \n",
       "0.023          0.000000                   0.000000            -0.000000   \n",
       "0.024          0.000000                   0.000000            -0.000000   \n",
       "0.025          0.000000                   0.000000            -0.000000   \n",
       "\n",
       "       PCE_lagged_1  Rental Vacancy Rate_lagged_2  Job Openings_lagged_1  \\\n",
       "0.001           0.0                     -8.027545               0.000000   \n",
       "0.002          -0.0                     -7.606073               0.308446   \n",
       "0.003          -0.0                     -7.219416               0.934741   \n",
       "0.004          -0.0                     -6.655722               1.055682   \n",
       "0.005          -0.0                     -6.126574               1.205280   \n",
       "0.006          -0.0                     -5.719128               1.380290   \n",
       "0.007          -0.0                     -5.418134               1.529070   \n",
       "0.008          -0.0                     -5.116642               1.678808   \n",
       "0.009          -0.0                     -4.814515               1.830100   \n",
       "0.010          -0.0                     -4.512416               1.981247   \n",
       "0.011          -0.0                     -4.210310               2.132342   \n",
       "0.012          -0.0                     -3.908192               2.283368   \n",
       "0.013          -0.0                     -3.606075               2.434393   \n",
       "0.014          -0.0                     -3.303957               2.585418   \n",
       "0.015          -0.0                     -3.047284               2.627756   \n",
       "0.016          -0.0                     -2.821572               2.489140   \n",
       "0.017          -0.0                     -2.589591               2.315556   \n",
       "0.018          -0.0                     -2.349964               2.108980   \n",
       "0.019          -0.0                     -2.110389               1.902527   \n",
       "0.020          -0.0                     -1.870852               1.696162   \n",
       "0.021          -0.0                     -1.631355               1.489890   \n",
       "0.022          -0.0                     -1.391861               1.283625   \n",
       "0.023          -0.0                     -1.152350               1.077320   \n",
       "0.024          -0.0                     -0.912822               0.870976   \n",
       "0.025          -0.0                     -0.673288               0.664619   \n",
       "\n",
       "       CommuteTime_lagged_2  Salwrkr_lagged_2  Govwrkr_lagged_2  \\\n",
       "0.001             -1.474960        -11.445672        -11.797239   \n",
       "0.002             -1.545416         -4.224094         -4.725127   \n",
       "0.003             -1.047644         -0.000000         -0.580907   \n",
       "0.004             -0.384835         -0.000000         -0.406327   \n",
       "0.005             -0.000000         -0.000000         -0.210113   \n",
       "0.006             -0.000000         -0.000000         -0.000000   \n",
       "0.007             -0.000000         -0.000000         -0.000000   \n",
       "0.008             -0.000000         -0.000000         -0.000000   \n",
       "0.009             -0.000000         -0.000000         -0.000000   \n",
       "0.010             -0.000000         -0.000000         -0.000000   \n",
       "0.011             -0.000000         -0.000000         -0.000000   \n",
       "0.012              0.000000         -0.000000         -0.000000   \n",
       "0.013              0.000000         -0.000000         -0.000000   \n",
       "0.014              0.000000         -0.000000         -0.000000   \n",
       "0.015              0.000000         -0.000000         -0.000000   \n",
       "0.016              0.000000         -0.000000         -0.000000   \n",
       "0.017              0.000000         -0.000000         -0.000000   \n",
       "0.018              0.000000         -0.000000         -0.000000   \n",
       "0.019              0.000000         -0.000000         -0.000000   \n",
       "0.020              0.000000         -0.000000         -0.000000   \n",
       "0.021              0.000000         -0.000000         -0.000000   \n",
       "0.022              0.000000         -0.000000         -0.000000   \n",
       "0.023              0.000000         -0.000000         -0.000000   \n",
       "0.024              0.000000         -0.000000         -0.000000   \n",
       "0.025              0.000000         -0.000000         -0.000000   \n",
       "\n",
       "       GRAPI_lagged_2  \n",
       "0.001        6.132431  \n",
       "0.002        5.943104  \n",
       "0.003        6.121556  \n",
       "0.004        6.089612  \n",
       "0.005        6.051751  \n",
       "0.006        5.990902  \n",
       "0.007        5.907137  \n",
       "0.008        5.823685  \n",
       "0.009        5.740667  \n",
       "0.010        5.657622  \n",
       "0.011        5.574574  \n",
       "0.012        5.491522  \n",
       "0.013        5.408470  \n",
       "0.014        5.325419  \n",
       "0.015        5.084797  \n",
       "0.016        4.801288  \n",
       "0.017        4.498862  \n",
       "0.018        4.175976  \n",
       "0.019        3.853063  \n",
       "0.020        3.530128  \n",
       "0.021        3.207164  \n",
       "0.022        2.884198  \n",
       "0.023        2.561246  \n",
       "0.024        2.238309  \n",
       "0.025        1.915376  "
      ]
     },
     "execution_count": 778,
     "metadata": {},
     "output_type": "execute_result"
    }
   ],
   "source": [
    "# Lasso penalization to assess feature significance\n",
    "scaler = StandardScaler()\n",
    "data = train.iloc[:, 4:].copy()\n",
    "scaler.fit(data)\n",
    "scaled_data = pd.DataFrame(scaler.transform(data), columns = data.columns)\n",
    "\n",
    "lasso = Lasso(normalize = True)\n",
    "alphas = np.linspace(0.001, 0.025, 25)\n",
    "coefs_lasso  = []\n",
    "\n",
    "for alpha in alphas:\n",
    "    lasso.set_params(alpha=alpha)\n",
    "    lasso.fit(scaled_data, train.iloc[:, 3])  \n",
    "    coefs_lasso.append(lasso.coef_)\n",
    "\n",
    "coefs_lasso = pd.DataFrame(coefs_lasso, index = alphas, \n",
    "                           columns = train.iloc[:, 4:].columns)  \n",
    "coefs_lasso"
   ]
  },
  {
   "cell_type": "markdown",
   "metadata": {},
   "source": [
    "## Random Forest Regressor on ZORI"
   ]
  },
  {
   "cell_type": "code",
   "execution_count": 779,
   "metadata": {},
   "outputs": [],
   "source": [
    "randomForest = ensemble.RandomForestRegressor()"
   ]
  },
  {
   "cell_type": "code",
   "execution_count": 781,
   "metadata": {},
   "outputs": [
    {
     "data": {
      "text/plain": [
       "GridSearchCV(cv=5, estimator=RandomForestRegressor(), n_jobs=-1,\n",
       "             param_grid=[{'criterion': ['mse'], 'max_depth': [13],\n",
       "                          'min_samples_leaf': [50], 'min_samples_split': [50],\n",
       "                          'n_estimators': [300], 'random_state': [42]}],\n",
       "             return_train_score=True)"
      ]
     },
     "execution_count": 781,
     "metadata": {},
     "output_type": "execute_result"
    }
   ],
   "source": [
    "grid_para_forest = [{\n",
    "    \"n_estimators\": [300],\n",
    "    \"criterion\": [\"mse\"],\n",
    "    \"min_samples_leaf\": [50], # [50, 75, 100]\n",
    "    \"min_samples_split\": [50], # [50, 75, 100]\n",
    "    \"max_depth\": [13], # [11, 12, 13]\n",
    "    \"random_state\": [42]}]\n",
    "\n",
    "grid_search_forest = GridSearchCV(randomForest, grid_para_forest, cv = 5, n_jobs = -1, return_train_score = True)\n",
    "grid_search_forest.fit(train.iloc[:, 4:], train.iloc[:, 3])"
   ]
  },
  {
   "cell_type": "code",
   "execution_count": 782,
   "metadata": {},
   "outputs": [
    {
     "data": {
      "text/html": [
       "<div>\n",
       "<style scoped>\n",
       "    .dataframe tbody tr th:only-of-type {\n",
       "        vertical-align: middle;\n",
       "    }\n",
       "\n",
       "    .dataframe tbody tr th {\n",
       "        vertical-align: top;\n",
       "    }\n",
       "\n",
       "    .dataframe thead th {\n",
       "        text-align: right;\n",
       "    }\n",
       "</style>\n",
       "<table border=\"1\" class=\"dataframe\">\n",
       "  <thead>\n",
       "    <tr style=\"text-align: right;\">\n",
       "      <th></th>\n",
       "      <th>hyperparameter</th>\n",
       "    </tr>\n",
       "  </thead>\n",
       "  <tbody>\n",
       "    <tr>\n",
       "      <th>criterion</th>\n",
       "      <td>mse</td>\n",
       "    </tr>\n",
       "    <tr>\n",
       "      <th>max_depth</th>\n",
       "      <td>13</td>\n",
       "    </tr>\n",
       "    <tr>\n",
       "      <th>min_samples_leaf</th>\n",
       "      <td>50</td>\n",
       "    </tr>\n",
       "    <tr>\n",
       "      <th>min_samples_split</th>\n",
       "      <td>50</td>\n",
       "    </tr>\n",
       "    <tr>\n",
       "      <th>n_estimators</th>\n",
       "      <td>300</td>\n",
       "    </tr>\n",
       "    <tr>\n",
       "      <th>random_state</th>\n",
       "      <td>42</td>\n",
       "    </tr>\n",
       "  </tbody>\n",
       "</table>\n",
       "</div>"
      ],
      "text/plain": [
       "                  hyperparameter\n",
       "criterion                    mse\n",
       "max_depth                     13\n",
       "min_samples_leaf              50\n",
       "min_samples_split             50\n",
       "n_estimators                 300\n",
       "random_state                  42"
      ]
     },
     "execution_count": 782,
     "metadata": {},
     "output_type": "execute_result"
    }
   ],
   "source": [
    "pd.DataFrame.from_dict(grid_search_forest.best_params_, orient = 'index', columns = ['hyperparameter'])"
   ]
  },
  {
   "cell_type": "code",
   "execution_count": 783,
   "metadata": {},
   "outputs": [
    {
     "data": {
      "text/plain": [
       "0.9959629435285088"
      ]
     },
     "execution_count": 783,
     "metadata": {},
     "output_type": "execute_result"
    }
   ],
   "source": [
    "grid_search_forest.cv_results_['mean_train_score'][0]"
   ]
  },
  {
   "cell_type": "code",
   "execution_count": 784,
   "metadata": {},
   "outputs": [
    {
     "data": {
      "text/plain": [
       "0.9957329357203833"
      ]
     },
     "execution_count": 784,
     "metadata": {},
     "output_type": "execute_result"
    }
   ],
   "source": [
    "grid_search_forest.score(test.iloc[:, 4:], test.iloc[:, 3])"
   ]
  },
  {
   "cell_type": "code",
   "execution_count": 282,
   "metadata": {},
   "outputs": [
    {
     "data": {
      "text/plain": [
       "RandomForestRegressor(max_depth=13, min_samples_leaf=50, min_samples_split=50,\n",
       "                      n_estimators=300, random_state=42)"
      ]
     },
     "execution_count": 282,
     "metadata": {},
     "output_type": "execute_result"
    }
   ],
   "source": [
    "# Refit using the entire dataset\n",
    "# grid_search_forest.fit(df_clean.iloc[:, 3:], df_clean.iloc[:, 2])"
   ]
  },
  {
   "cell_type": "code",
   "execution_count": 785,
   "metadata": {},
   "outputs": [],
   "source": [
    "# Prediction on ZipCode of 77084 (randomly chosen)\n",
    "zipcode = 77084\n",
    "df_pred_zipcode = df_pred[df_pred['ZipCode'] == zipcode]\n",
    "pred_RF = grid_search_forest.predict(df_pred_zipcode.iloc[:, 3:])"
   ]
  },
  {
   "cell_type": "code",
   "execution_count": 787,
   "metadata": {},
   "outputs": [],
   "source": [
    "pred_RF = pd.DataFrame({'Year': df_pred_zipcode['Year'], 'Month': df_pred_zipcode['Month'], \n",
    "                     'ZORI_RF': pred_RF}).reset_index().drop('index', axis = 1)\n",
    "pred_RF['Year_Month'] = pred_RF['Year'].map(str) + '_' + pred_RF['Month'].map(str)\n",
    "pred_RF = pred_RF[['Year_Month', 'ZORI_RF']]\n",
    "pred_RF['Year_Month'] = pd.to_datetime(pred_RF['Year_Month'], format = '%Y_%m')"
   ]
  },
  {
   "cell_type": "code",
   "execution_count": 788,
   "metadata": {},
   "outputs": [],
   "source": [
    "actual = zori[zori['ZipCode'] == zipcode][['Year_Month', 'ZORI']]\n",
    "actual['Year_Month'] = pd.to_datetime(actual['Year_Month'], format = '%Y_%m')"
   ]
  },
  {
   "cell_type": "code",
   "execution_count": 789,
   "metadata": {},
   "outputs": [
    {
     "data": {
      "image/png": "[encoded data removed]",
      "text/plain": [
       "<Figure size 432x288 with 1 Axes>"
      ]
     },
     "metadata": {
      "needs_background": "light"
     },
     "output_type": "display_data"
    }
   ],
   "source": [
    "sns.lineplot(x = 'Year_Month', y = 'ZORI', data = actual)\n",
    "sns.lineplot(x = 'Year_Month', y = 'ZORI_RF', data = pred_RF)\n",
    "plt.title(f'ZORI for {zipcode}');"
   ]
  },
  {
   "cell_type": "code",
   "execution_count": 792,
   "metadata": {},
   "outputs": [
    {
     "data": {
      "text/html": [
       "<div>\n",
       "<style scoped>\n",
       "    .dataframe tbody tr th:only-of-type {\n",
       "        vertical-align: middle;\n",
       "    }\n",
       "\n",
       "    .dataframe tbody tr th {\n",
       "        vertical-align: top;\n",
       "    }\n",
       "\n",
       "    .dataframe thead th {\n",
       "        text-align: right;\n",
       "    }\n",
       "</style>\n",
       "<table border=\"1\" class=\"dataframe\">\n",
       "  <thead>\n",
       "    <tr style=\"text-align: right;\">\n",
       "      <th></th>\n",
       "      <th>feature</th>\n",
       "      <th>importance</th>\n",
       "    </tr>\n",
       "  </thead>\n",
       "  <tbody>\n",
       "    <tr>\n",
       "      <th>0</th>\n",
       "      <td>ZORI_lagged_1</td>\n",
       "      <td>0.997672</td>\n",
       "    </tr>\n",
       "    <tr>\n",
       "      <th>1</th>\n",
       "      <td>GRAPI_lagged_2</td>\n",
       "      <td>0.000689</td>\n",
       "    </tr>\n",
       "    <tr>\n",
       "      <th>2</th>\n",
       "      <td>Job Openings_lagged_1</td>\n",
       "      <td>0.000315</td>\n",
       "    </tr>\n",
       "    <tr>\n",
       "      <th>3</th>\n",
       "      <td>Rental Vacancy Rate_lagged_2</td>\n",
       "      <td>0.000308</td>\n",
       "    </tr>\n",
       "    <tr>\n",
       "      <th>4</th>\n",
       "      <td>CommuteTime_lagged_2</td>\n",
       "      <td>0.000109</td>\n",
       "    </tr>\n",
       "    <tr>\n",
       "      <th>5</th>\n",
       "      <td>Govwrkr_lagged_2</td>\n",
       "      <td>0.000108</td>\n",
       "    </tr>\n",
       "    <tr>\n",
       "      <th>6</th>\n",
       "      <td>ZHVI_lagged_1</td>\n",
       "      <td>0.000104</td>\n",
       "    </tr>\n",
       "    <tr>\n",
       "      <th>7</th>\n",
       "      <td>Salwrkr_lagged_2</td>\n",
       "      <td>0.000103</td>\n",
       "    </tr>\n",
       "    <tr>\n",
       "      <th>8</th>\n",
       "      <td>Population_lagged_2</td>\n",
       "      <td>0.000102</td>\n",
       "    </tr>\n",
       "    <tr>\n",
       "      <th>9</th>\n",
       "      <td>Med_Income_lagged_2</td>\n",
       "      <td>0.000086</td>\n",
       "    </tr>\n",
       "    <tr>\n",
       "      <th>10</th>\n",
       "      <td>HPI_lagged_2</td>\n",
       "      <td>0.000076</td>\n",
       "    </tr>\n",
       "    <tr>\n",
       "      <th>11</th>\n",
       "      <td>Percent Bachelors_lagged_2</td>\n",
       "      <td>0.000068</td>\n",
       "    </tr>\n",
       "    <tr>\n",
       "      <th>12</th>\n",
       "      <td>Unemployment_lagged_1</td>\n",
       "      <td>0.000063</td>\n",
       "    </tr>\n",
       "    <tr>\n",
       "      <th>13</th>\n",
       "      <td>Total_Households_lagged_2</td>\n",
       "      <td>0.000063</td>\n",
       "    </tr>\n",
       "    <tr>\n",
       "      <th>14</th>\n",
       "      <td>Permits_lagged_1</td>\n",
       "      <td>0.000053</td>\n",
       "    </tr>\n",
       "    <tr>\n",
       "      <th>15</th>\n",
       "      <td>PCE_lagged_1</td>\n",
       "      <td>0.000050</td>\n",
       "    </tr>\n",
       "    <tr>\n",
       "      <th>16</th>\n",
       "      <td>AQI_lagged_1</td>\n",
       "      <td>0.000032</td>\n",
       "    </tr>\n",
       "  </tbody>\n",
       "</table>\n",
       "</div>"
      ],
      "text/plain": [
       "                         feature  importance\n",
       "0                  ZORI_lagged_1    0.997672\n",
       "1                 GRAPI_lagged_2    0.000689\n",
       "2          Job Openings_lagged_1    0.000315\n",
       "3   Rental Vacancy Rate_lagged_2    0.000308\n",
       "4           CommuteTime_lagged_2    0.000109\n",
       "5               Govwrkr_lagged_2    0.000108\n",
       "6                  ZHVI_lagged_1    0.000104\n",
       "7               Salwrkr_lagged_2    0.000103\n",
       "8            Population_lagged_2    0.000102\n",
       "9            Med_Income_lagged_2    0.000086\n",
       "10                  HPI_lagged_2    0.000076\n",
       "11    Percent Bachelors_lagged_2    0.000068\n",
       "12         Unemployment_lagged_1    0.000063\n",
       "13     Total_Households_lagged_2    0.000063\n",
       "14              Permits_lagged_1    0.000053\n",
       "15                  PCE_lagged_1    0.000050\n",
       "16                  AQI_lagged_1    0.000032"
      ]
     },
     "execution_count": 792,
     "metadata": {},
     "output_type": "execute_result"
    }
   ],
   "source": [
    "feature_importance = list(zip(df_pred_zipcode.columns[3:], grid_search_forest.best_estimator_.feature_importances_))\n",
    "pd.DataFrame(sorted(feature_importance, key = lambda x: x[1], reverse = True), columns = ['feature', 'importance']).head(25)"
   ]
  },
  {
   "cell_type": "markdown",
   "metadata": {},
   "source": [
    "## Multiple Linear Regression on % Change in ZORI"
   ]
  },
  {
   "cell_type": "code",
   "execution_count": 828,
   "metadata": {},
   "outputs": [],
   "source": [
    "# Prepare dataframe for % change fitting\n",
    "df_change = df.drop('ZORI_lagged_1', axis = 1).copy()\n",
    "df_change['Year_Month'] = df_change['Year'].map(str) + '_' + df_change['Month'].map(str)\n",
    "df_change = pd.merge(df_change, one_year_forecast_train, on = 'Year_Month')\n",
    "df_change = pd.merge(df_change, df_change, left_on = ['Year_Month2', 'ZipCode'], right_on = ['Year_Month', 'ZipCode'],\n",
    "                     how = 'left')"
   ]
  },
  {
   "cell_type": "code",
   "execution_count": 829,
   "metadata": {},
   "outputs": [],
   "source": [
    "df_change['ZORI_x'] = (df_change['ZORI_x'] - df_change['ZORI_y']) / df_change['ZORI_y']\n",
    "df_change['ZHVI_lagged_1_x'] = (df_change['ZHVI_lagged_1_x'] - df_change['ZHVI_lagged_1_y']) / df_change['ZHVI_lagged_1_y']\n",
    "df_change['HPI_lagged_2_x'] = (df_change['HPI_lagged_2_x'] - df_change['HPI_lagged_2_y']) / df_change['HPI_lagged_2_y']\n",
    "df_change['AQI_lagged_1_x'] = (df_change['AQI_lagged_1_x'] - df_change['AQI_lagged_1_y']) / df_change['AQI_lagged_1_y']\n",
    "df_change['Population_lagged_2_x'] = (df_change['Population_lagged_2_x'] - df_change['Population_lagged_2_y']) /\\\n",
    "                                     df_change['Population_lagged_2_y']\n",
    "df_change['Unemployment_lagged_1_x'] = (df_change['Unemployment_lagged_1_x'] - df_change['Unemployment_lagged_1_y']) /\\\n",
    "                                        df_change['Unemployment_lagged_1_y']\n",
    "df_change['Percent Bachelors_lagged_2_x'] = (df_change['Percent Bachelors_lagged_2_x'] -\\\n",
    "                                            df_change['Percent Bachelors_lagged_2_y']) /\\\n",
    "                                            df_change['Percent Bachelors_lagged_2_y']\n",
    "df_change['Permits_lagged_1_x'] = (df_change['Permits_lagged_1_x'] - df_change['Permits_lagged_1_y']) /\\\n",
    "                                  df_change['Permits_lagged_1_y']\n",
    "df_change['Total_Households_lagged_2_x'] = (df_change['Total_Households_lagged_2_x'] -\\\n",
    "                                           df_change['Total_Households_lagged_2_y']) /\\\n",
    "                                           df_change['Total_Households_lagged_2_y']\n",
    "df_change['Med_Income_lagged_2_x'] = (df_change['Med_Income_lagged_2_x'] - df_change['Med_Income_lagged_2_y']) /\\\n",
    "                                      df_change['Med_Income_lagged_2_y']\n",
    "df_change['PCE_lagged_1_x'] = (df_change['PCE_lagged_1_x'] - df_change['PCE_lagged_1_y']) / df_change['PCE_lagged_1_y'] \n",
    "df_change['Rental Vacancy Rate_lagged_2_x'] = (df_change['Rental Vacancy Rate_lagged_2_x'] -\\\n",
    "                                              df_change['Rental Vacancy Rate_lagged_2_y']) /\\\n",
    "                                              df_change['Rental Vacancy Rate_lagged_2_y']\n",
    "df_change['Job Openings_lagged_1_x'] = (df_change['Job Openings_lagged_1_x'] - df_change['Job Openings_lagged_1_y']) /\\\n",
    "                                        df_change['Job Openings_lagged_1_y']\n",
    "df_change['CommuteTime_lagged_2_x'] = (df_change['CommuteTime_lagged_2_x'] - df_change['CommuteTime_lagged_2_y']) /\\\n",
    "                                        df_change['CommuteTime_lagged_2_y']\n",
    "df_change['Salwrkr_lagged_2_x'] = (df_change['Salwrkr_lagged_2_x'] - df_change['Salwrkr_lagged_2_y']) /\\\n",
    "                                        df_change['Salwrkr_lagged_2_y']\n",
    "df_change['Govwrkr_lagged_2_x'] = (df_change['Govwrkr_lagged_2_x'] - df_change['Govwrkr_lagged_2_y']) /\\\n",
    "                                        df_change['Govwrkr_lagged_2_y']\n",
    "df_change['GRAPI_lagged_2_x'] = (df_change['GRAPI_lagged_2_x'] - df_change['GRAPI_lagged_2_y']) /\\\n",
    "                                        df_change['GRAPI_lagged_2_y']"
   ]
  },
  {
   "cell_type": "code",
   "execution_count": 830,
   "metadata": {},
   "outputs": [],
   "source": [
    "df_change = df_change[['Year_x', 'Month_x', 'ZipCode', 'ZORI_x', 'ZHVI_lagged_1_x', 'HPI_lagged_2_x', 'AQI_lagged_1_x', \n",
    "                      'Population_lagged_2_x', 'Unemployment_lagged_1_x', 'Percent Bachelors_lagged_2_x', \n",
    "                      'Permits_lagged_1_x', 'Total_Households_lagged_2_x', 'Med_Income_lagged_2_x', 'PCE_lagged_1_x', \n",
    "                      'Rental Vacancy Rate_lagged_2_x', 'Job Openings_lagged_1_x', 'CommuteTime_lagged_2_x', \n",
    "                      'Salwrkr_lagged_2_x', 'Govwrkr_lagged_2_x', 'GRAPI_lagged_2_x']]"
   ]
  },
  {
   "cell_type": "code",
   "execution_count": 831,
   "metadata": {},
   "outputs": [],
   "source": [
    "df_change.columns = ['Year', 'Month', 'ZipCode', 'ZORI_delta', 'ZHVI_lagged_1_delta', 'HPI_lagged_2_delta', \n",
    "                     'AQI_lagged_1_delta', 'Population_lagged_2_delta', 'Unemployment_lagged_1_delta',\n",
    "                     'Percent Bachelors_lagged_2_delta', 'Permits_lagged_1_delta', 'Total_Households_lagged_2_delta',\n",
    "                     'Med_Income_lagged_2_delta', 'PCE_lagged_1_delta', 'Rental Vacancy Rate_lagged_2_delta',\n",
    "                     'Job Openings_lagged_1_delta', 'CommuteTime_lagged_2_delta', 'Salwrkr_lagged_2_delta', \n",
    "                    'Govwrkr_lagged_2_delta', 'GRAPI_lagged_2_delta']"
   ]
  },
  {
   "cell_type": "code",
   "execution_count": 832,
   "metadata": {},
   "outputs": [],
   "source": [
    "# ZORI not available for 2013 and Jan 2014\n",
    "df_change = df_change[(df_change['Year'] != 2014) & ~((df_change['Year'] == 2015) & (df_change['Month'] == 1))]"
   ]
  },
  {
   "cell_type": "code",
   "execution_count": 833,
   "metadata": {},
   "outputs": [
    {
     "data": {
      "text/plain": [
       "Year                                      0\n",
       "Month                                     0\n",
       "ZipCode                                   0\n",
       "ZORI_delta                             8666\n",
       "ZHVI_lagged_1_delta                   17096\n",
       "HPI_lagged_2_delta                    22958\n",
       "AQI_lagged_1_delta                    26776\n",
       "Population_lagged_2_delta             15937\n",
       "Unemployment_lagged_1_delta           14914\n",
       "Percent Bachelors_lagged_2_delta      15937\n",
       "Permits_lagged_1_delta                 9265\n",
       "Total_Households_lagged_2_delta       15937\n",
       "Med_Income_lagged_2_delta             15937\n",
       "PCE_lagged_1_delta                     8666\n",
       "Rental Vacancy Rate_lagged_2_delta    16282\n",
       "Job Openings_lagged_1_delta            9871\n",
       "CommuteTime_lagged_2_delta            15937\n",
       "Salwrkr_lagged_2_delta                15937\n",
       "Govwrkr_lagged_2_delta                15937\n",
       "GRAPI_lagged_2_delta                  15937\n",
       "dtype: int64"
      ]
     },
     "execution_count": 833,
     "metadata": {},
     "output_type": "execute_result"
    }
   ],
   "source": [
    "df_change.isnull().sum(axis = 0)"
   ]
  },
  {
   "cell_type": "code",
   "execution_count": 834,
   "metadata": {},
   "outputs": [],
   "source": [
    "# Dropping NaN values\n",
    "df_change = df_change[~df_change['ZORI_delta'].isnull()]\n",
    "df_change = df_change[~df_change['ZHVI_lagged_1_delta'].isnull()]\n",
    "df_change = df_change[~df_change['HPI_lagged_2_delta'].isnull()]\n",
    "df_change = df_change[~df_change['AQI_lagged_1_delta'].isnull()]\n",
    "df_change = df_change[~df_change['Population_lagged_2_delta'].isnull()]\n",
    "df_change = df_change[~df_change['Permits_lagged_1_delta'].isnull()]\n",
    "df_change = df_change[~df_change['Rental Vacancy Rate_lagged_2_delta'].isnull()]"
   ]
  },
  {
   "cell_type": "code",
   "execution_count": 835,
   "metadata": {},
   "outputs": [
    {
     "data": {
      "text/plain": [
       "Year                                  0\n",
       "Month                                 0\n",
       "ZipCode                               0\n",
       "ZORI_delta                            0\n",
       "ZHVI_lagged_1_delta                   0\n",
       "HPI_lagged_2_delta                    0\n",
       "AQI_lagged_1_delta                    0\n",
       "Population_lagged_2_delta             0\n",
       "Unemployment_lagged_1_delta           0\n",
       "Percent Bachelors_lagged_2_delta      0\n",
       "Permits_lagged_1_delta                0\n",
       "Total_Households_lagged_2_delta       0\n",
       "Med_Income_lagged_2_delta             0\n",
       "PCE_lagged_1_delta                    0\n",
       "Rental Vacancy Rate_lagged_2_delta    0\n",
       "Job Openings_lagged_1_delta           0\n",
       "CommuteTime_lagged_2_delta            0\n",
       "Salwrkr_lagged_2_delta                0\n",
       "Govwrkr_lagged_2_delta                0\n",
       "GRAPI_lagged_2_delta                  0\n",
       "dtype: int64"
      ]
     },
     "execution_count": 835,
     "metadata": {},
     "output_type": "execute_result"
    }
   ],
   "source": [
    "df_change.isnull().sum(axis = 0)"
   ]
  },
  {
   "cell_type": "code",
   "execution_count": 836,
   "metadata": {},
   "outputs": [
    {
     "data": {
      "text/plain": [
       "Year                                    0\n",
       "Month                                   0\n",
       "ZipCode                                 0\n",
       "ZORI_delta                              0\n",
       "ZHVI_lagged_1_delta                     0\n",
       "HPI_lagged_2_delta                      0\n",
       "AQI_lagged_1_delta                      0\n",
       "Population_lagged_2_delta               0\n",
       "Unemployment_lagged_1_delta             0\n",
       "Percent Bachelors_lagged_2_delta        0\n",
       "Permits_lagged_1_delta                562\n",
       "Total_Households_lagged_2_delta         0\n",
       "Med_Income_lagged_2_delta               0\n",
       "PCE_lagged_1_delta                      0\n",
       "Rental Vacancy Rate_lagged_2_delta     55\n",
       "Job Openings_lagged_1_delta             0\n",
       "CommuteTime_lagged_2_delta              0\n",
       "Salwrkr_lagged_2_delta                  0\n",
       "Govwrkr_lagged_2_delta                  0\n",
       "GRAPI_lagged_2_delta                    0\n",
       "dtype: int64"
      ]
     },
     "execution_count": 836,
     "metadata": {},
     "output_type": "execute_result"
    }
   ],
   "source": [
    "(df_change == np.inf).sum(axis = 0)"
   ]
  },
  {
   "cell_type": "code",
   "execution_count": 837,
   "metadata": {},
   "outputs": [],
   "source": [
    "# Drop np.inf values\n",
    "df_change = df_change[df_change['Permits_lagged_1_delta'] != np.inf]\n",
    "df_change = df_change[df_change['Rental Vacancy Rate_lagged_2_delta'] != np.inf]"
   ]
  },
  {
   "cell_type": "code",
   "execution_count": 838,
   "metadata": {},
   "outputs": [],
   "source": [
    "train_change_idx = np.random.choice(range(df_change.shape[0]), round(df_change.shape[0] * 0.75), replace = False)"
   ]
  },
  {
   "cell_type": "code",
   "execution_count": 839,
   "metadata": {},
   "outputs": [],
   "source": [
    "train_change = df_change.iloc[train_change_idx, :]\n",
    "test_change = df_change.iloc[list(set(range(df_change.shape[0])) - set(train_change_idx)), :]"
   ]
  },
  {
   "cell_type": "code",
   "execution_count": 840,
   "metadata": {},
   "outputs": [],
   "source": [
    "# Prepare dataframe for % change prediction\n",
    "df_pred_change = zori.copy()\n",
    "df_pred_change = pd.merge(df_pred_change, one_year_forecast_pred, left_on = 'Year_Month', right_on = 'Year_Month2')\n",
    "df_pred_change.drop('Year_Month_x', axis = 1, inplace = True)"
   ]
  },
  {
   "cell_type": "code",
   "execution_count": 841,
   "metadata": {},
   "outputs": [],
   "source": [
    "df_pred_change = pd.merge(df_pred_change, zhvi[['Year_Month', 'ZipCode', 'ZHVI']], left_on = ['Year_Month2', 'ZipCode'],\n",
    "                   right_on = ['Year_Month', 'ZipCode'], how = 'left')\n",
    "df_pred_change.drop('Year_Month', axis = 1, inplace = True)"
   ]
  },
  {
   "cell_type": "code",
   "execution_count": 842,
   "metadata": {},
   "outputs": [],
   "source": [
    "df_pred_change = pd.merge(df_pred_change, hpi[['Year_Month', 'ZipCode', 'HPI']], left_on = ['Year_Month3', 'ZipCode'],\n",
    "                   right_on = ['Year_Month', 'ZipCode'], how = 'left')\n",
    "df_pred_change.drop('Year_Month', axis = 1, inplace = True)"
   ]
  },
  {
   "cell_type": "code",
   "execution_count": 843,
   "metadata": {},
   "outputs": [],
   "source": [
    "df_pred_change = pd.merge(df_pred_change, airq[['County', 'State', 'Year_Month', 'AQI']],\n",
    "                          left_on = ['County', 'State', 'Year_Month2'], right_on = ['County', 'State', 'Year_Month'],\n",
    "                          how = 'left')\n",
    "df_pred_change.drop('Year_Month', axis = 1, inplace = True)"
   ]
  },
  {
   "cell_type": "code",
   "execution_count": 844,
   "metadata": {},
   "outputs": [],
   "source": [
    "df_pred_change = pd.merge(df_pred_change, population[['County', 'State', 'Year_Month', 'Population']], \n",
    "                   left_on = ['County', 'State', 'Year_Month3'], right_on = ['County', 'State', 'Year_Month'], how = 'left')\n",
    "df_pred_change.drop('Year_Month', axis = 1, inplace = True)"
   ]
  },
  {
   "cell_type": "code",
   "execution_count": 845,
   "metadata": {},
   "outputs": [],
   "source": [
    "df_pred_change = pd.merge(df_pred_change, unemployment[['County', 'State', 'Year_Month', 'Unemployment']], \n",
    "                   left_on = ['County', 'State', 'Year_Month2'], right_on = ['County', 'State', 'Year_Month'], how = 'left')\n",
    "df_pred_change.drop('Year_Month', axis = 1, inplace = True)"
   ]
  },
  {
   "cell_type": "code",
   "execution_count": 846,
   "metadata": {},
   "outputs": [],
   "source": [
    "df_pred_change = pd.merge(df_pred_change, education[['County', 'State', 'Year_Month', 'Percent Bachelors']],\n",
    "                          left_on = ['County', 'State', 'Year_Month3'], right_on = ['County', 'State', 'Year_Month'],\n",
    "                          how = 'left')\n",
    "df_pred_change.drop('Year_Month', axis = 1, inplace = True)"
   ]
  },
  {
   "cell_type": "code",
   "execution_count": 847,
   "metadata": {},
   "outputs": [],
   "source": [
    "df_pred_change = pd.merge(df_pred_change, permits[['State', 'Units', 'Year_Month']], left_on = ['State', 'Year_Month2'], \n",
    "                          right_on = ['State', 'Year_Month'], how = 'left')\n",
    "df_pred_change.drop('Year_Month', axis = 1, inplace = True)"
   ]
  },
  {
   "cell_type": "code",
   "execution_count": 848,
   "metadata": {},
   "outputs": [],
   "source": [
    "df_pred_change = pd.merge(df_pred_change, IandH[['County', 'State', 'Year_Month', 'Total_Households', 'Med_income']], \n",
    "                          left_on = ['County', 'State', 'Year_Month3'], right_on = ['County', 'State', 'Year_Month'],\n",
    "                          how = 'left')\n",
    "df_pred_change.drop('Year_Month', axis = 1, inplace = True)"
   ]
  },
  {
   "cell_type": "code",
   "execution_count": 849,
   "metadata": {},
   "outputs": [],
   "source": [
    "df_pred_change = pd.merge(df_pred_change, pce[['PCE', 'Year_Month']], left_on = 'Year_Month2', right_on = 'Year_Month')\n",
    "df_pred_change.drop('Year_Month', axis = 1, inplace = True)"
   ]
  },
  {
   "cell_type": "code",
   "execution_count": 850,
   "metadata": {},
   "outputs": [],
   "source": [
    "df_pred_change = pd.merge(df_pred_change, vacancy[['County', 'State', 'Year_Month', 'Rental Vacancy Rate']],\n",
    "                          left_on = ['County', 'State', 'Year_Month3'], right_on = ['County', 'State', 'Year_Month'],\n",
    "                          how = 'left')\n",
    "df_pred_change.drop('Year_Month', axis = 1, inplace = True)"
   ]
  },
  {
   "cell_type": "code",
   "execution_count": 851,
   "metadata": {},
   "outputs": [],
   "source": [
    "df_pred_change = pd.merge(df_pred_change, jobs[['State', 'Job Openings', 'Year_Month']], left_on = ['State', 'Year_Month2'], \n",
    "                          right_on = ['State', 'Year_Month'], how = 'left')\n",
    "df_pred_change.drop('Year_Month', axis = 1, inplace = True)"
   ]
  },
  {
   "cell_type": "code",
   "execution_count": 852,
   "metadata": {},
   "outputs": [],
   "source": [
    "df_pred_change = pd.merge(df_pred_change, commute_worker[['County', 'State', 'CommuteTime', 'Salwrkr', 'Govwrkr',\n",
    "                                                          'Year_Month']],\n",
    "                          left_on = ['County', 'State', 'Year_Month3'], \n",
    "                          right_on = ['County', 'State', 'Year_Month'], how = 'left')\n",
    "df_pred_change.drop('Year_Month', axis = 1, inplace = True)"
   ]
  },
  {
   "cell_type": "code",
   "execution_count": 853,
   "metadata": {},
   "outputs": [],
   "source": [
    "df_pred_change = pd.merge(df_pred_change, grapi[['County', 'State', 'GRAPI', 'Year_Month']],\n",
    "                          left_on = ['County', 'State', 'Year_Month3'], \n",
    "                          right_on = ['County', 'State', 'Year_Month'], how = 'left')\n",
    "df_pred_change.drop('Year_Month', axis = 1, inplace = True)"
   ]
  },
  {
   "cell_type": "code",
   "execution_count": 854,
   "metadata": {},
   "outputs": [],
   "source": [
    "df_pred_change = df_pred_change[['Year', 'Month', 'ZipCode', 'Year_Month_y', 'Year_Month2', 'Year_Month3', 'ZHVI',\n",
    "                                 'HPI', 'AQI', 'Population', 'Unemployment', 'Percent Bachelors', 'Units',\n",
    "                                 'Total_Households', 'Med_income', 'PCE', 'Rental Vacancy Rate', 'Job Openings', \n",
    "                                'CommuteTime', 'Salwrkr', 'Govwrkr', 'GRAPI']]\n",
    "df_pred_change['Year'] = df_pred_change['Year'] + 1"
   ]
  },
  {
   "cell_type": "code",
   "execution_count": 856,
   "metadata": {},
   "outputs": [],
   "source": [
    "df_temp = df.copy()\n",
    "df_temp['Year_Month'] = df_temp['Year'].map(str) + '_' + df_temp['Month'].map(str)"
   ]
  },
  {
   "cell_type": "code",
   "execution_count": 860,
   "metadata": {},
   "outputs": [],
   "source": [
    "df_pred_change = pd.merge(df_pred_change, df_temp, left_on = ['Year_Month2', 'ZipCode'],\n",
    "                          right_on = ['Year_Month', 'ZipCode'], how = 'left')"
   ]
  },
  {
   "cell_type": "code",
   "execution_count": 863,
   "metadata": {},
   "outputs": [],
   "source": [
    "df_pred_change['ZHVI'] = (df_pred_change['ZHVI'] - df_pred_change['ZHVI_lagged_1']) / df_pred_change['ZHVI_lagged_1']\n",
    "df_pred_change['HPI'] = (df_pred_change['HPI'] - df_pred_change['HPI_lagged_2']) / df_pred_change['HPI_lagged_2']\n",
    "df_pred_change['AQI'] = (df_pred_change['AQI'] - df_pred_change['AQI_lagged_1']) / df_pred_change['AQI_lagged_1']\n",
    "df_pred_change['Population'] = (df_pred_change['Population'] - df_pred_change['Population_lagged_2']) /\\\n",
    "                                df_pred_change['Population_lagged_2']\n",
    "df_pred_change['Unemployment'] = (df_pred_change['Unemployment'] - df_pred_change['Unemployment_lagged_1']) /\\\n",
    "                                  df_pred_change['Unemployment_lagged_1']\n",
    "df_pred_change['Percent Bachelors'] = (df_pred_change['Percent Bachelors'] -\\\n",
    "                                       df_pred_change['Percent Bachelors_lagged_2']) /\\\n",
    "                                       df_pred_change['Percent Bachelors_lagged_2']\n",
    "df_pred_change['Units'] = (df_pred_change['Units'] - df_pred_change['Permits_lagged_1']) /\\\n",
    "                           df_pred_change['Permits_lagged_1']\n",
    "df_pred_change['Total_Households'] = (df_pred_change['Total_Households'] -\\\n",
    "                                      df_pred_change['Total_Households_lagged_2']) /\\\n",
    "                                      df_pred_change['Total_Households_lagged_2']\n",
    "df_pred_change['Med_income'] = (df_pred_change['Med_income'] - df_pred_change['Med_Income_lagged_2']) /\\\n",
    "                                df_pred_change['Med_Income_lagged_2']\n",
    "df_pred_change['PCE'] = (df_pred_change['PCE'] - df_pred_change['PCE_lagged_1']) / df_pred_change['PCE_lagged_1'] \n",
    "df_pred_change['Rental Vacancy Rate'] = (df_pred_change['Rental Vacancy Rate'] -\\\n",
    "                                         df_pred_change['Rental Vacancy Rate_lagged_2']) /\\\n",
    "                                         df_pred_change['Rental Vacancy Rate_lagged_2']\n",
    "df_pred_change['Job Openings'] = (df_pred_change['Job Openings'] - df_pred_change['Job Openings_lagged_1']) /\\\n",
    "                                  df_pred_change['Job Openings_lagged_1']\n",
    "df_pred_change['CommuteTime'] = (df_pred_change['CommuteTime'] - df_pred_change['CommuteTime_lagged_2']) /\\\n",
    "                                 df_pred_change['CommuteTime_lagged_2']\n",
    "df_pred_change['Salwrkr'] = (df_pred_change['Salwrkr'] - df_pred_change['Salwrkr_lagged_2']) /\\\n",
    "                             df_pred_change['Salwrkr_lagged_2']\n",
    "df_pred_change['Govwrkr'] = (df_pred_change['Govwrkr'] - df_pred_change['Govwrkr_lagged_2']) /\\\n",
    "                             df_pred_change['Govwrkr_lagged_2']\n",
    "df_pred_change['GRAPI'] = (df_pred_change['GRAPI'] - df_pred_change['GRAPI_lagged_2']) /\\\n",
    "                             df_pred_change['GRAPI_lagged_2']"
   ]
  },
  {
   "cell_type": "code",
   "execution_count": 865,
   "metadata": {},
   "outputs": [],
   "source": [
    "df_pred_change = df_pred_change[['Year_x', 'Month_x', 'ZipCode', 'ZHVI', 'HPI', 'AQI', 'Population', 'Unemployment',\n",
    "                                 'Percent Bachelors', 'Units', 'Total_Households', 'Med_income', 'PCE', \n",
    "                                 'Rental Vacancy Rate', 'Job Openings', 'CommuteTime', 'Salwrkr', 'Govwrkr', 'GRAPI']]"
   ]
  },
  {
   "cell_type": "code",
   "execution_count": 866,
   "metadata": {},
   "outputs": [],
   "source": [
    "df_pred_change.columns = ['Year', 'Month', 'ZipCode', 'ZHVI_lagged_1_delta', 'HPI_lagged_2_delta', 'AQI_lagged_1_delta',\n",
    "                          'Population_lagged_2_delta', 'Unemployment_lagged_1_delta', 'Percent Bachelors_lagged_2_delta',\n",
    "                          'Permits_lagged_1_delta', 'Total_Households_lagged_2_delta', 'Med_Income_lagged_2_delta',\n",
    "                          'PCE_lagged_1_delta', 'Rental Vacancy Rate_lagged_2_delta', 'Job Openings_lagged_1_delta', \n",
    "                          'CommuteTime_lagged_2_delta', 'Salwrkr_lagged_2_delta', 'Govwrkr_lagged_2_delta', \n",
    "                          'GRAPI_lagged_2_delta']"
   ]
  },
  {
   "cell_type": "code",
   "execution_count": 867,
   "metadata": {},
   "outputs": [
    {
     "data": {
      "text/plain": [
       "Year                                      0\n",
       "Month                                     0\n",
       "ZipCode                                   0\n",
       "ZHVI_lagged_1_delta                    2742\n",
       "HPI_lagged_2_delta                     3840\n",
       "AQI_lagged_1_delta                     4532\n",
       "Population_lagged_2_delta              2527\n",
       "Unemployment_lagged_1_delta            2348\n",
       "Percent Bachelors_lagged_2_delta       2527\n",
       "Permits_lagged_1_delta                 1244\n",
       "Total_Households_lagged_2_delta        2527\n",
       "Med_Income_lagged_2_delta              2527\n",
       "PCE_lagged_1_delta                     1204\n",
       "Rental Vacancy Rate_lagged_2_delta     2629\n",
       "Job Openings_lagged_1_delta           10854\n",
       "CommuteTime_lagged_2_delta             2527\n",
       "Salwrkr_lagged_2_delta                 2527\n",
       "Govwrkr_lagged_2_delta                 2527\n",
       "GRAPI_lagged_2_delta                   2527\n",
       "dtype: int64"
      ]
     },
     "execution_count": 867,
     "metadata": {},
     "output_type": "execute_result"
    }
   ],
   "source": [
    "df_pred_change.isnull().sum(axis = 0)"
   ]
  },
  {
   "cell_type": "code",
   "execution_count": 868,
   "metadata": {},
   "outputs": [],
   "source": [
    "# Dropping NaN values\n",
    "df_pred_change = df_pred_change[~df_pred_change['ZHVI_lagged_1_delta'].isnull()]\n",
    "df_pred_change = df_pred_change[~df_pred_change['HPI_lagged_2_delta'].isnull()]\n",
    "df_pred_change = df_pred_change[~df_pred_change['AQI_lagged_1_delta'].isnull()]\n",
    "df_pred_change = df_pred_change[~df_pred_change['Population_lagged_2_delta'].isnull()]\n",
    "df_pred_change = df_pred_change[~df_pred_change['Permits_lagged_1_delta'].isnull()]\n",
    "df_pred_change = df_pred_change[~df_pred_change['Rental Vacancy Rate_lagged_2_delta'].isnull()]\n",
    "df_pred_change = df_pred_change[~df_pred_change['Job Openings_lagged_1_delta'].isnull()]"
   ]
  },
  {
   "cell_type": "code",
   "execution_count": 869,
   "metadata": {},
   "outputs": [
    {
     "data": {
      "text/plain": [
       "Year                                  0\n",
       "Month                                 0\n",
       "ZipCode                               0\n",
       "ZHVI_lagged_1_delta                   0\n",
       "HPI_lagged_2_delta                    0\n",
       "AQI_lagged_1_delta                    0\n",
       "Population_lagged_2_delta             0\n",
       "Unemployment_lagged_1_delta           0\n",
       "Percent Bachelors_lagged_2_delta      0\n",
       "Permits_lagged_1_delta                0\n",
       "Total_Households_lagged_2_delta       0\n",
       "Med_Income_lagged_2_delta             0\n",
       "PCE_lagged_1_delta                    0\n",
       "Rental Vacancy Rate_lagged_2_delta    0\n",
       "Job Openings_lagged_1_delta           0\n",
       "CommuteTime_lagged_2_delta            0\n",
       "Salwrkr_lagged_2_delta                0\n",
       "Govwrkr_lagged_2_delta                0\n",
       "GRAPI_lagged_2_delta                  0\n",
       "dtype: int64"
      ]
     },
     "execution_count": 869,
     "metadata": {},
     "output_type": "execute_result"
    }
   ],
   "source": [
    "df_pred_change.isnull().sum(axis = 0)"
   ]
  },
  {
   "cell_type": "code",
   "execution_count": 870,
   "metadata": {},
   "outputs": [
    {
     "data": {
      "text/plain": [
       "Year                                    0\n",
       "Month                                   0\n",
       "ZipCode                                 0\n",
       "ZHVI_lagged_1_delta                     0\n",
       "HPI_lagged_2_delta                      0\n",
       "AQI_lagged_1_delta                      0\n",
       "Population_lagged_2_delta               0\n",
       "Unemployment_lagged_1_delta             0\n",
       "Percent Bachelors_lagged_2_delta        0\n",
       "Permits_lagged_1_delta                107\n",
       "Total_Households_lagged_2_delta         0\n",
       "Med_Income_lagged_2_delta               0\n",
       "PCE_lagged_1_delta                      0\n",
       "Rental Vacancy Rate_lagged_2_delta     12\n",
       "Job Openings_lagged_1_delta             0\n",
       "CommuteTime_lagged_2_delta              0\n",
       "Salwrkr_lagged_2_delta                  0\n",
       "Govwrkr_lagged_2_delta                  0\n",
       "GRAPI_lagged_2_delta                    0\n",
       "dtype: int64"
      ]
     },
     "execution_count": 870,
     "metadata": {},
     "output_type": "execute_result"
    }
   ],
   "source": [
    "(df_pred_change == np.inf).sum(axis = 0)"
   ]
  },
  {
   "cell_type": "code",
   "execution_count": 871,
   "metadata": {},
   "outputs": [],
   "source": [
    "# Drop np.inf values\n",
    "df_pred_change = df_pred_change[df_pred_change['Permits_lagged_1_delta'] != np.inf]\n",
    "df_pred_change = df_pred_change[df_pred_change['Rental Vacancy Rate_lagged_2_delta'] != np.inf]"
   ]
  },
  {
   "cell_type": "code",
   "execution_count": 874,
   "metadata": {},
   "outputs": [
    {
     "data": {
      "text/plain": [
       "0.1659310918343544"
      ]
     },
     "execution_count": 874,
     "metadata": {},
     "output_type": "execute_result"
    }
   ],
   "source": [
    "regression_change = LinearRegression()\n",
    "regression_change.fit(train_change.iloc[:, 4:], train_change.iloc[:, 3])\n",
    "regression_change.score(train_change.iloc[:, 4:], train_change.iloc[:, 3])"
   ]
  },
  {
   "cell_type": "code",
   "execution_count": 875,
   "metadata": {},
   "outputs": [
    {
     "data": {
      "text/plain": [
       "0.15997574025885142"
      ]
     },
     "execution_count": 875,
     "metadata": {},
     "output_type": "execute_result"
    }
   ],
   "source": [
    "r2_score(test_change.iloc[:, 3], regression_change.predict(test_change.iloc[:, 4:]))"
   ]
  },
  {
   "cell_type": "code",
   "execution_count": 877,
   "metadata": {},
   "outputs": [
    {
     "data": {
      "text/plain": [
       "LinearRegression()"
      ]
     },
     "execution_count": 877,
     "metadata": {},
     "output_type": "execute_result"
    }
   ],
   "source": [
    "# Refit using the entire dataset\n",
    "regression_change.fit(df_change.iloc[:, 4:], df_change.iloc[:, 3])"
   ]
  },
  {
   "cell_type": "code",
   "execution_count": 878,
   "metadata": {},
   "outputs": [],
   "source": [
    "# Prediction on ZipCode of 77084 (randomly chosen)\n",
    "zipcode = 77084\n",
    "df_pred_change_zipcode = df_pred_change[df_pred_change['ZipCode'] == zipcode]\n",
    "pred_change_MLR = regression_change.predict(df_pred_change_zipcode.iloc[:, 3:])"
   ]
  },
  {
   "cell_type": "code",
   "execution_count": 879,
   "metadata": {},
   "outputs": [],
   "source": [
    "pred_change_MLR = pd.DataFrame({'Year': df_pred_change_zipcode['Year'], 'Month': df_pred_change_zipcode['Month'], \n",
    "                     'ZORI_MLR': pred_change_MLR}).reset_index().drop('index', axis = 1)\n",
    "pred_change_MLR['Year_Month'] = pred_change_MLR['Year'].map(str) + '_' + pred_change_MLR['Month'].map(str)\n",
    "pred_change_MLR = pred_change_MLR[['Year_Month', 'ZORI_MLR']]\n",
    "pred_change_MLR['Year_Month'] = pd.to_datetime(pred_change_MLR['Year_Month'], format = '%Y_%m')"
   ]
  },
  {
   "cell_type": "code",
   "execution_count": 880,
   "metadata": {},
   "outputs": [],
   "source": [
    "actual = zori[zori['ZipCode'] == zipcode][['Year_Month', 'ZORI']]\n",
    "actual['Year_Month'] = pd.to_datetime(actual['Year_Month'], format = '%Y_%m')"
   ]
  },
  {
   "cell_type": "code",
   "execution_count": 881,
   "metadata": {},
   "outputs": [],
   "source": [
    "pred_change_MLR.loc[:, 'ZORI_MLR'] = np.array(actual[actual['Year_Month'].isin(pred_change_MLR['Year_Month'].map(lambda date:\\\n",
    "                                     date - relativedelta(months = 12)))]['ZORI']) * np.array((1 +\\\n",
    "                                     pred_change_MLR['ZORI_MLR']))"
   ]
  },
  {
   "cell_type": "code",
   "execution_count": 882,
   "metadata": {},
   "outputs": [
    {
     "data": {
      "image/png": "[encoded data removed]",
      "text/plain": [
       "<Figure size 432x288 with 1 Axes>"
      ]
     },
     "metadata": {
      "needs_background": "light"
     },
     "output_type": "display_data"
    }
   ],
   "source": [
    "sns.lineplot(x = 'Year_Month', y = 'ZORI', data = actual)\n",
    "sns.lineplot(x = 'Year_Month', y = 'ZORI_MLR', data = pred_change_MLR)\n",
    "plt.title(f'ZORI for {zipcode}');"
   ]
  },
  {
   "cell_type": "code",
   "execution_count": 883,
   "metadata": {},
   "outputs": [],
   "source": [
    "mutual_scores_change = mutual_info_regression(train_change.iloc[:, 4:], train_change.iloc[:, 3])"
   ]
  },
  {
   "cell_type": "code",
   "execution_count": 884,
   "metadata": {},
   "outputs": [
    {
     "data": {
      "text/html": [
       "<div>\n",
       "<style scoped>\n",
       "    .dataframe tbody tr th:only-of-type {\n",
       "        vertical-align: middle;\n",
       "    }\n",
       "\n",
       "    .dataframe tbody tr th {\n",
       "        vertical-align: top;\n",
       "    }\n",
       "\n",
       "    .dataframe thead th {\n",
       "        text-align: right;\n",
       "    }\n",
       "</style>\n",
       "<table border=\"1\" class=\"dataframe\">\n",
       "  <thead>\n",
       "    <tr style=\"text-align: right;\">\n",
       "      <th></th>\n",
       "      <th>mutual information scores</th>\n",
       "    </tr>\n",
       "  </thead>\n",
       "  <tbody>\n",
       "    <tr>\n",
       "      <th>Population_lagged_2_delta</th>\n",
       "      <td>0.231083</td>\n",
       "    </tr>\n",
       "    <tr>\n",
       "      <th>Total_Households_lagged_2_delta</th>\n",
       "      <td>0.225038</td>\n",
       "    </tr>\n",
       "    <tr>\n",
       "      <th>Med_Income_lagged_2_delta</th>\n",
       "      <td>0.220982</td>\n",
       "    </tr>\n",
       "    <tr>\n",
       "      <th>CommuteTime_lagged_2_delta</th>\n",
       "      <td>0.219428</td>\n",
       "    </tr>\n",
       "    <tr>\n",
       "      <th>Percent Bachelors_lagged_2_delta</th>\n",
       "      <td>0.211946</td>\n",
       "    </tr>\n",
       "    <tr>\n",
       "      <th>Salwrkr_lagged_2_delta</th>\n",
       "      <td>0.203188</td>\n",
       "    </tr>\n",
       "    <tr>\n",
       "      <th>Rental Vacancy Rate_lagged_2_delta</th>\n",
       "      <td>0.202199</td>\n",
       "    </tr>\n",
       "    <tr>\n",
       "      <th>Govwrkr_lagged_2_delta</th>\n",
       "      <td>0.198643</td>\n",
       "    </tr>\n",
       "    <tr>\n",
       "      <th>HPI_lagged_2_delta</th>\n",
       "      <td>0.133393</td>\n",
       "    </tr>\n",
       "    <tr>\n",
       "      <th>GRAPI_lagged_2_delta</th>\n",
       "      <td>0.098741</td>\n",
       "    </tr>\n",
       "    <tr>\n",
       "      <th>ZHVI_lagged_1_delta</th>\n",
       "      <td>0.082561</td>\n",
       "    </tr>\n",
       "    <tr>\n",
       "      <th>Job Openings_lagged_1_delta</th>\n",
       "      <td>0.060078</td>\n",
       "    </tr>\n",
       "    <tr>\n",
       "      <th>Permits_lagged_1_delta</th>\n",
       "      <td>0.045608</td>\n",
       "    </tr>\n",
       "    <tr>\n",
       "      <th>Unemployment_lagged_1_delta</th>\n",
       "      <td>0.044863</td>\n",
       "    </tr>\n",
       "    <tr>\n",
       "      <th>PCE_lagged_1_delta</th>\n",
       "      <td>0.043782</td>\n",
       "    </tr>\n",
       "    <tr>\n",
       "      <th>AQI_lagged_1_delta</th>\n",
       "      <td>0.022100</td>\n",
       "    </tr>\n",
       "  </tbody>\n",
       "</table>\n",
       "</div>"
      ],
      "text/plain": [
       "                                    mutual information scores\n",
       "Population_lagged_2_delta                            0.231083\n",
       "Total_Households_lagged_2_delta                      0.225038\n",
       "Med_Income_lagged_2_delta                            0.220982\n",
       "CommuteTime_lagged_2_delta                           0.219428\n",
       "Percent Bachelors_lagged_2_delta                     0.211946\n",
       "Salwrkr_lagged_2_delta                               0.203188\n",
       "Rental Vacancy Rate_lagged_2_delta                   0.202199\n",
       "Govwrkr_lagged_2_delta                               0.198643\n",
       "HPI_lagged_2_delta                                   0.133393\n",
       "GRAPI_lagged_2_delta                                 0.098741\n",
       "ZHVI_lagged_1_delta                                  0.082561\n",
       "Job Openings_lagged_1_delta                          0.060078\n",
       "Permits_lagged_1_delta                               0.045608\n",
       "Unemployment_lagged_1_delta                          0.044863\n",
       "PCE_lagged_1_delta                                   0.043782\n",
       "AQI_lagged_1_delta                                   0.022100"
      ]
     },
     "execution_count": 884,
     "metadata": {},
     "output_type": "execute_result"
    }
   ],
   "source": [
    "mutual_score_values_change = pd.Series(mutual_scores_change,\n",
    "                                       index = train_change.iloc[:, 4:].columns).sort_values(ascending = False)\n",
    "pd.DataFrame(mutual_score_values_change, columns = ['mutual information scores'])"
   ]
  },
  {
   "cell_type": "markdown",
   "metadata": {},
   "source": [
    "## Random Forest Regressor on % Change in ZORI"
   ]
  },
  {
   "cell_type": "code",
   "execution_count": 886,
   "metadata": {},
   "outputs": [],
   "source": [
    "randomForest_change = ensemble.RandomForestRegressor()"
   ]
  },
  {
   "cell_type": "code",
   "execution_count": 887,
   "metadata": {},
   "outputs": [
    {
     "data": {
      "text/plain": [
       "GridSearchCV(cv=5, estimator=RandomForestRegressor(), n_jobs=-1,\n",
       "             param_grid=[{'criterion': ['mse'], 'max_depth': [11],\n",
       "                          'min_samples_leaf': [50], 'min_samples_split': [50],\n",
       "                          'n_estimators': [300], 'random_state': [42]}],\n",
       "             return_train_score=True)"
      ]
     },
     "execution_count": 887,
     "metadata": {},
     "output_type": "execute_result"
    }
   ],
   "source": [
    "grid_para_forest_change = [{\n",
    "    \"n_estimators\": [300],\n",
    "    \"criterion\": [\"mse\"],\n",
    "    \"min_samples_leaf\": [50], # [40-60]\n",
    "    \"min_samples_split\": [50], # [40-60]\n",
    "    \"max_depth\": [11], # [10-12]\n",
    "    \"random_state\": [42]}]\n",
    "\n",
    "grid_search_forest_change = GridSearchCV(randomForest_change, grid_para_forest_change, cv = 5, n_jobs = -1,\n",
    "                                         return_train_score = True)\n",
    "grid_search_forest_change.fit(train_change.iloc[:, 4:], train_change.iloc[:, 3])"
   ]
  },
  {
   "cell_type": "code",
   "execution_count": 888,
   "metadata": {},
   "outputs": [
    {
     "data": {
      "text/html": [
       "<div>\n",
       "<style scoped>\n",
       "    .dataframe tbody tr th:only-of-type {\n",
       "        vertical-align: middle;\n",
       "    }\n",
       "\n",
       "    .dataframe tbody tr th {\n",
       "        vertical-align: top;\n",
       "    }\n",
       "\n",
       "    .dataframe thead th {\n",
       "        text-align: right;\n",
       "    }\n",
       "</style>\n",
       "<table border=\"1\" class=\"dataframe\">\n",
       "  <thead>\n",
       "    <tr style=\"text-align: right;\">\n",
       "      <th></th>\n",
       "      <th>hyperparameter</th>\n",
       "    </tr>\n",
       "  </thead>\n",
       "  <tbody>\n",
       "    <tr>\n",
       "      <th>criterion</th>\n",
       "      <td>mse</td>\n",
       "    </tr>\n",
       "    <tr>\n",
       "      <th>max_depth</th>\n",
       "      <td>11</td>\n",
       "    </tr>\n",
       "    <tr>\n",
       "      <th>min_samples_leaf</th>\n",
       "      <td>50</td>\n",
       "    </tr>\n",
       "    <tr>\n",
       "      <th>min_samples_split</th>\n",
       "      <td>50</td>\n",
       "    </tr>\n",
       "    <tr>\n",
       "      <th>n_estimators</th>\n",
       "      <td>300</td>\n",
       "    </tr>\n",
       "    <tr>\n",
       "      <th>random_state</th>\n",
       "      <td>42</td>\n",
       "    </tr>\n",
       "  </tbody>\n",
       "</table>\n",
       "</div>"
      ],
      "text/plain": [
       "                  hyperparameter\n",
       "criterion                    mse\n",
       "max_depth                     11\n",
       "min_samples_leaf              50\n",
       "min_samples_split             50\n",
       "n_estimators                 300\n",
       "random_state                  42"
      ]
     },
     "execution_count": 888,
     "metadata": {},
     "output_type": "execute_result"
    }
   ],
   "source": [
    "pd.DataFrame.from_dict(grid_search_forest_change.best_params_, orient = 'index', columns = ['hyperparameter'])"
   ]
  },
  {
   "cell_type": "code",
   "execution_count": 889,
   "metadata": {},
   "outputs": [
    {
     "data": {
      "text/plain": [
       "0.4596050246662339"
      ]
     },
     "execution_count": 889,
     "metadata": {},
     "output_type": "execute_result"
    }
   ],
   "source": [
    "grid_search_forest_change.cv_results_['mean_train_score'][0]"
   ]
  },
  {
   "cell_type": "code",
   "execution_count": 890,
   "metadata": {},
   "outputs": [
    {
     "data": {
      "text/plain": [
       "0.4277250560285629"
      ]
     },
     "execution_count": 890,
     "metadata": {},
     "output_type": "execute_result"
    }
   ],
   "source": [
    "grid_search_forest_change.score(test_change.iloc[:, 4:], test_change.iloc[:, 3])"
   ]
  },
  {
   "cell_type": "code",
   "execution_count": 351,
   "metadata": {},
   "outputs": [],
   "source": [
    "# Refit using the entire dataset\n",
    "# grid_search_forest.fit(df_clean.iloc[:, 3:], df_clean.iloc[:, 2])"
   ]
  },
  {
   "cell_type": "code",
   "execution_count": 891,
   "metadata": {},
   "outputs": [],
   "source": [
    "# Prediction on ZipCode of 77084 (randomly chosen)\n",
    "zipcode = 77084\n",
    "df_pred_change_zipcode = df_pred_change[df_pred_change['ZipCode'] == zipcode]\n",
    "pred_change_RF = grid_search_forest_change.predict(df_pred_change_zipcode.iloc[:, 3:])"
   ]
  },
  {
   "cell_type": "code",
   "execution_count": 893,
   "metadata": {},
   "outputs": [],
   "source": [
    "pred_change_RF = pd.DataFrame({'Year': df_pred_change_zipcode['Year'], 'Month': df_pred_change_zipcode['Month'], \n",
    "                     'ZORI_RF': pred_change_RF}).reset_index().drop('index', axis = 1)\n",
    "pred_change_RF['Year_Month'] = pred_change_RF['Year'].map(str) + '_' + pred_change_RF['Month'].map(str)\n",
    "pred_change_RF = pred_change_RF[['Year_Month', 'ZORI_RF']]\n",
    "pred_change_RF['Year_Month'] = pd.to_datetime(pred_change_RF['Year_Month'], format = '%Y_%m')"
   ]
  },
  {
   "cell_type": "code",
   "execution_count": 894,
   "metadata": {},
   "outputs": [],
   "source": [
    "actual = zori[zori['ZipCode'] == zipcode][['Year_Month', 'ZORI']]\n",
    "actual['Year_Month'] = pd.to_datetime(actual['Year_Month'], format = '%Y_%m')"
   ]
  },
  {
   "cell_type": "code",
   "execution_count": 895,
   "metadata": {},
   "outputs": [],
   "source": [
    "pred_change_RF.loc[:, 'ZORI_RF'] = np.array(actual[actual['Year_Month'].isin(pred_change_RF['Year_Month'].map(lambda date:\\\n",
    "                                   date - relativedelta(months = 12)))]['ZORI']) * np.array((1 + pred_change_RF['ZORI_RF']))"
   ]
  },
  {
   "cell_type": "code",
   "execution_count": 896,
   "metadata": {},
   "outputs": [
    {
     "data": {
      "image/png": "[encoded data removed]",
      "text/plain": [
       "<Figure size 432x288 with 1 Axes>"
      ]
     },
     "metadata": {
      "needs_background": "light"
     },
     "output_type": "display_data"
    }
   ],
   "source": [
    "sns.lineplot(x = 'Year_Month', y = 'ZORI', data = actual)\n",
    "sns.lineplot(x = 'Year_Month', y = 'ZORI_RF', data = pred_change_RF)\n",
    "plt.title(f'ZORI for {zipcode}');"
   ]
  },
  {
   "cell_type": "markdown",
   "metadata": {},
   "source": [
    "## Aggregate Prediction"
   ]
  },
  {
   "cell_type": "code",
   "execution_count": 897,
   "metadata": {},
   "outputs": [],
   "source": [
    "pred = pd.DataFrame({'Year_Month': pred_MLR['Year_Month'], 'ZORI':\\\n",
    "            ((pred_MLR['ZORI_MLR'] + pred_RF['ZORI_RF'] + pred_change_MLR['ZORI_MLR'] + pred_change_RF['ZORI_RF']) / 4)})"
   ]
  },
  {
   "cell_type": "code",
   "execution_count": 898,
   "metadata": {},
   "outputs": [
    {
     "data": {
      "image/png": "[encoded data removed]",
      "text/plain": [
       "<Figure size 432x288 with 1 Axes>"
      ]
     },
     "metadata": {
      "needs_background": "light"
     },
     "output_type": "display_data"
    }
   ],
   "source": [
    "sns.lineplot(x = 'Year_Month', y = 'ZORI', data = actual)\n",
    "sns.lineplot(x = 'Year_Month', y = 'ZORI', data = pred)\n",
    "plt.title(f'ZORI for {zipcode}');"
   ]
  }
 ],
 "metadata": {
  "kernelspec": {
   "display_name": "Python 3",
   "language": "python",
   "name": "python3"
  },
  "language_info": {
   "codemirror_mode": {
    "name": "ipython",
    "version": 3
   },
   "file_extension": ".py",
   "mimetype": "text/x-python",
   "name": "python",
   "nbconvert_exporter": "python",
   "pygments_lexer": "ipython3",
   "version": "3.7.7"
  }
 },
 "nbformat": 4,
 "nbformat_minor": 4
}
