{
 "cells": [
  {
   "cell_type": "code",
   "execution_count": 1,
   "metadata": {},
   "outputs": [],
   "source": [
    "import numpy as np\n",
    "import pandas as pd\n",
    "from sklearn.metrics import r2_score\n",
    "from sklearn.linear_model import LinearRegression, Lasso\n",
    "from sklearn.model_selection import train_test_split, KFold, GridSearchCV, cross_validate\n",
    "from sklearn.feature_selection import f_regression, mutual_info_regression \n",
    "from sklearn import ensemble"
   ]
  },
  {
   "cell_type": "code",
   "execution_count": 4,
   "metadata": {},
   "outputs": [],
   "source": [
    "df = pd.read_csv('stationary_data.csv')# read in cleaned data set, stationary years"
   ]
  },
  {
   "cell_type": "code",
   "execution_count": 68,
   "metadata": {},
   "outputs": [
    {
     "data": {
      "text/html": [
       "<div>\n",
       "<style scoped>\n",
       "    .dataframe tbody tr th:only-of-type {\n",
       "        vertical-align: middle;\n",
       "    }\n",
       "\n",
       "    .dataframe tbody tr th {\n",
       "        vertical-align: top;\n",
       "    }\n",
       "\n",
       "    .dataframe thead th {\n",
       "        text-align: right;\n",
       "    }\n",
       "</style>\n",
       "<table border=\"1\" class=\"dataframe\">\n",
       "  <thead>\n",
       "    <tr style=\"text-align: right;\">\n",
       "      <th></th>\n",
       "      <th>Year</th>\n",
       "      <th>Month</th>\n",
       "      <th>ZipCode</th>\n",
       "      <th>ZORI</th>\n",
       "      <th>ZHVI</th>\n",
       "      <th>AQI</th>\n",
       "      <th>Population</th>\n",
       "      <th>Unemployment</th>\n",
       "      <th>Percent Bachelors</th>\n",
       "      <th>Units</th>\n",
       "      <th>Total_Households</th>\n",
       "      <th>Med_income</th>\n",
       "      <th>PCE</th>\n",
       "      <th>Rental Vacancy Rate</th>\n",
       "      <th>ZORI_rsq</th>\n",
       "    </tr>\n",
       "  </thead>\n",
       "  <tbody>\n",
       "    <tr>\n",
       "      <th>0</th>\n",
       "      <td>2015</td>\n",
       "      <td>2</td>\n",
       "      <td>10025</td>\n",
       "      <td>3162.0</td>\n",
       "      <td>1171181.0</td>\n",
       "      <td>60.928571</td>\n",
       "      <td>1.623301e+06</td>\n",
       "      <td>5.6</td>\n",
       "      <td>32.2</td>\n",
       "      <td>1126.0</td>\n",
       "      <td>7.304468e+05</td>\n",
       "      <td>72743.449947</td>\n",
       "      <td>1.328401</td>\n",
       "      <td>4.4</td>\n",
       "      <td>0.520441</td>\n",
       "    </tr>\n",
       "    <tr>\n",
       "      <th>1</th>\n",
       "      <td>2015</td>\n",
       "      <td>2</td>\n",
       "      <td>60657</td>\n",
       "      <td>1643.0</td>\n",
       "      <td>446997.0</td>\n",
       "      <td>52.785714</td>\n",
       "      <td>5.232495e+06</td>\n",
       "      <td>6.7</td>\n",
       "      <td>22.1</td>\n",
       "      <td>1191.0</td>\n",
       "      <td>1.942356e+06</td>\n",
       "      <td>54319.591794</td>\n",
       "      <td>1.328401</td>\n",
       "      <td>5.4</td>\n",
       "      <td>0.892254</td>\n",
       "    </tr>\n",
       "    <tr>\n",
       "      <th>2</th>\n",
       "      <td>2015</td>\n",
       "      <td>2</td>\n",
       "      <td>10023</td>\n",
       "      <td>3229.0</td>\n",
       "      <td>1104524.0</td>\n",
       "      <td>60.928571</td>\n",
       "      <td>1.623301e+06</td>\n",
       "      <td>5.6</td>\n",
       "      <td>32.2</td>\n",
       "      <td>1126.0</td>\n",
       "      <td>7.304468e+05</td>\n",
       "      <td>72743.449947</td>\n",
       "      <td>1.328401</td>\n",
       "      <td>4.4</td>\n",
       "      <td>0.666686</td>\n",
       "    </tr>\n",
       "    <tr>\n",
       "      <th>3</th>\n",
       "      <td>2015</td>\n",
       "      <td>2</td>\n",
       "      <td>60614</td>\n",
       "      <td>1808.0</td>\n",
       "      <td>578551.0</td>\n",
       "      <td>52.785714</td>\n",
       "      <td>5.232495e+06</td>\n",
       "      <td>6.7</td>\n",
       "      <td>22.1</td>\n",
       "      <td>1191.0</td>\n",
       "      <td>1.942356e+06</td>\n",
       "      <td>54319.591794</td>\n",
       "      <td>1.328401</td>\n",
       "      <td>5.4</td>\n",
       "      <td>0.906743</td>\n",
       "    </tr>\n",
       "    <tr>\n",
       "      <th>4</th>\n",
       "      <td>2015</td>\n",
       "      <td>2</td>\n",
       "      <td>77449</td>\n",
       "      <td>1361.0</td>\n",
       "      <td>151529.0</td>\n",
       "      <td>48.892857</td>\n",
       "      <td>4.299820e+06</td>\n",
       "      <td>4.4</td>\n",
       "      <td>19.0</td>\n",
       "      <td>5938.0</td>\n",
       "      <td>1.511400e+06</td>\n",
       "      <td>53157.359233</td>\n",
       "      <td>1.328401</td>\n",
       "      <td>6.8</td>\n",
       "      <td>0.893101</td>\n",
       "    </tr>\n",
       "  </tbody>\n",
       "</table>\n",
       "</div>"
      ],
      "text/plain": [
       "   Year  Month  ZipCode    ZORI       ZHVI        AQI    Population  \\\n",
       "0  2015      2    10025  3162.0  1171181.0  60.928571  1.623301e+06   \n",
       "1  2015      2    60657  1643.0   446997.0  52.785714  5.232495e+06   \n",
       "2  2015      2    10023  3229.0  1104524.0  60.928571  1.623301e+06   \n",
       "3  2015      2    60614  1808.0   578551.0  52.785714  5.232495e+06   \n",
       "4  2015      2    77449  1361.0   151529.0  48.892857  4.299820e+06   \n",
       "\n",
       "   Unemployment  Percent Bachelors   Units  Total_Households    Med_income  \\\n",
       "0           5.6               32.2  1126.0      7.304468e+05  72743.449947   \n",
       "1           6.7               22.1  1191.0      1.942356e+06  54319.591794   \n",
       "2           5.6               32.2  1126.0      7.304468e+05  72743.449947   \n",
       "3           6.7               22.1  1191.0      1.942356e+06  54319.591794   \n",
       "4           4.4               19.0  5938.0      1.511400e+06  53157.359233   \n",
       "\n",
       "        PCE  Rental Vacancy Rate  ZORI_rsq  \n",
       "0  1.328401                  4.4  0.520441  \n",
       "1  1.328401                  5.4  0.892254  \n",
       "2  1.328401                  4.4  0.666686  \n",
       "3  1.328401                  5.4  0.906743  \n",
       "4  1.328401                  6.8  0.893101  "
      ]
     },
     "execution_count": 68,
     "metadata": {},
     "output_type": "execute_result"
    }
   ],
   "source": [
    "df.head()"
   ]
  },
  {
   "cell_type": "code",
   "execution_count": 6,
   "metadata": {},
   "outputs": [],
   "source": [
    "nallzq = df.ZipCode.unique()"
   ]
  },
  {
   "cell_type": "code",
   "execution_count": 7,
   "metadata": {},
   "outputs": [],
   "source": [
    "#perform linear fit of ZORI versus year for chosen Zip Code\n",
    "def zipcodeyrfit(code):\n",
    "    r1 = LinearRegression()\n",
    "    y1 = df[df['ZipCode']==code]['ZORI']\n",
    "    x1 = df[df['ZipCode']==code][['Year']]\n",
    "    r1.fit(x1, y1)\n",
    "    return r1.score(x1,y1) "
   ]
  },
  {
   "cell_type": "code",
   "execution_count": 8,
   "metadata": {},
   "outputs": [
    {
     "name": "stderr",
     "output_type": "stream",
     "text": [
      "/Applications/anaconda3/envs/Base_new/lib/python3.7/site-packages/sklearn/metrics/_regression.py:594: UndefinedMetricWarning: R^2 score is not well-defined with less than two samples.\n",
      "  warnings.warn(msg, UndefinedMetricWarning)\n",
      "/Applications/anaconda3/envs/Base_new/lib/python3.7/site-packages/sklearn/metrics/_regression.py:594: UndefinedMetricWarning: R^2 score is not well-defined with less than two samples.\n",
      "  warnings.warn(msg, UndefinedMetricWarning)\n"
     ]
    }
   ],
   "source": [
    "# determine R2 for all zip codes\n",
    "ZORI_codes = []\n",
    "for code in nallzq:\n",
    "    ZORI_codes.append(zipcodeyrfit(code))"
   ]
  },
  {
   "cell_type": "code",
   "execution_count": 9,
   "metadata": {},
   "outputs": [],
   "source": [
    "code_df = pd.DataFrame({'ZipCode':nallzq, 'ZORI_rsq':ZORI_codes })"
   ]
  },
  {
   "cell_type": "code",
   "execution_count": 11,
   "metadata": {},
   "outputs": [
    {
     "data": {
      "text/plain": [
       "<AxesSubplot:>"
      ]
     },
     "execution_count": 11,
     "metadata": {},
     "output_type": "execute_result"
    },
    {
     "data": {
      "image/png": "[encoded data removed]",
      "text/plain": [
       "<Figure size 432x288 with 1 Axes>"
      ]
     },
     "metadata": {
      "needs_background": "light"
     },
     "output_type": "display_data"
    }
   ],
   "source": [
    "%matplotlib inline\n",
    "code_df.ZORI_rsq.hist()"
   ]
  },
  {
   "cell_type": "code",
   "execution_count": 12,
   "metadata": {},
   "outputs": [],
   "source": [
    "df = pd.merge(df, code_df[['ZipCode', 'ZORI_rsq']], left_on = ['ZipCode'],\n",
    "              right_on = ['ZipCode'], how = 'left')"
   ]
  },
  {
   "cell_type": "code",
   "execution_count": 16,
   "metadata": {},
   "outputs": [
    {
     "data": {
      "text/plain": [
       "Year                   0\n",
       "Month                  0\n",
       "ZipCode                0\n",
       "ZORI                   0\n",
       "ZHVI                   0\n",
       "AQI                    0\n",
       "Population             0\n",
       "Unemployment           0\n",
       "Percent Bachelors      0\n",
       "Units                  0\n",
       "Total_Households       0\n",
       "Med_income             0\n",
       "PCE                    0\n",
       "Rental Vacancy Rate    0\n",
       "ZORI_rsq               0\n",
       "dtype: int64"
      ]
     },
     "execution_count": 16,
     "metadata": {},
     "output_type": "execute_result"
    }
   ],
   "source": [
    "df = df.fillna(0)\n",
    "df.isnull().sum(axis=0)"
   ]
  },
  {
   "cell_type": "code",
   "execution_count": 17,
   "metadata": {},
   "outputs": [
    {
     "data": {
      "text/plain": [
       "0.23528283630126512"
      ]
     },
     "execution_count": 17,
     "metadata": {},
     "output_type": "execute_result"
    }
   ],
   "source": [
    "# include all data\n",
    "regression = LinearRegression()\n",
    "regression.fit(df.iloc[:, 4:], df.iloc[:, 3])\n",
    "regression.score(df.iloc[:, 4:], df.iloc[:, 3])"
   ]
  },
  {
   "cell_type": "code",
   "execution_count": 19,
   "metadata": {},
   "outputs": [
    {
     "data": {
      "text/plain": [
       "0.7399123217761967"
      ]
     },
     "execution_count": 19,
     "metadata": {},
     "output_type": "execute_result"
    }
   ],
   "source": [
    "# ZORI < 4000\n",
    "regression = LinearRegression()\n",
    "regression.fit(df[df['ZORI']<4000].iloc[:, 4:], df[df['ZORI']<4000].iloc[:, 3])\n",
    "regression.score(df[df['ZORI']<4000].iloc[:, 4:], df[df['ZORI']<4000].iloc[:, 3])"
   ]
  },
  {
   "cell_type": "code",
   "execution_count": 20,
   "metadata": {},
   "outputs": [
    {
     "data": {
      "text/plain": [
       "0.2875631073159547"
      ]
     },
     "execution_count": 20,
     "metadata": {},
     "output_type": "execute_result"
    }
   ],
   "source": [
    "# ZORI_rsq > 0.8\n",
    "regression = LinearRegression()\n",
    "regression.fit(df[df['ZORI_rsq']>0.8].iloc[:, 4:], df[df['ZORI_rsq']>0.8].iloc[:, 3])\n",
    "regression.score(df[df['ZORI_rsq']>0.8].iloc[:, 4:], df[df['ZORI_rsq']>0.8].iloc[:, 3])"
   ]
  },
  {
   "cell_type": "code",
   "execution_count": 21,
   "metadata": {},
   "outputs": [
    {
     "data": {
      "text/plain": [
       "0.740129923591697"
      ]
     },
     "execution_count": 21,
     "metadata": {},
     "output_type": "execute_result"
    }
   ],
   "source": [
    "# ZORI rsq > 0.8 and ZORI < 4000\n",
    "regression = LinearRegression()\n",
    "regression.fit(df[(df['ZORI_rsq']>0.8) & (df['ZORI']<4000)].iloc[:, 4:], \n",
    "               df[(df['ZORI_rsq']>0.8) & (df['ZORI']<4000)].iloc[:, 3])\n",
    "regression.score(df[(df['ZORI_rsq']>0.8) & (df['ZORI']<4000)].iloc[:, 4:], \n",
    "               df[(df['ZORI_rsq']>0.8) & (df['ZORI']<4000)].iloc[:, 3])"
   ]
  },
  {
   "cell_type": "code",
   "execution_count": 61,
   "metadata": {},
   "outputs": [],
   "source": [
    "df_change = pd.read_csv('percent_change_data.csv')# read in cleaned data set, percent change"
   ]
  },
  {
   "cell_type": "code",
   "execution_count": 62,
   "metadata": {},
   "outputs": [
    {
     "data": {
      "text/plain": [
       "Index(['Year', 'Month', 'ZipCode', 'ZORI_delta', 'ZHVI_lagged_1_delta',\n",
       "       'AQI_lagged_1_delta', 'Population_lagged_2_delta',\n",
       "       'Unemployment_lagged_1_delta', 'Percent Bachelors_lagged_2_delta',\n",
       "       'Permits_lagged_1_delta', 'Total_Households_lagged_2_delta',\n",
       "       'Med_Income_lagged_2_delta', 'PCE_lagged_1_delta',\n",
       "       'Rental Vacancy Rate_lagged_2_delta'],\n",
       "      dtype='object')"
      ]
     },
     "execution_count": 62,
     "metadata": {},
     "output_type": "execute_result"
    }
   ],
   "source": [
    "df_change.columns"
   ]
  },
  {
   "cell_type": "code",
   "execution_count": 27,
   "metadata": {},
   "outputs": [
    {
     "name": "stdout",
     "output_type": "stream",
     "text": [
      "0.16887405933582328 [ 1.36300701e-01  1.17275192e-02  3.94225415e+00 -1.38746677e-03\n",
      " -5.90373361e-03  1.68745988e-03  6.41691047e-01 -4.60374484e-01\n",
      " -2.38151413e-02 -1.81066875e-02] 0.9586464316712412\n"
     ]
    }
   ],
   "source": [
    "# fit to individual zip code\n",
    "r1 = LinearRegression()\n",
    "y1 = df_change[df_change['ZipCode']==10028].iloc[:, 3]\n",
    "x1 = df_change[df_change['ZipCode']==10028].iloc[:, 4:]\n",
    "r1.fit(x1, y1)\n",
    "print(r1.intercept_, r1.coef_, r1.score(x1,y1))"
   ]
  },
  {
   "cell_type": "code",
   "execution_count": 28,
   "metadata": {},
   "outputs": [],
   "source": [
    "change_allzq = df_change.ZipCode.unique()"
   ]
  },
  {
   "cell_type": "code",
   "execution_count": 33,
   "metadata": {},
   "outputs": [],
   "source": [
    "#perform linear fit of delta ZORI versus year for chosen Zip Code\n",
    "def zipcodedeltafit(code):\n",
    "    r1 = LinearRegression()\n",
    "    y1 = df_change[df_change['ZipCode']==code].iloc[:, 3]\n",
    "    x1 = df_change[df_change['ZipCode']==code].iloc[:, 4:]\n",
    "    r1.fit(x1, y1)\n",
    "    return r1.score(x1,y1) "
   ]
  },
  {
   "cell_type": "code",
   "execution_count": 34,
   "metadata": {},
   "outputs": [],
   "source": [
    "# determine R2 for all zip codes\n",
    "delta_ZORI_codes = []\n",
    "for code in change_allzq:\n",
    "    delta_ZORI_codes.append(zipcodedeltafit(code))"
   ]
  },
  {
   "cell_type": "code",
   "execution_count": 35,
   "metadata": {},
   "outputs": [],
   "source": [
    "delta_code_df = pd.DataFrame({'ZipCode':change_allzq, 'Delta_ZORI_rsq':delta_ZORI_codes })"
   ]
  },
  {
   "cell_type": "code",
   "execution_count": 36,
   "metadata": {},
   "outputs": [
    {
     "data": {
      "text/plain": [
       "<AxesSubplot:>"
      ]
     },
     "execution_count": 36,
     "metadata": {},
     "output_type": "execute_result"
    },
    {
     "data": {
      "image/png": "[encoded data removed]",
      "text/plain": [
       "<Figure size 432x288 with 1 Axes>"
      ]
     },
     "metadata": {
      "needs_background": "light"
     },
     "output_type": "display_data"
    }
   ],
   "source": [
    "delta_code_df.Delta_ZORI_rsq.hist()"
   ]
  },
  {
   "cell_type": "code",
   "execution_count": 63,
   "metadata": {},
   "outputs": [],
   "source": [
    "df_change = pd.merge(df_change, delta_code_df[['ZipCode', 'Delta_ZORI_rsq']], left_on = ['ZipCode'],\n",
    "              right_on = ['ZipCode'], how = 'left')"
   ]
  },
  {
   "cell_type": "code",
   "execution_count": 39,
   "metadata": {},
   "outputs": [
    {
     "data": {
      "text/plain": [
       "Index(['Year', 'Month', 'ZipCode', 'ZORI_delta', 'ZHVI_lagged_1_delta',\n",
       "       'AQI_lagged_1_delta', 'Population_lagged_2_delta',\n",
       "       'Unemployment_lagged_1_delta', 'Percent Bachelors_lagged_2_delta',\n",
       "       'Permits_lagged_1_delta', 'Total_Households_lagged_2_delta',\n",
       "       'Med_Income_lagged_2_delta', 'PCE_lagged_1_delta',\n",
       "       'Rental Vacancy Rate_lagged_2_delta', 'Delta_ZORI_rsq'],\n",
       "      dtype='object')"
      ]
     },
     "execution_count": 39,
     "metadata": {},
     "output_type": "execute_result"
    }
   ],
   "source": [
    "df_change.columns"
   ]
  },
  {
   "cell_type": "code",
   "execution_count": 64,
   "metadata": {},
   "outputs": [
    {
     "data": {
      "text/plain": [
       "0.20394063742277269"
      ]
     },
     "execution_count": 64,
     "metadata": {},
     "output_type": "execute_result"
    }
   ],
   "source": [
    "#include all data\n",
    "regression = LinearRegression()\n",
    "regression.fit(df_change.iloc[:, 4:], df_change.iloc[:, 3])\n",
    "regression.score(df_change.iloc[:, 4:], df_change.iloc[:, 3])"
   ]
  },
  {
   "cell_type": "code",
   "execution_count": 65,
   "metadata": {},
   "outputs": [
    {
     "data": {
      "text/plain": [
       "0.21238923009502997"
      ]
     },
     "execution_count": 65,
     "metadata": {},
     "output_type": "execute_result"
    }
   ],
   "source": [
    "# Delta_ZORI_rsq > 0.8\n",
    "regression = LinearRegression()\n",
    "regression.fit(df_change[df_change['Delta_ZORI_rsq']>0.8].iloc[:, 4:], \n",
    "               df_change[df_change['Delta_ZORI_rsq']>0.8].iloc[:, 3])\n",
    "regression.score(df_change[df_change['Delta_ZORI_rsq']>0.8].iloc[:, 4:], \n",
    "               df_change[df_change['Delta_ZORI_rsq']>0.8].iloc[:, 3])"
   ]
  },
  {
   "cell_type": "code",
   "execution_count": null,
   "metadata": {},
   "outputs": [],
   "source": [
    "# not much improvment no matter how high cutoff is made.  \n",
    "# Maybe overfitting occurs for individual zipcodes which doesn't help overall fit"
   ]
  },
  {
   "cell_type": "code",
   "execution_count": 45,
   "metadata": {},
   "outputs": [],
   "source": [
    "#perform linear fit of ZORI versus year for chosen Zip Code and return slope\n",
    "def zipcodeyrslope(code):\n",
    "    r1 = LinearRegression()\n",
    "    y1 = df[df['ZipCode']==code]['ZORI']\n",
    "    x1 = df[df['ZipCode']==code][['Year']]\n",
    "    r1.fit(x1, y1)\n",
    "    return r1.coef_ "
   ]
  },
  {
   "cell_type": "code",
   "execution_count": 52,
   "metadata": {},
   "outputs": [],
   "source": [
    "# determine slope versus time for all zip codes\n",
    "ZORI_slopes = []\n",
    "for code in nallzq:\n",
    "    ZORI_slopes.append(zipcodeyrslope(code))"
   ]
  },
  {
   "cell_type": "code",
   "execution_count": 55,
   "metadata": {},
   "outputs": [],
   "source": [
    "slope_df = pd.DataFrame({'ZipCode':nallzq, 'Slope_by_year':ZORI_slopes })"
   ]
  },
  {
   "cell_type": "code",
   "execution_count": 56,
   "metadata": {},
   "outputs": [
    {
     "data": {
      "text/plain": [
       "<AxesSubplot:>"
      ]
     },
     "execution_count": 56,
     "metadata": {},
     "output_type": "execute_result"
    },
    {
     "data": {
      "image/png": "[encoded data removed]",
      "text/plain": [
       "<Figure size 432x288 with 1 Axes>"
      ]
     },
     "metadata": {
      "needs_background": "light"
     },
     "output_type": "display_data"
    }
   ],
   "source": [
    "slope_df.Slope_by_year.hist()"
   ]
  },
  {
   "cell_type": "code",
   "execution_count": 66,
   "metadata": {},
   "outputs": [],
   "source": [
    "#include slope versus year into df_change data frame\n",
    "df_change = pd.merge(df_change, slope_df[['ZipCode', 'Slope_by_year']], left_on = ['ZipCode'],\n",
    "              right_on = ['ZipCode'], how = 'left')"
   ]
  },
  {
   "cell_type": "code",
   "execution_count": 109,
   "metadata": {},
   "outputs": [],
   "source": [
    "#include slope versus year into df data frame\n",
    "df = pd.merge(df, slope_df[['ZipCode', 'Slope_by_year']], left_on = ['ZipCode'],\n",
    "              right_on = ['ZipCode'], how = 'left')"
   ]
  },
  {
   "cell_type": "code",
   "execution_count": 58,
   "metadata": {},
   "outputs": [
    {
     "data": {
      "text/plain": [
       "Year                                  0\n",
       "Month                                 0\n",
       "ZipCode                               0\n",
       "ZORI_delta                            0\n",
       "ZHVI_lagged_1_delta                   0\n",
       "AQI_lagged_1_delta                    0\n",
       "Population_lagged_2_delta             0\n",
       "Unemployment_lagged_1_delta           0\n",
       "Percent Bachelors_lagged_2_delta      0\n",
       "Permits_lagged_1_delta                0\n",
       "Total_Households_lagged_2_delta       0\n",
       "Med_Income_lagged_2_delta             0\n",
       "PCE_lagged_1_delta                    0\n",
       "Rental Vacancy Rate_lagged_2_delta    0\n",
       "Delta_ZORI_rsq                        0\n",
       "Slope_by_year                         0\n",
       "dtype: int64"
      ]
     },
     "execution_count": 58,
     "metadata": {},
     "output_type": "execute_result"
    }
   ],
   "source": [
    "df_change.isnull().sum(axis=0)"
   ]
  },
  {
   "cell_type": "code",
   "execution_count": 111,
   "metadata": {},
   "outputs": [
    {
     "data": {
      "text/plain": [
       "Year                   0\n",
       "Month                  0\n",
       "ZipCode                0\n",
       "ZORI                   0\n",
       "ZHVI                   0\n",
       "AQI                    0\n",
       "Population             0\n",
       "Unemployment           0\n",
       "Percent Bachelors      0\n",
       "Units                  0\n",
       "Total_Households       0\n",
       "Med_income             0\n",
       "PCE                    0\n",
       "Rental Vacancy Rate    0\n",
       "ZORI_rsq               0\n",
       "Slope_by_year          0\n",
       "dtype: int64"
      ]
     },
     "execution_count": 111,
     "metadata": {},
     "output_type": "execute_result"
    }
   ],
   "source": [
    "df.isnull().sum(axis=0)"
   ]
  },
  {
   "cell_type": "code",
   "execution_count": 67,
   "metadata": {},
   "outputs": [
    {
     "data": {
      "text/plain": [
       "0.3210707680034721"
      ]
     },
     "execution_count": 67,
     "metadata": {},
     "output_type": "execute_result"
    }
   ],
   "source": [
    "#fit including slopes\n",
    "regression = LinearRegression()\n",
    "regression.fit(df_change.iloc[:, 4:], df_change.iloc[:, 3])\n",
    "regression.score(df_change.iloc[:, 4:], df_change.iloc[:, 3])"
   ]
  },
  {
   "cell_type": "code",
   "execution_count": 77,
   "metadata": {},
   "outputs": [],
   "source": [
    "df_delta = pd.read_csv('time_change_data.csv')"
   ]
  },
  {
   "cell_type": "code",
   "execution_count": 80,
   "metadata": {},
   "outputs": [],
   "source": [
    "# calculate percent change per year\n",
    "df_delta['DZORI']=2*(df_delta['ZORI'] - df_delta['ZORI_lagged_1'])/(df_delta['ZORI'] + df_delta['ZORI_lagged_1'])"
   ]
  },
  {
   "cell_type": "code",
   "execution_count": 90,
   "metadata": {},
   "outputs": [
    {
     "data": {
      "text/plain": [
       "<AxesSubplot:>"
      ]
     },
     "execution_count": 90,
     "metadata": {},
     "output_type": "execute_result"
    },
    {
     "data": {
      "image/png": "[encoded data removed]",
      "text/plain": [
       "<Figure size 432x288 with 1 Axes>"
      ]
     },
     "metadata": {
      "needs_background": "light"
     },
     "output_type": "display_data"
    }
   ],
   "source": [
    "df_delta.DZORI.hist()"
   ]
  },
  {
   "cell_type": "markdown",
   "metadata": {},
   "source": [
    " # Comparison of different fitting procedures"
   ]
  },
  {
   "cell_type": "code",
   "execution_count": 83,
   "metadata": {},
   "outputs": [
    {
     "data": {
      "text/plain": [
       "0.10375443998488387"
      ]
     },
     "execution_count": 83,
     "metadata": {},
     "output_type": "execute_result"
    }
   ],
   "source": [
    "#  ZORI > 4000 fitting delta ZORI\n",
    "regression = LinearRegression()\n",
    "regression.fit(df_delta[(df_delta['ZORI']<4000)].iloc[:, 5:14], \n",
    "               df_delta[(df_delta['ZORI']<4000)].iloc[:, 15])\n",
    "regression.score(df_delta[(df_delta['ZORI']<4000)].iloc[:, 5:14], \n",
    "               df_delta[(df_delta['ZORI']<4000)].iloc[:, 15])"
   ]
  },
  {
   "cell_type": "code",
   "execution_count": 95,
   "metadata": {},
   "outputs": [
    {
     "data": {
      "text/plain": [
       "0.7359283671804316"
      ]
     },
     "execution_count": 95,
     "metadata": {},
     "output_type": "execute_result"
    }
   ],
   "source": [
    "#  ZORI > 4000 fitting ZORI\n",
    "regression = LinearRegression()\n",
    "regression.fit(df_delta[(df_delta['ZORI']<4000)].iloc[:, 5:14], \n",
    "               df_delta[(df_delta['ZORI']<4000)].iloc[:, 3])\n",
    "regression.score(df_delta[(df_delta['ZORI']<4000)].iloc[:, 5:14], \n",
    "               df_delta[(df_delta['ZORI']<4000)].iloc[:, 3])"
   ]
  },
  {
   "cell_type": "code",
   "execution_count": 84,
   "metadata": {},
   "outputs": [
    {
     "data": {
      "text/plain": [
       "RandomForestRegressor(max_features=2, random_state=42)"
      ]
     },
     "execution_count": 84,
     "metadata": {},
     "output_type": "execute_result"
    }
   ],
   "source": [
    "randomForest = ensemble.RandomForestRegressor()\n",
    "randomForest.set_params(random_state=42, n_estimators=100, max_features=2)"
   ]
  },
  {
   "cell_type": "code",
   "execution_count": 102,
   "metadata": {},
   "outputs": [],
   "source": [
    "df_delta.reset_index(inplace = True)\n",
    "df_delta.drop('index', axis=1, inplace=True)\n",
    "train_idx = np.random.choice(range(df_delta.shape[0]), round(0.7 * df_delta.shape[0]), replace = False)\n",
    "test_idx = df_delta.index[~df_delta.index.isin(train_idx)]\n",
    "train = df_delta.iloc[train_idx, :]\n",
    "test = df_delta.iloc[test_idx, :]"
   ]
  },
  {
   "cell_type": "code",
   "execution_count": 88,
   "metadata": {},
   "outputs": [
    {
     "data": {
      "text/plain": [
       "RandomForestRegressor(max_features=2, random_state=42)"
      ]
     },
     "execution_count": 88,
     "metadata": {},
     "output_type": "execute_result"
    }
   ],
   "source": [
    "randomForest.fit(train[(train['ZORI']<4000)].iloc[:, 5:14], \n",
    "               train[(train['ZORI']<4000)].iloc[:, 15])"
   ]
  },
  {
   "cell_type": "code",
   "execution_count": 89,
   "metadata": {},
   "outputs": [
    {
     "data": {
      "text/plain": [
       "0.444692472884898"
      ]
     },
     "execution_count": 89,
     "metadata": {},
     "output_type": "execute_result"
    }
   ],
   "source": [
    "#random forest fitting delta ZORI\n",
    "randomForest.score(test[(test['ZORI']<4000)].iloc[:, 5:14], test[(test['ZORI']<4000)].iloc[:, 15])"
   ]
  },
  {
   "cell_type": "markdown",
   "metadata": {},
   "source": [
    "# Random forest of previous year's features to ZORI"
   ]
  },
  {
   "cell_type": "code",
   "execution_count": 103,
   "metadata": {},
   "outputs": [
    {
     "data": {
      "text/plain": [
       "RandomForestRegressor(max_features=2, random_state=42)"
      ]
     },
     "execution_count": 103,
     "metadata": {},
     "output_type": "execute_result"
    }
   ],
   "source": [
    "randomForest.fit(train[(train['ZORI']<4000)].iloc[:, 5:14], \n",
    "               train[(train['ZORI']<4000)].iloc[:, 3])"
   ]
  },
  {
   "cell_type": "code",
   "execution_count": 104,
   "metadata": {},
   "outputs": [
    {
     "data": {
      "text/plain": [
       "0.8509112544398948"
      ]
     },
     "execution_count": 104,
     "metadata": {},
     "output_type": "execute_result"
    }
   ],
   "source": [
    "#fitting ZORI\n",
    "randomForest.score(test[(test['ZORI']<4000)].iloc[:, 5:14], test[(test['ZORI']<4000)].iloc[:, 3])"
   ]
  },
  {
   "cell_type": "code",
   "execution_count": 105,
   "metadata": {},
   "outputs": [
    {
     "data": {
      "text/plain": [
       "array([0.58550185, 0.01654173, 0.06535953, 0.01908829, 0.07225843,\n",
       "       0.04941294, 0.06483973, 0.11917598, 0.00782151])"
      ]
     },
     "execution_count": 105,
     "metadata": {},
     "output_type": "execute_result"
    }
   ],
   "source": [
    "randomForest.feature_importances_"
   ]
  },
  {
   "cell_type": "code",
   "execution_count": 106,
   "metadata": {},
   "outputs": [
    {
     "data": {
      "text/html": [
       "<div>\n",
       "<style scoped>\n",
       "    .dataframe tbody tr th:only-of-type {\n",
       "        vertical-align: middle;\n",
       "    }\n",
       "\n",
       "    .dataframe tbody tr th {\n",
       "        vertical-align: top;\n",
       "    }\n",
       "\n",
       "    .dataframe thead th {\n",
       "        text-align: right;\n",
       "    }\n",
       "</style>\n",
       "<table border=\"1\" class=\"dataframe\">\n",
       "  <thead>\n",
       "    <tr style=\"text-align: right;\">\n",
       "      <th></th>\n",
       "      <th>feature importance</th>\n",
       "    </tr>\n",
       "  </thead>\n",
       "  <tbody>\n",
       "    <tr>\n",
       "      <th>PCE_lagged_1</th>\n",
       "      <td>0.007822</td>\n",
       "    </tr>\n",
       "    <tr>\n",
       "      <th>AQI_lagged_1</th>\n",
       "      <td>0.016542</td>\n",
       "    </tr>\n",
       "    <tr>\n",
       "      <th>Unemployment_lagged_1</th>\n",
       "      <td>0.019088</td>\n",
       "    </tr>\n",
       "    <tr>\n",
       "      <th>Permits_lagged_1</th>\n",
       "      <td>0.049413</td>\n",
       "    </tr>\n",
       "    <tr>\n",
       "      <th>Total_Households_lagged_2</th>\n",
       "      <td>0.064840</td>\n",
       "    </tr>\n",
       "    <tr>\n",
       "      <th>Population_lagged_2</th>\n",
       "      <td>0.065360</td>\n",
       "    </tr>\n",
       "    <tr>\n",
       "      <th>Percent Bachelors_lagged_2</th>\n",
       "      <td>0.072258</td>\n",
       "    </tr>\n",
       "    <tr>\n",
       "      <th>Med_Income_lagged_2</th>\n",
       "      <td>0.119176</td>\n",
       "    </tr>\n",
       "    <tr>\n",
       "      <th>ZHVI_lagged_1</th>\n",
       "      <td>0.585502</td>\n",
       "    </tr>\n",
       "  </tbody>\n",
       "</table>\n",
       "</div>"
      ],
      "text/plain": [
       "                            feature importance\n",
       "PCE_lagged_1                          0.007822\n",
       "AQI_lagged_1                          0.016542\n",
       "Unemployment_lagged_1                 0.019088\n",
       "Permits_lagged_1                      0.049413\n",
       "Total_Households_lagged_2             0.064840\n",
       "Population_lagged_2                   0.065360\n",
       "Percent Bachelors_lagged_2            0.072258\n",
       "Med_Income_lagged_2                   0.119176\n",
       "ZHVI_lagged_1                         0.585502"
      ]
     },
     "execution_count": 106,
     "metadata": {},
     "output_type": "execute_result"
    }
   ],
   "source": [
    "fi_values = pd.Series(randomForest.feature_importances_, index = test.iloc[:, 5:14].columns).sort_values()\n",
    "pd.DataFrame({'feature importance':fi_values})"
   ]
  },
  {
   "cell_type": "code",
   "execution_count": 107,
   "metadata": {},
   "outputs": [
    {
     "data": {
      "text/plain": [
       "RandomForestRegressor(max_features=2, random_state=42)"
      ]
     },
     "execution_count": 107,
     "metadata": {},
     "output_type": "execute_result"
    }
   ],
   "source": [
    "#fitting without ZHVI\n",
    "randomForest.fit(train[(train['ZORI']<4000)].iloc[:, 6:14], \n",
    "               train[(train['ZORI']<4000)].iloc[:, 3])"
   ]
  },
  {
   "cell_type": "code",
   "execution_count": 108,
   "metadata": {},
   "outputs": [
    {
     "data": {
      "text/plain": [
       "0.6635947655275738"
      ]
     },
     "execution_count": 108,
     "metadata": {},
     "output_type": "execute_result"
    }
   ],
   "source": [
    "randomForest.score(test[(test['ZORI']<4000)].iloc[:, 6:14], test[(test['ZORI']<4000)].iloc[:, 3])"
   ]
  },
  {
   "cell_type": "code",
   "execution_count": 82,
   "metadata": {},
   "outputs": [
    {
     "data": {
      "text/plain": [
       "Index(['Year', 'Month', 'ZipCode', 'ZORI', 'ZORI_lagged_1', 'ZHVI_lagged_1',\n",
       "       'AQI_lagged_1', 'Population_lagged_2', 'Unemployment_lagged_1',\n",
       "       'Percent Bachelors_lagged_2', 'Permits_lagged_1',\n",
       "       'Total_Households_lagged_2', 'Med_Income_lagged_2', 'PCE_lagged_1',\n",
       "       'Rental Vacancy Rate_lagged_2', 'DZORI'],\n",
       "      dtype='object')"
      ]
     },
     "execution_count": 82,
     "metadata": {},
     "output_type": "execute_result"
    }
   ],
   "source": [
    "df_delta.columns"
   ]
  },
  {
   "cell_type": "code",
   "execution_count": 96,
   "metadata": {},
   "outputs": [
    {
     "data": {
      "text/plain": [
       "Index(['Year', 'Month', 'ZipCode', 'ZORI_delta', 'ZHVI_lagged_1_delta',\n",
       "       'AQI_lagged_1_delta', 'Population_lagged_2_delta',\n",
       "       'Unemployment_lagged_1_delta', 'Percent Bachelors_lagged_2_delta',\n",
       "       'Permits_lagged_1_delta', 'Total_Households_lagged_2_delta',\n",
       "       'Med_Income_lagged_2_delta', 'PCE_lagged_1_delta',\n",
       "       'Rental Vacancy Rate_lagged_2_delta', 'Delta_ZORI_rsq',\n",
       "       'Slope_by_year'],\n",
       "      dtype='object')"
      ]
     },
     "execution_count": 96,
     "metadata": {},
     "output_type": "execute_result"
    }
   ],
   "source": [
    "df_change.columns"
   ]
  },
  {
   "cell_type": "code",
   "execution_count": 97,
   "metadata": {},
   "outputs": [],
   "source": [
    "df_change.reset_index(inplace = True)\n",
    "df_change.drop('index', axis=1, inplace=True)\n",
    "train_idx = np.random.choice(range(df_change.shape[0]), round(0.7 * df_change.shape[0]), replace = False)\n",
    "test_idx = df_change.index[~df_change.index.isin(train_idx)]\n",
    "train = df_change.iloc[train_idx, :]\n",
    "test = df_change.iloc[test_idx, :]"
   ]
  },
  {
   "cell_type": "code",
   "execution_count": 99,
   "metadata": {},
   "outputs": [
    {
     "data": {
      "text/plain": [
       "RandomForestRegressor(max_features=2, random_state=42)"
      ]
     },
     "execution_count": 99,
     "metadata": {},
     "output_type": "execute_result"
    }
   ],
   "source": [
    "#random forest fitting percent change in ZORI using percent change in other features\n",
    "randomForest.fit(train.iloc[:, 4:13], train.iloc[:, 3])"
   ]
  },
  {
   "cell_type": "code",
   "execution_count": 100,
   "metadata": {},
   "outputs": [
    {
     "data": {
      "text/plain": [
       "0.35404114646468177"
      ]
     },
     "execution_count": 100,
     "metadata": {},
     "output_type": "execute_result"
    }
   ],
   "source": [
    "randomForest.score(test.iloc[:, 4:13], test.iloc[:, 3])"
   ]
  },
  {
   "cell_type": "code",
   "execution_count": 112,
   "metadata": {},
   "outputs": [
    {
     "data": {
      "text/plain": [
       "Index(['Year', 'Month', 'ZipCode', 'ZORI', 'ZHVI', 'AQI', 'Population',\n",
       "       'Unemployment', 'Percent Bachelors', 'Units', 'Total_Households',\n",
       "       'Med_income', 'PCE', 'Rental Vacancy Rate', 'ZORI_rsq',\n",
       "       'Slope_by_year'],\n",
       "      dtype='object')"
      ]
     },
     "execution_count": 112,
     "metadata": {},
     "output_type": "execute_result"
    }
   ],
   "source": [
    "df.columns"
   ]
  },
  {
   "cell_type": "code",
   "execution_count": 116,
   "metadata": {},
   "outputs": [
    {
     "data": {
      "text/plain": [
       "0.27544407554296135"
      ]
     },
     "execution_count": 116,
     "metadata": {},
     "output_type": "execute_result"
    }
   ],
   "source": [
    "regression = LinearRegression()\n",
    "regression.fit(df[(df['ZORI']<4000)].iloc[:, 4:13], \n",
    "               df[(df['ZORI']<4000)].iloc[:,15])\n",
    "regression.score(df[(df['ZORI']<4000)].iloc[:, 4:13], \n",
    "               df[(df['ZORI']<4000)].iloc[:, 15])"
   ]
  },
  {
   "cell_type": "markdown",
   "metadata": {},
   "source": [
    "# Best fit - random forest to slope of ZORI"
   ]
  },
  {
   "cell_type": "code",
   "execution_count": 117,
   "metadata": {},
   "outputs": [],
   "source": [
    "df.reset_index(inplace = True)\n",
    "df.drop('index', axis=1, inplace=True)\n",
    "train_idx = np.random.choice(range(df.shape[0]), round(0.7 * df.shape[0]), replace = False)\n",
    "test_idx = df.index[~df.index.isin(train_idx)]\n",
    "train = df.iloc[train_idx, :]\n",
    "test = df.iloc[test_idx, :]"
   ]
  },
  {
   "cell_type": "code",
   "execution_count": 120,
   "metadata": {},
   "outputs": [
    {
     "data": {
      "text/plain": [
       "RandomForestRegressor(max_features=2, random_state=42)"
      ]
     },
     "execution_count": 120,
     "metadata": {},
     "output_type": "execute_result"
    }
   ],
   "source": [
    "randomForest.fit(train.iloc[:, 3:13], train.iloc[:, 15])"
   ]
  },
  {
   "cell_type": "code",
   "execution_count": 121,
   "metadata": {},
   "outputs": [
    {
     "data": {
      "text/plain": [
       "0.9440061526305533"
      ]
     },
     "execution_count": 121,
     "metadata": {},
     "output_type": "execute_result"
    }
   ],
   "source": [
    "randomForest.score(test.iloc[:, 3:13], test.iloc[:, 15])"
   ]
  }
 ],
 "metadata": {
  "kernelspec": {
   "display_name": "Python 3",
   "language": "python",
   "name": "python3"
  },
  "language_info": {
   "codemirror_mode": {
    "name": "ipython",
    "version": 3
   },
   "file_extension": ".py",
   "mimetype": "text/x-python",
   "name": "python",
   "nbconvert_exporter": "python",
   "pygments_lexer": "ipython3",
   "version": "3.7.9"
  }
 },
 "nbformat": 4,
 "nbformat_minor": 4
}
