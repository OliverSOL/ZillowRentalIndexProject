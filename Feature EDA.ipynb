{
 "cells": [
  {
   "cell_type": "code",
   "execution_count": 1,
   "metadata": {},
   "outputs": [],
   "source": [
    "import numpy as np\n",
    "import pandas as pd\n",
    "from sklearn.metrics import r2_score\n",
    "from sklearn.linear_model import LinearRegression, Lasso\n",
    "from sklearn.model_selection import train_test_split, KFold, GridSearchCV, cross_validate\n",
    "from sklearn.feature_selection import f_regression, mutual_info_regression \n",
    "from sklearn import ensemble"
   ]
  },
  {
   "cell_type": "code",
   "execution_count": 2,
   "metadata": {},
   "outputs": [],
   "source": [
    "df = pd.read_csv('stationary_data.csv')# read in cleaned data set, stationary years"
   ]
  },
  {
   "cell_type": "code",
   "execution_count": 3,
   "metadata": {},
   "outputs": [
    {
     "data": {
      "text/html": [
       "<div>\n",
       "<style scoped>\n",
       "    .dataframe tbody tr th:only-of-type {\n",
       "        vertical-align: middle;\n",
       "    }\n",
       "\n",
       "    .dataframe tbody tr th {\n",
       "        vertical-align: top;\n",
       "    }\n",
       "\n",
       "    .dataframe thead th {\n",
       "        text-align: right;\n",
       "    }\n",
       "</style>\n",
       "<table border=\"1\" class=\"dataframe\">\n",
       "  <thead>\n",
       "    <tr style=\"text-align: right;\">\n",
       "      <th></th>\n",
       "      <th>Year</th>\n",
       "      <th>Month</th>\n",
       "      <th>ZipCode</th>\n",
       "      <th>ZORI</th>\n",
       "      <th>ZHVI</th>\n",
       "      <th>AQI</th>\n",
       "      <th>Population</th>\n",
       "      <th>Unemployment</th>\n",
       "      <th>Percent Bachelors</th>\n",
       "      <th>Units</th>\n",
       "      <th>Total_Households</th>\n",
       "      <th>Med_income</th>\n",
       "      <th>PCE</th>\n",
       "      <th>Rental Vacancy Rate</th>\n",
       "    </tr>\n",
       "  </thead>\n",
       "  <tbody>\n",
       "    <tr>\n",
       "      <th>0</th>\n",
       "      <td>2015</td>\n",
       "      <td>2</td>\n",
       "      <td>10025</td>\n",
       "      <td>3162.0</td>\n",
       "      <td>1171181.0</td>\n",
       "      <td>60.928571</td>\n",
       "      <td>1.623301e+06</td>\n",
       "      <td>5.6</td>\n",
       "      <td>32.2</td>\n",
       "      <td>1126.0</td>\n",
       "      <td>7.304468e+05</td>\n",
       "      <td>72743.449947</td>\n",
       "      <td>1.328401</td>\n",
       "      <td>4.4</td>\n",
       "    </tr>\n",
       "    <tr>\n",
       "      <th>1</th>\n",
       "      <td>2015</td>\n",
       "      <td>2</td>\n",
       "      <td>60657</td>\n",
       "      <td>1643.0</td>\n",
       "      <td>446997.0</td>\n",
       "      <td>52.785714</td>\n",
       "      <td>5.232495e+06</td>\n",
       "      <td>6.7</td>\n",
       "      <td>22.1</td>\n",
       "      <td>1191.0</td>\n",
       "      <td>1.942356e+06</td>\n",
       "      <td>54319.591794</td>\n",
       "      <td>1.328401</td>\n",
       "      <td>5.4</td>\n",
       "    </tr>\n",
       "    <tr>\n",
       "      <th>2</th>\n",
       "      <td>2015</td>\n",
       "      <td>2</td>\n",
       "      <td>10023</td>\n",
       "      <td>3229.0</td>\n",
       "      <td>1104524.0</td>\n",
       "      <td>60.928571</td>\n",
       "      <td>1.623301e+06</td>\n",
       "      <td>5.6</td>\n",
       "      <td>32.2</td>\n",
       "      <td>1126.0</td>\n",
       "      <td>7.304468e+05</td>\n",
       "      <td>72743.449947</td>\n",
       "      <td>1.328401</td>\n",
       "      <td>4.4</td>\n",
       "    </tr>\n",
       "    <tr>\n",
       "      <th>3</th>\n",
       "      <td>2015</td>\n",
       "      <td>2</td>\n",
       "      <td>60614</td>\n",
       "      <td>1808.0</td>\n",
       "      <td>578551.0</td>\n",
       "      <td>52.785714</td>\n",
       "      <td>5.232495e+06</td>\n",
       "      <td>6.7</td>\n",
       "      <td>22.1</td>\n",
       "      <td>1191.0</td>\n",
       "      <td>1.942356e+06</td>\n",
       "      <td>54319.591794</td>\n",
       "      <td>1.328401</td>\n",
       "      <td>5.4</td>\n",
       "    </tr>\n",
       "    <tr>\n",
       "      <th>4</th>\n",
       "      <td>2015</td>\n",
       "      <td>2</td>\n",
       "      <td>77449</td>\n",
       "      <td>1361.0</td>\n",
       "      <td>151529.0</td>\n",
       "      <td>48.892857</td>\n",
       "      <td>4.299820e+06</td>\n",
       "      <td>4.4</td>\n",
       "      <td>19.0</td>\n",
       "      <td>5938.0</td>\n",
       "      <td>1.511400e+06</td>\n",
       "      <td>53157.359233</td>\n",
       "      <td>1.328401</td>\n",
       "      <td>6.8</td>\n",
       "    </tr>\n",
       "  </tbody>\n",
       "</table>\n",
       "</div>"
      ],
      "text/plain": [
       "   Year  Month  ZipCode    ZORI       ZHVI        AQI    Population  \\\n",
       "0  2015      2    10025  3162.0  1171181.0  60.928571  1.623301e+06   \n",
       "1  2015      2    60657  1643.0   446997.0  52.785714  5.232495e+06   \n",
       "2  2015      2    10023  3229.0  1104524.0  60.928571  1.623301e+06   \n",
       "3  2015      2    60614  1808.0   578551.0  52.785714  5.232495e+06   \n",
       "4  2015      2    77449  1361.0   151529.0  48.892857  4.299820e+06   \n",
       "\n",
       "   Unemployment  Percent Bachelors   Units  Total_Households    Med_income  \\\n",
       "0           5.6               32.2  1126.0      7.304468e+05  72743.449947   \n",
       "1           6.7               22.1  1191.0      1.942356e+06  54319.591794   \n",
       "2           5.6               32.2  1126.0      7.304468e+05  72743.449947   \n",
       "3           6.7               22.1  1191.0      1.942356e+06  54319.591794   \n",
       "4           4.4               19.0  5938.0      1.511400e+06  53157.359233   \n",
       "\n",
       "        PCE  Rental Vacancy Rate  \n",
       "0  1.328401                  4.4  \n",
       "1  1.328401                  5.4  \n",
       "2  1.328401                  4.4  \n",
       "3  1.328401                  5.4  \n",
       "4  1.328401                  6.8  "
      ]
     },
     "execution_count": 3,
     "metadata": {},
     "output_type": "execute_result"
    }
   ],
   "source": [
    "df.head()"
   ]
  },
  {
   "cell_type": "markdown",
   "metadata": {},
   "source": [
    " # Unemployment"
   ]
  },
  {
   "cell_type": "code",
   "execution_count": 5,
   "metadata": {},
   "outputs": [
    {
     "data": {
      "text/plain": [
       "<AxesSubplot:>"
      ]
     },
     "execution_count": 5,
     "metadata": {},
     "output_type": "execute_result"
    },
    {
     "data": {
      "image/png": "[encoded data removed]",
      "text/plain": [
       "<Figure size 432x288 with 1 Axes>"
      ]
     },
     "metadata": {
      "needs_background": "light"
     },
     "output_type": "display_data"
    }
   ],
   "source": [
    "%matplotlib inline\n",
    "df.Unemployment.hist()"
   ]
  },
  {
   "cell_type": "code",
   "execution_count": 8,
   "metadata": {},
   "outputs": [
    {
     "data": {
      "text/plain": [
       "<AxesSubplot:xlabel='Month'>"
      ]
     },
     "execution_count": 8,
     "metadata": {},
     "output_type": "execute_result"
    },
    {
     "data": {
      "image/png": "[encoded data removed]",
      "text/plain": [
       "<Figure size 432x288 with 1 Axes>"
      ]
     },
     "metadata": {
      "needs_background": "light"
     },
     "output_type": "display_data"
    }
   ],
   "source": [
    "#visulize seasonal change in employment\n",
    "df.groupby('Month')[['Unemployment']].median().reset_index().plot(x='Month', y='Unemployment', kind='bar')"
   ]
  },
  {
   "cell_type": "code",
   "execution_count": 10,
   "metadata": {},
   "outputs": [
    {
     "data": {
      "text/plain": [
       "<AxesSubplot:xlabel='ZORI', ylabel='Unemployment'>"
      ]
     },
     "execution_count": 10,
     "metadata": {},
     "output_type": "execute_result"
    },
    {
     "data": {
      "image/png": "[encoded data removed]",
      "text/plain": [
       "<Figure size 432x288 with 1 Axes>"
      ]
     },
     "metadata": {
      "needs_background": "light"
     },
     "output_type": "display_data"
    }
   ],
   "source": [
    "#no obvious correlation between unemployment and ZORI\n",
    "df[df['ZORI']<4000].groupby('ZipCode')[['Unemployment', 'ZORI']].mean().reset_index().plot(x='ZORI', y='Unemployment', kind='scatter')"
   ]
  },
  {
   "cell_type": "code",
   "execution_count": 11,
   "metadata": {},
   "outputs": [
    {
     "data": {
      "text/html": [
       "<div>\n",
       "<style scoped>\n",
       "    .dataframe tbody tr th:only-of-type {\n",
       "        vertical-align: middle;\n",
       "    }\n",
       "\n",
       "    .dataframe tbody tr th {\n",
       "        vertical-align: top;\n",
       "    }\n",
       "\n",
       "    .dataframe thead th {\n",
       "        text-align: right;\n",
       "    }\n",
       "</style>\n",
       "<table border=\"1\" class=\"dataframe\">\n",
       "  <thead>\n",
       "    <tr style=\"text-align: right;\">\n",
       "      <th></th>\n",
       "      <th>Unemployment</th>\n",
       "      <th>ZORI</th>\n",
       "    </tr>\n",
       "  </thead>\n",
       "  <tbody>\n",
       "    <tr>\n",
       "      <th>Unemployment</th>\n",
       "      <td>1.000000</td>\n",
       "      <td>-0.218124</td>\n",
       "    </tr>\n",
       "    <tr>\n",
       "      <th>ZORI</th>\n",
       "      <td>-0.218124</td>\n",
       "      <td>1.000000</td>\n",
       "    </tr>\n",
       "  </tbody>\n",
       "</table>\n",
       "</div>"
      ],
      "text/plain": [
       "              Unemployment      ZORI\n",
       "Unemployment      1.000000 -0.218124\n",
       "ZORI             -0.218124  1.000000"
      ]
     },
     "execution_count": 11,
     "metadata": {},
     "output_type": "execute_result"
    }
   ],
   "source": [
    "df[df['ZORI']<4000][['Unemployment','ZORI']].corr()"
   ]
  },
  {
   "cell_type": "markdown",
   "metadata": {},
   "source": [
    "# Units (units with construction permits application)"
   ]
  },
  {
   "cell_type": "code",
   "execution_count": 12,
   "metadata": {},
   "outputs": [
    {
     "data": {
      "text/plain": [
       "<AxesSubplot:>"
      ]
     },
     "execution_count": 12,
     "metadata": {},
     "output_type": "execute_result"
    },
    {
     "data": {
      "image/png": "[encoded data removed]",
      "text/plain": [
       "<Figure size 432x288 with 1 Axes>"
      ]
     },
     "metadata": {
      "needs_background": "light"
     },
     "output_type": "display_data"
    }
   ],
   "source": [
    "df.Units.hist()"
   ]
  },
  {
   "cell_type": "code",
   "execution_count": 13,
   "metadata": {},
   "outputs": [
    {
     "data": {
      "text/plain": [
       "<AxesSubplot:xlabel='Month'>"
      ]
     },
     "execution_count": 13,
     "metadata": {},
     "output_type": "execute_result"
    },
    {
     "data": {
      "image/png": "[encoded data removed]",
      "text/plain": [
       "<Figure size 432x288 with 1 Axes>"
      ]
     },
     "metadata": {
      "needs_background": "light"
     },
     "output_type": "display_data"
    }
   ],
   "source": [
    "#visulize seasonal change in applications\n",
    "df.groupby('Month')[['Units']].median().reset_index().plot(x='Month', y='Units', kind='bar')"
   ]
  },
  {
   "cell_type": "code",
   "execution_count": 16,
   "metadata": {},
   "outputs": [
    {
     "data": {
      "text/plain": [
       "<AxesSubplot:xlabel='Year'>"
      ]
     },
     "execution_count": 16,
     "metadata": {},
     "output_type": "execute_result"
    },
    {
     "data": {
      "image/png": "[encoded data removed]",
      "text/plain": [
       "<Figure size 432x288 with 1 Axes>"
      ]
     },
     "metadata": {
      "needs_background": "light"
     },
     "output_type": "display_data"
    }
   ],
   "source": [
    "#change in applications by year\n",
    "df.groupby('Year')[['Units']].median().reset_index().plot(x='Year', y='Units', kind='bar')"
   ]
  },
  {
   "cell_type": "code",
   "execution_count": 17,
   "metadata": {},
   "outputs": [
    {
     "data": {
      "text/plain": [
       "<AxesSubplot:xlabel='Year'>"
      ]
     },
     "execution_count": 17,
     "metadata": {},
     "output_type": "execute_result"
    },
    {
     "data": {
      "image/png": "[encoded data removed]",
      "text/plain": [
       "<Figure size 432x288 with 1 Axes>"
      ]
     },
     "metadata": {
      "needs_background": "light"
     },
     "output_type": "display_data"
    }
   ],
   "source": [
    "df.groupby('Year')[['ZORI']].median().reset_index().plot(x='Year', y='ZORI', kind='bar')"
   ]
  },
  {
   "cell_type": "code",
   "execution_count": 19,
   "metadata": {},
   "outputs": [
    {
     "data": {
      "text/plain": [
       "<AxesSubplot:xlabel='ZORI', ylabel='Units'>"
      ]
     },
     "execution_count": 19,
     "metadata": {},
     "output_type": "execute_result"
    },
    {
     "data": {
      "image/png": "[encoded data removed]",
      "text/plain": [
       "<Figure size 432x288 with 1 Axes>"
      ]
     },
     "metadata": {
      "needs_background": "light"
     },
     "output_type": "display_data"
    }
   ],
   "source": [
    "df[df['ZORI']<4000].groupby(['ZipCode','Year'])[['Units', 'ZORI']].mean().reset_index().plot(x='ZORI', y='Units', kind='scatter')"
   ]
  },
  {
   "cell_type": "code",
   "execution_count": 20,
   "metadata": {},
   "outputs": [
    {
     "data": {
      "text/html": [
       "<div>\n",
       "<style scoped>\n",
       "    .dataframe tbody tr th:only-of-type {\n",
       "        vertical-align: middle;\n",
       "    }\n",
       "\n",
       "    .dataframe tbody tr th {\n",
       "        vertical-align: top;\n",
       "    }\n",
       "\n",
       "    .dataframe thead th {\n",
       "        text-align: right;\n",
       "    }\n",
       "</style>\n",
       "<table border=\"1\" class=\"dataframe\">\n",
       "  <thead>\n",
       "    <tr style=\"text-align: right;\">\n",
       "      <th></th>\n",
       "      <th>Units</th>\n",
       "      <th>ZORI</th>\n",
       "    </tr>\n",
       "  </thead>\n",
       "  <tbody>\n",
       "    <tr>\n",
       "      <th>Units</th>\n",
       "      <td>1.000000</td>\n",
       "      <td>0.267666</td>\n",
       "    </tr>\n",
       "    <tr>\n",
       "      <th>ZORI</th>\n",
       "      <td>0.267666</td>\n",
       "      <td>1.000000</td>\n",
       "    </tr>\n",
       "  </tbody>\n",
       "</table>\n",
       "</div>"
      ],
      "text/plain": [
       "          Units      ZORI\n",
       "Units  1.000000  0.267666\n",
       "ZORI   0.267666  1.000000"
      ]
     },
     "execution_count": 20,
     "metadata": {},
     "output_type": "execute_result"
    }
   ],
   "source": [
    "df[df['ZORI']<4000][['Units','ZORI']].corr()"
   ]
  },
  {
   "cell_type": "markdown",
   "metadata": {},
   "source": [
    "# Education"
   ]
  },
  {
   "cell_type": "code",
   "execution_count": 21,
   "metadata": {},
   "outputs": [
    {
     "data": {
      "text/plain": [
       "<AxesSubplot:>"
      ]
     },
     "execution_count": 21,
     "metadata": {},
     "output_type": "execute_result"
    },
    {
     "data": {
      "image/png": "[encoded data removed]",
      "text/plain": [
       "<Figure size 432x288 with 1 Axes>"
      ]
     },
     "metadata": {
      "needs_background": "light"
     },
     "output_type": "display_data"
    }
   ],
   "source": [
    "df['Percent Bachelors'].hist()"
   ]
  },
  {
   "cell_type": "code",
   "execution_count": 22,
   "metadata": {},
   "outputs": [
    {
     "data": {
      "text/plain": [
       "<AxesSubplot:xlabel='Year'>"
      ]
     },
     "execution_count": 22,
     "metadata": {},
     "output_type": "execute_result"
    },
    {
     "data": {
      "image/png": "[encoded data removed]",
      "text/plain": [
       "<Figure size 432x288 with 1 Axes>"
      ]
     },
     "metadata": {
      "needs_background": "light"
     },
     "output_type": "display_data"
    }
   ],
   "source": [
    "df.groupby('Year')[['Percent Bachelors']].median().reset_index().plot(x='Year', y='Percent Bachelors', kind='bar')"
   ]
  },
  {
   "cell_type": "code",
   "execution_count": 23,
   "metadata": {},
   "outputs": [
    {
     "data": {
      "text/html": [
       "<div>\n",
       "<style scoped>\n",
       "    .dataframe tbody tr th:only-of-type {\n",
       "        vertical-align: middle;\n",
       "    }\n",
       "\n",
       "    .dataframe tbody tr th {\n",
       "        vertical-align: top;\n",
       "    }\n",
       "\n",
       "    .dataframe thead th {\n",
       "        text-align: right;\n",
       "    }\n",
       "</style>\n",
       "<table border=\"1\" class=\"dataframe\">\n",
       "  <thead>\n",
       "    <tr style=\"text-align: right;\">\n",
       "      <th></th>\n",
       "      <th>Percent Bachelors</th>\n",
       "      <th>ZORI</th>\n",
       "    </tr>\n",
       "  </thead>\n",
       "  <tbody>\n",
       "    <tr>\n",
       "      <th>Percent Bachelors</th>\n",
       "      <td>1.000000</td>\n",
       "      <td>0.344108</td>\n",
       "    </tr>\n",
       "    <tr>\n",
       "      <th>ZORI</th>\n",
       "      <td>0.344108</td>\n",
       "      <td>1.000000</td>\n",
       "    </tr>\n",
       "  </tbody>\n",
       "</table>\n",
       "</div>"
      ],
      "text/plain": [
       "                   Percent Bachelors      ZORI\n",
       "Percent Bachelors           1.000000  0.344108\n",
       "ZORI                        0.344108  1.000000"
      ]
     },
     "execution_count": 23,
     "metadata": {},
     "output_type": "execute_result"
    }
   ],
   "source": [
    "df[df['ZORI']<4000][['Percent Bachelors','ZORI']].corr()"
   ]
  },
  {
   "cell_type": "code",
   "execution_count": 24,
   "metadata": {},
   "outputs": [
    {
     "data": {
      "text/plain": [
       "<AxesSubplot:xlabel='ZORI', ylabel='Percent Bachelors'>"
      ]
     },
     "execution_count": 24,
     "metadata": {},
     "output_type": "execute_result"
    },
    {
     "data": {
      "image/png": "[encoded data removed]",
      "text/plain": [
       "<Figure size 432x288 with 1 Axes>"
      ]
     },
     "metadata": {
      "needs_background": "light"
     },
     "output_type": "display_data"
    }
   ],
   "source": [
    "#no obvious correlation between unemployment and ZORI\n",
    "df[df['ZORI']<4000].groupby('ZipCode')[['Percent Bachelors', 'ZORI']].mean().reset_index().plot(x='ZORI', y='Percent Bachelors', kind='scatter')"
   ]
  },
  {
   "cell_type": "code",
   "execution_count": 18,
   "metadata": {},
   "outputs": [
    {
     "data": {
      "text/html": [
       "<div>\n",
       "<style scoped>\n",
       "    .dataframe tbody tr th:only-of-type {\n",
       "        vertical-align: middle;\n",
       "    }\n",
       "\n",
       "    .dataframe tbody tr th {\n",
       "        vertical-align: top;\n",
       "    }\n",
       "\n",
       "    .dataframe thead th {\n",
       "        text-align: right;\n",
       "    }\n",
       "</style>\n",
       "<table border=\"1\" class=\"dataframe\">\n",
       "  <thead>\n",
       "    <tr style=\"text-align: right;\">\n",
       "      <th>Year</th>\n",
       "      <th>2015</th>\n",
       "      <th>2016</th>\n",
       "      <th>2017</th>\n",
       "      <th>2018</th>\n",
       "      <th>2019</th>\n",
       "    </tr>\n",
       "    <tr>\n",
       "      <th>ZipCode</th>\n",
       "      <th></th>\n",
       "      <th></th>\n",
       "      <th></th>\n",
       "      <th></th>\n",
       "      <th></th>\n",
       "    </tr>\n",
       "  </thead>\n",
       "  <tbody>\n",
       "    <tr>\n",
       "      <th>1432</th>\n",
       "      <td>1065.750000</td>\n",
       "      <td>1084.555556</td>\n",
       "      <td>1130.454545</td>\n",
       "      <td>1183.100000</td>\n",
       "      <td>1232.250000</td>\n",
       "    </tr>\n",
       "    <tr>\n",
       "      <th>1603</th>\n",
       "      <td>1170.111111</td>\n",
       "      <td>1285.000000</td>\n",
       "      <td>1292.000000</td>\n",
       "      <td>1362.250000</td>\n",
       "      <td>1412.111111</td>\n",
       "    </tr>\n",
       "    <tr>\n",
       "      <th>1604</th>\n",
       "      <td>1150.818182</td>\n",
       "      <td>1210.583333</td>\n",
       "      <td>1246.500000</td>\n",
       "      <td>1327.416667</td>\n",
       "      <td>1407.500000</td>\n",
       "    </tr>\n",
       "    <tr>\n",
       "      <th>1605</th>\n",
       "      <td>1115.909091</td>\n",
       "      <td>1182.833333</td>\n",
       "      <td>1244.833333</td>\n",
       "      <td>1342.583333</td>\n",
       "      <td>1433.416667</td>\n",
       "    </tr>\n",
       "    <tr>\n",
       "      <th>1609</th>\n",
       "      <td>1028.363636</td>\n",
       "      <td>1082.250000</td>\n",
       "      <td>1161.700000</td>\n",
       "      <td>1254.166667</td>\n",
       "      <td>1316.500000</td>\n",
       "    </tr>\n",
       "    <tr>\n",
       "      <th>...</th>\n",
       "      <td>...</td>\n",
       "      <td>...</td>\n",
       "      <td>...</td>\n",
       "      <td>...</td>\n",
       "      <td>...</td>\n",
       "    </tr>\n",
       "    <tr>\n",
       "      <th>99204</th>\n",
       "      <td>711.625000</td>\n",
       "      <td>760.000000</td>\n",
       "      <td>815.000000</td>\n",
       "      <td>904.000000</td>\n",
       "      <td>976.416667</td>\n",
       "    </tr>\n",
       "    <tr>\n",
       "      <th>99205</th>\n",
       "      <td>755.818182</td>\n",
       "      <td>826.818182</td>\n",
       "      <td>917.583333</td>\n",
       "      <td>1026.272727</td>\n",
       "      <td>1084.416667</td>\n",
       "    </tr>\n",
       "    <tr>\n",
       "      <th>99206</th>\n",
       "      <td>945.000000</td>\n",
       "      <td>1005.727273</td>\n",
       "      <td>1069.250000</td>\n",
       "      <td>1122.333333</td>\n",
       "      <td>1231.750000</td>\n",
       "    </tr>\n",
       "    <tr>\n",
       "      <th>99207</th>\n",
       "      <td>835.400000</td>\n",
       "      <td>852.500000</td>\n",
       "      <td>916.000000</td>\n",
       "      <td>956.416667</td>\n",
       "      <td>995.818182</td>\n",
       "    </tr>\n",
       "    <tr>\n",
       "      <th>99208</th>\n",
       "      <td>970.090909</td>\n",
       "      <td>1030.750000</td>\n",
       "      <td>1115.083333</td>\n",
       "      <td>1211.833333</td>\n",
       "      <td>1289.750000</td>\n",
       "    </tr>\n",
       "  </tbody>\n",
       "</table>\n",
       "<p>2992 rows × 5 columns</p>\n",
       "</div>"
      ],
      "text/plain": [
       "Year            2015         2016         2017         2018         2019\n",
       "ZipCode                                                                 \n",
       "1432     1065.750000  1084.555556  1130.454545  1183.100000  1232.250000\n",
       "1603     1170.111111  1285.000000  1292.000000  1362.250000  1412.111111\n",
       "1604     1150.818182  1210.583333  1246.500000  1327.416667  1407.500000\n",
       "1605     1115.909091  1182.833333  1244.833333  1342.583333  1433.416667\n",
       "1609     1028.363636  1082.250000  1161.700000  1254.166667  1316.500000\n",
       "...              ...          ...          ...          ...          ...\n",
       "99204     711.625000   760.000000   815.000000   904.000000   976.416667\n",
       "99205     755.818182   826.818182   917.583333  1026.272727  1084.416667\n",
       "99206     945.000000  1005.727273  1069.250000  1122.333333  1231.750000\n",
       "99207     835.400000   852.500000   916.000000   956.416667   995.818182\n",
       "99208     970.090909  1030.750000  1115.083333  1211.833333  1289.750000\n",
       "\n",
       "[2992 rows x 5 columns]"
      ]
     },
     "execution_count": 18,
     "metadata": {},
     "output_type": "execute_result"
    }
   ],
   "source": [
    "df[df['ZORI']<4000].groupby(['ZipCode','Year'])['ZORI'].mean().unstack('Year')"
   ]
  }
 ],
 "metadata": {
  "kernelspec": {
   "display_name": "Python 3",
   "language": "python",
   "name": "python3"
  },
  "language_info": {
   "codemirror_mode": {
    "name": "ipython",
    "version": 3
   },
   "file_extension": ".py",
   "mimetype": "text/x-python",
   "name": "python",
   "nbconvert_exporter": "python",
   "pygments_lexer": "ipython3",
   "version": "3.7.9"
  }
 },
 "nbformat": 4,
 "nbformat_minor": 4
}
