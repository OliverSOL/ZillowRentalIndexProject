{
 "cells": [
  {
   "cell_type": "code",
   "execution_count": 1,
   "metadata": {},
   "outputs": [],
   "source": [
    "import numpy as np\n",
    "import pandas as pd\n",
    "from sklearn.linear_model import LinearRegression\n",
    "from sklearn.model_selection import cross_validate\n",
    "from sklearn.metrics import r2_score"
   ]
  },
  {
   "cell_type": "markdown",
   "metadata": {},
   "source": [
    "## Pull CSV Files"
   ]
  },
  {
   "cell_type": "code",
   "execution_count": 90,
   "metadata": {},
   "outputs": [],
   "source": [
    "zori = pd.read_csv('./data/cleandata/clean_zori.csv').drop('Unnamed: 0', axis = 1)\n",
    "zhvi = pd.read_csv('./data/cleandata/clean_zhvi.csv').drop('Unnamed: 0', axis = 1)\n",
    "airq = pd.read_csv('./data/cleandata/clean_airq.csv').drop('Unnamed: 0', axis = 1)\n",
    "population = pd.read_csv('./data/cleandata/clean_population.csv').drop('Unnamed: 0', axis = 1)\n",
    "unemployment = pd.read_csv('./data/cleandata/clean_unemployment.csv').drop('Unnamed: 0', axis = 1)\n",
    "education = pd.read_csv('./data/cleandata/clean_education.csv').drop('Unnamed: 0', axis = 1)\n",
    "permits = pd.read_csv('./data/cleandata/clean_permits.csv').drop('Unnamed: 0', axis = 1)\n",
    "IandH = pd.read_csv('./data/cleandata/clean_IandH.csv').drop('Unnamed: 0', axis = 1)\n",
    "pce = pd.read_csv('./data/cleandata/clean_pce.csv').drop('Unnamed: 0', axis = 1)\n",
    "vacancy = pd.read_csv('./data/cleandata/clean_vacancy.csv').drop('Unnamed: 0', axis = 1)"
   ]
  },
  {
   "cell_type": "code",
   "execution_count": 47,
   "metadata": {},
   "outputs": [
    {
     "data": {
      "text/html": [
       "<div>\n",
       "<style scoped>\n",
       "    .dataframe tbody tr th:only-of-type {\n",
       "        vertical-align: middle;\n",
       "    }\n",
       "\n",
       "    .dataframe tbody tr th {\n",
       "        vertical-align: top;\n",
       "    }\n",
       "\n",
       "    .dataframe thead th {\n",
       "        text-align: right;\n",
       "    }\n",
       "</style>\n",
       "<table border=\"1\" class=\"dataframe\">\n",
       "  <thead>\n",
       "    <tr style=\"text-align: right;\">\n",
       "      <th></th>\n",
       "      <th>County</th>\n",
       "      <th>State</th>\n",
       "      <th>Year</th>\n",
       "      <th>Month</th>\n",
       "      <th>Total_Households</th>\n",
       "      <th>Med_income</th>\n",
       "      <th>Year_Month</th>\n",
       "    </tr>\n",
       "  </thead>\n",
       "  <tbody>\n",
       "    <tr>\n",
       "      <th>0</th>\n",
       "      <td>Ada</td>\n",
       "      <td>ID</td>\n",
       "      <td>2014</td>\n",
       "      <td>1</td>\n",
       "      <td>155801.028921</td>\n",
       "      <td>52954.849181</td>\n",
       "      <td>2014_1</td>\n",
       "    </tr>\n",
       "    <tr>\n",
       "      <th>1</th>\n",
       "      <td>Ada</td>\n",
       "      <td>ID</td>\n",
       "      <td>2014</td>\n",
       "      <td>2</td>\n",
       "      <td>156168.924513</td>\n",
       "      <td>53370.942329</td>\n",
       "      <td>2014_2</td>\n",
       "    </tr>\n",
       "    <tr>\n",
       "      <th>2</th>\n",
       "      <td>Ada</td>\n",
       "      <td>ID</td>\n",
       "      <td>2014</td>\n",
       "      <td>3</td>\n",
       "      <td>156537.688823</td>\n",
       "      <td>53790.304931</td>\n",
       "      <td>2014_3</td>\n",
       "    </tr>\n",
       "    <tr>\n",
       "      <th>3</th>\n",
       "      <td>Ada</td>\n",
       "      <td>ID</td>\n",
       "      <td>2014</td>\n",
       "      <td>4</td>\n",
       "      <td>156907.323903</td>\n",
       "      <td>54212.962678</td>\n",
       "      <td>2014_4</td>\n",
       "    </tr>\n",
       "    <tr>\n",
       "      <th>4</th>\n",
       "      <td>Ada</td>\n",
       "      <td>ID</td>\n",
       "      <td>2014</td>\n",
       "      <td>5</td>\n",
       "      <td>157277.831808</td>\n",
       "      <td>54638.941462</td>\n",
       "      <td>2014_5</td>\n",
       "    </tr>\n",
       "  </tbody>\n",
       "</table>\n",
       "</div>"
      ],
      "text/plain": [
       "  County State  Year  Month  Total_Households    Med_income Year_Month\n",
       "0    Ada    ID  2014      1     155801.028921  52954.849181     2014_1\n",
       "1    Ada    ID  2014      2     156168.924513  53370.942329     2014_2\n",
       "2    Ada    ID  2014      3     156537.688823  53790.304931     2014_3\n",
       "3    Ada    ID  2014      4     156907.323903  54212.962678     2014_4\n",
       "4    Ada    ID  2014      5     157277.831808  54638.941462     2014_5"
      ]
     },
     "execution_count": 47,
     "metadata": {},
     "output_type": "execute_result"
    }
   ],
   "source": [
    "IandH.head()"
   ]
  },
  {
   "cell_type": "markdown",
   "metadata": {},
   "source": [
    "## Intermediate Matrices for Merging Dataframes before Training"
   ]
  },
  {
   "cell_type": "code",
   "execution_count": 91,
   "metadata": {},
   "outputs": [],
   "source": [
    "one_year_forecast = zori[['Year', 'Month', 'Year_Month']]\n",
    "one_year_forecast = pd.concat([one_year_forecast, pd.DataFrame(one_year_forecast['Year'].map(lambda year: year - 1))], \n",
    "                             axis = 1)\n",
    "one_year_forecast.columns = ['Year', 'Month', 'Year_Month', 'Year2']\n",
    "one_year_forecast = pd.concat([one_year_forecast, pd.DataFrame(one_year_forecast['Year'].map(lambda year: year - 2))], \n",
    "                             axis = 1)\n",
    "one_year_forecast.columns = ['Year', 'Month', 'Year_Month', 'Year2', 'Year3']\n",
    "one_year_forecast['Year_Month2'] = one_year_forecast['Year2'].map(str) + '_' + one_year_forecast['Month'].map(str)\n",
    "one_year_forecast['Year_Month3'] = one_year_forecast['Year3'].map(str) + '_' + one_year_forecast['Month'].map(str)\n",
    "one_year_forecast = one_year_forecast[['Year_Month', 'Year_Month2', 'Year_Month3']]\n",
    "one_year_forecast.drop_duplicates(inplace = True)"
   ]
  },
  {
   "cell_type": "code",
   "execution_count": 4,
   "metadata": {},
   "outputs": [
    {
     "data": {
      "text/html": [
       "<div>\n",
       "<style scoped>\n",
       "    .dataframe tbody tr th:only-of-type {\n",
       "        vertical-align: middle;\n",
       "    }\n",
       "\n",
       "    .dataframe tbody tr th {\n",
       "        vertical-align: top;\n",
       "    }\n",
       "\n",
       "    .dataframe thead th {\n",
       "        text-align: right;\n",
       "    }\n",
       "</style>\n",
       "<table border=\"1\" class=\"dataframe\">\n",
       "  <thead>\n",
       "    <tr style=\"text-align: right;\">\n",
       "      <th></th>\n",
       "      <th>Year_Month</th>\n",
       "      <th>Year_Month2</th>\n",
       "      <th>Year_Month3</th>\n",
       "    </tr>\n",
       "  </thead>\n",
       "  <tbody>\n",
       "    <tr>\n",
       "      <th>0</th>\n",
       "      <td>2014_2</td>\n",
       "      <td>2013_2</td>\n",
       "      <td>2012_2</td>\n",
       "    </tr>\n",
       "    <tr>\n",
       "      <th>1</th>\n",
       "      <td>2014_3</td>\n",
       "      <td>2013_3</td>\n",
       "      <td>2012_3</td>\n",
       "    </tr>\n",
       "    <tr>\n",
       "      <th>2</th>\n",
       "      <td>2014_4</td>\n",
       "      <td>2013_4</td>\n",
       "      <td>2012_4</td>\n",
       "    </tr>\n",
       "    <tr>\n",
       "      <th>3</th>\n",
       "      <td>2014_5</td>\n",
       "      <td>2013_5</td>\n",
       "      <td>2012_5</td>\n",
       "    </tr>\n",
       "    <tr>\n",
       "      <th>4</th>\n",
       "      <td>2014_6</td>\n",
       "      <td>2013_6</td>\n",
       "      <td>2012_6</td>\n",
       "    </tr>\n",
       "    <tr>\n",
       "      <th>...</th>\n",
       "      <td>...</td>\n",
       "      <td>...</td>\n",
       "      <td>...</td>\n",
       "    </tr>\n",
       "    <tr>\n",
       "      <th>75</th>\n",
       "      <td>2020_5</td>\n",
       "      <td>2019_5</td>\n",
       "      <td>2018_5</td>\n",
       "    </tr>\n",
       "    <tr>\n",
       "      <th>76</th>\n",
       "      <td>2020_6</td>\n",
       "      <td>2019_6</td>\n",
       "      <td>2018_6</td>\n",
       "    </tr>\n",
       "    <tr>\n",
       "      <th>77</th>\n",
       "      <td>2020_7</td>\n",
       "      <td>2019_7</td>\n",
       "      <td>2018_7</td>\n",
       "    </tr>\n",
       "    <tr>\n",
       "      <th>78</th>\n",
       "      <td>2020_8</td>\n",
       "      <td>2019_8</td>\n",
       "      <td>2018_8</td>\n",
       "    </tr>\n",
       "    <tr>\n",
       "      <th>79</th>\n",
       "      <td>2020_9</td>\n",
       "      <td>2019_9</td>\n",
       "      <td>2018_9</td>\n",
       "    </tr>\n",
       "  </tbody>\n",
       "</table>\n",
       "<p>80 rows × 3 columns</p>\n",
       "</div>"
      ],
      "text/plain": [
       "   Year_Month Year_Month2 Year_Month3\n",
       "0      2014_2      2013_2      2012_2\n",
       "1      2014_3      2013_3      2012_3\n",
       "2      2014_4      2013_4      2012_4\n",
       "3      2014_5      2013_5      2012_5\n",
       "4      2014_6      2013_6      2012_6\n",
       "..        ...         ...         ...\n",
       "75     2020_5      2019_5      2018_5\n",
       "76     2020_6      2019_6      2018_6\n",
       "77     2020_7      2019_7      2018_7\n",
       "78     2020_8      2019_8      2018_8\n",
       "79     2020_9      2019_9      2018_9\n",
       "\n",
       "[80 rows x 3 columns]"
      ]
     },
     "execution_count": 4,
     "metadata": {},
     "output_type": "execute_result"
    }
   ],
   "source": [
    "one_year_forecast"
   ]
  },
  {
   "cell_type": "markdown",
   "metadata": {},
   "source": [
    "## Final Dataframe for Training"
   ]
  },
  {
   "cell_type": "code",
   "execution_count": 92,
   "metadata": {},
   "outputs": [],
   "source": [
    "df = zori\n",
    "df = pd.merge(df, one_year_forecast, on = 'Year_Month')\n",
    "df = pd.merge(df, zori[['Year_Month', 'ZipCode', 'ZORI']], left_on = ['Year_Month2', 'ZipCode'],\n",
    "              right_on = ['Year_Month', 'ZipCode'], how = 'left')\n",
    "df.drop('Year_Month_y', axis = 1, inplace = True)"
   ]
  },
  {
   "cell_type": "code",
   "execution_count": 93,
   "metadata": {},
   "outputs": [],
   "source": [
    "df = pd.merge(df, zhvi[['Year_Month', 'ZipCode', 'ZHVI']], left_on = ['Year_Month2', 'ZipCode'],\n",
    "              right_on = ['Year_Month', 'ZipCode'], how = 'left')\n",
    "df.drop('Year_Month', axis = 1, inplace = True)"
   ]
  },
  {
   "cell_type": "code",
   "execution_count": 94,
   "metadata": {},
   "outputs": [],
   "source": [
    "df = pd.merge(df, airq[['County', 'State', 'Year_Month', 'AQI']], left_on = ['County', 'State', 'Year_Month2'],\n",
    "              right_on = ['County', 'State', 'Year_Month'], how = 'left')\n",
    "df.drop('Year_Month', axis = 1, inplace = True)"
   ]
  },
  {
   "cell_type": "code",
   "execution_count": 95,
   "metadata": {},
   "outputs": [],
   "source": [
    "df = pd.merge(df, population[['County', 'State', 'Year_Month', 'Population']], \n",
    "              left_on = ['County', 'State', 'Year_Month3'], right_on = ['County', 'State', 'Year_Month'], how = 'left')\n",
    "df.drop('Year_Month', axis = 1, inplace = True)"
   ]
  },
  {
   "cell_type": "code",
   "execution_count": 96,
   "metadata": {},
   "outputs": [],
   "source": [
    "df = pd.merge(df, unemployment[['County', 'State', 'Year_Month', 'Unemployment']], \n",
    "             left_on = ['County', 'State', 'Year_Month2'], right_on = ['County', 'State', 'Year_Month'], how = 'left')\n",
    "df.drop('Year_Month', axis = 1, inplace = True)"
   ]
  },
  {
   "cell_type": "code",
   "execution_count": 97,
   "metadata": {},
   "outputs": [],
   "source": [
    "df['Year2'] = df['Year'] - 1\n",
    "df['Year3'] = df['Year'] - 2\n",
    "df = pd.merge(df, education, left_on = ['County', 'State', 'Year3'], right_on = ['County', 'State', 'Year'], how = 'left')\n",
    "df.drop('Year_y', axis = 1, inplace = True)"
   ]
  },
  {
   "cell_type": "code",
   "execution_count": 98,
   "metadata": {},
   "outputs": [],
   "source": [
    "df = pd.merge(df, permits[['State', 'Units', 'Year_Month']], left_on = ['State', 'Year_Month2'], \n",
    "              right_on = ['State', 'Year_Month'], how = 'left')\n",
    "df.drop('Year_Month', axis = 1, inplace = True)"
   ]
  },
  {
   "cell_type": "code",
   "execution_count": 99,
   "metadata": {},
   "outputs": [],
   "source": [
    "df = pd.merge(df, IandH[['County', 'State', 'Year_Month', 'Total_Households', 'Med_income']], \n",
    "             left_on = ['County', 'State', 'Year_Month3'], right_on = ['County', 'State', 'Year_Month'], how = 'left')\n",
    "df.drop('Year_Month', axis = 1, inplace = True)"
   ]
  },
  {
   "cell_type": "code",
   "execution_count": 100,
   "metadata": {},
   "outputs": [],
   "source": [
    "df = pd.merge(df, pce[['PCE', 'Year_Month']], left_on = 'Year_Month2', right_on = 'Year_Month')\n",
    "df.drop('Year_Month', axis = 1, inplace = True)"
   ]
  },
  {
   "cell_type": "code",
   "execution_count": 101,
   "metadata": {},
   "outputs": [],
   "source": [
    "df = pd.merge(df, vacancy, left_on = ['County', 'State', 'Year3'], right_on = ['County', 'State', 'Year'], how = 'left')\n",
    "df.drop('Year', axis = 1, inplace = True)"
   ]
  },
  {
   "cell_type": "code",
   "execution_count": 102,
   "metadata": {},
   "outputs": [],
   "source": [
    "df = df[['Year_x', 'Month', 'ZipCode', 'ZORI_x', 'ZORI_y', 'ZHVI', 'AQI', 'Population', 'Unemployment', \n",
    "         'Percent Bachelors', 'Units', 'Total_Households', 'Med_income', 'PCE', 'Rental Vacancy Rate']]"
   ]
  },
  {
   "cell_type": "code",
   "execution_count": 103,
   "metadata": {},
   "outputs": [],
   "source": [
    "df.columns = ['Year', 'Month', 'ZipCode', 'ZORI', 'ZORI_lagged_1', 'ZHVI_lagged_1', 'AQI_lagged_1', 'Population_lagged_2', \n",
    "              'Unemployment_lagged_1', 'Percent Bachelors_lagged_2', 'Permits_lagged_1', 'Total_Households_lagged_2',\n",
    "              'Med_Income_lagged_2', 'PCE_lagged_1', 'Rental Vacancy Rate_lagged_2']"
   ]
  },
  {
   "cell_type": "code",
   "execution_count": 104,
   "metadata": {},
   "outputs": [],
   "source": [
    "# Dropping all NaN values instead of imputing for simplicity for now\n",
    "df = df[(df['Year'] != 2014) & ~((df['Year'] == 2015) & (df['Month'] == 1))]\n",
    "df = df[~df['Total_Households_lagged_2'].isnull()]\n",
    "df = df[~df['ZORI'].isnull()]\n",
    "df = df[~df['ZORI_lagged_1'].isnull()]\n",
    "df = df[~df['ZHVI_lagged_1'].isnull()]\n",
    "df = df[~df['AQI_lagged_1'].isnull()]\n",
    "df = df[~df['Rental Vacancy Rate_lagged_2'].isnull()]\n",
    "train = df[df['Year'] != 2020]\n",
    "test = df[df['Year'] == 2020]"
   ]
  },
  {
   "cell_type": "code",
   "execution_count": 18,
   "metadata": {},
   "outputs": [],
   "source": [
    "pd.options.display.max_columns = None"
   ]
  },
  {
   "cell_type": "code",
   "execution_count": 33,
   "metadata": {},
   "outputs": [
    {
     "data": {
      "text/plain": [
       "Index(['Year', 'Month', 'ZipCode', 'ZORI', 'ZORI_lagged_1', 'ZHVI_lagged_1',\n",
       "       'AQI_lagged_1', 'Population_lagged_2', 'Unemployment_lagged_1',\n",
       "       'Percent Bachelors_lagged_2', 'Permits_lagged_1',\n",
       "       'Total_Households_lagged_2', 'Med_Income_lagged_2', 'PCE_lagged_1',\n",
       "       'Rental Vacancy Rate_lagged_2'],\n",
       "      dtype='object')"
      ]
     },
     "execution_count": 33,
     "metadata": {},
     "output_type": "execute_result"
    }
   ],
   "source": [
    "df.columns"
   ]
  },
  {
   "cell_type": "code",
   "execution_count": 63,
   "metadata": {},
   "outputs": [
    {
     "data": {
      "text/plain": [
       "(162537, 15)"
      ]
     },
     "execution_count": 63,
     "metadata": {},
     "output_type": "execute_result"
    }
   ],
   "source": [
    "df.shape"
   ]
  },
  {
   "cell_type": "code",
   "execution_count": 66,
   "metadata": {},
   "outputs": [
    {
     "data": {
      "text/plain": [
       "array([[<AxesSubplot:title={'center':'ZORI'}>]], dtype=object)"
      ]
     },
     "execution_count": 66,
     "metadata": {},
     "output_type": "execute_result"
    },
    {
     "data": {
      "image/png": "[encoded data removed]",
      "text/plain": [
       "<Figure size 432x288 with 1 Axes>"
      ]
     },
     "metadata": {
      "needs_background": "light"
     },
     "output_type": "display_data"
    }
   ],
   "source": [
    "df.hist('ZORI', bins=[0,1000,2000,3000,4000,5000])"
   ]
  },
  {
   "cell_type": "code",
   "execution_count": 71,
   "metadata": {},
   "outputs": [
    {
     "data": {
      "text/plain": [
       "Year                            1700\n",
       "Month                           1700\n",
       "ZipCode                         1700\n",
       "ZORI                            1700\n",
       "ZORI_lagged_1                   1700\n",
       "ZHVI_lagged_1                   1700\n",
       "AQI_lagged_1                    1700\n",
       "Population_lagged_2             1700\n",
       "Unemployment_lagged_1           1700\n",
       "Percent Bachelors_lagged_2      1700\n",
       "Permits_lagged_1                1700\n",
       "Total_Households_lagged_2       1700\n",
       "Med_Income_lagged_2             1700\n",
       "PCE_lagged_1                    1700\n",
       "Rental Vacancy Rate_lagged_2    1700\n",
       "dtype: int64"
      ]
     },
     "execution_count": 71,
     "metadata": {},
     "output_type": "execute_result"
    }
   ],
   "source": [
    "df[df['ZORI']>4000].count()"
   ]
  },
  {
   "cell_type": "code",
   "execution_count": 69,
   "metadata": {},
   "outputs": [
    {
     "data": {
      "text/plain": [
       "<AxesSubplot:xlabel='Percent Bachelors_lagged_2', ylabel='ZORI'>"
      ]
     },
     "execution_count": 69,
     "metadata": {},
     "output_type": "execute_result"
    },
    {
     "data": {
      "image/png": "[encoded data removed]",
      "text/plain": [
       "<Figure size 432x288 with 1 Axes>"
      ]
     },
     "metadata": {
      "needs_background": "light"
     },
     "output_type": "display_data"
    }
   ],
   "source": [
    "df[df['ZORI']>4000].plot.scatter(x='Percent Bachelors_lagged_2',y='ZORI')"
   ]
  },
  {
   "cell_type": "code",
   "execution_count": 89,
   "metadata": {},
   "outputs": [
    {
     "data": {
      "text/plain": [
       "(2989, 14)"
      ]
     },
     "execution_count": 89,
     "metadata": {},
     "output_type": "execute_result"
    }
   ],
   "source": [
    "df[df['ZORI']<4000].groupby('ZipCode').count().shape"
   ]
  },
  {
   "cell_type": "markdown",
   "metadata": {},
   "source": [
    "## Multiple Linear Regression on ZORI"
   ]
  },
  {
   "cell_type": "code",
   "execution_count": 160,
   "metadata": {},
   "outputs": [
    {
     "data": {
      "text/plain": [
       "0.9925193482593228"
      ]
     },
     "execution_count": 160,
     "metadata": {},
     "output_type": "execute_result"
    }
   ],
   "source": [
    "regression = LinearRegression()\n",
    "regression.fit(train.iloc[:, 4:], train.iloc[:, 3])\n",
    "regression.score(train.iloc[:, 4:], train.iloc[:, 3])"
   ]
  },
  {
   "cell_type": "code",
   "execution_count": 161,
   "metadata": {},
   "outputs": [
    {
     "data": {
      "text/plain": [
       "0.9801955421585727"
      ]
     },
     "execution_count": 161,
     "metadata": {},
     "output_type": "execute_result"
    }
   ],
   "source": [
    "r2_score(test.iloc[:, 3], regression.predict(test.iloc[:, 4:]))"
   ]
  },
  {
   "cell_type": "code",
   "execution_count": 162,
   "metadata": {},
   "outputs": [
    {
     "data": {
      "text/plain": [
       "0.9915774934484615"
      ]
     },
     "execution_count": 162,
     "metadata": {},
     "output_type": "execute_result"
    }
   ],
   "source": [
    "# Regression to see how much prior year ZORI drives current year ZORI\n",
    "temp = LinearRegression()\n",
    "temp.fit(np.array(train.iloc[:, 4]).reshape(-1, 1), train.iloc[:, 3])\n",
    "temp.score(np.array(train.iloc[:, 4]).reshape(-1, 1), train.iloc[:, 3])"
   ]
  },
  {
   "cell_type": "code",
   "execution_count": 163,
   "metadata": {},
   "outputs": [
    {
     "data": {
      "text/plain": [
       "0.978426063311627"
      ]
     },
     "execution_count": 163,
     "metadata": {},
     "output_type": "execute_result"
    }
   ],
   "source": [
    "r2_score(test.iloc[:, 3], temp.predict(np.array(test.iloc[:, 4]).reshape(-1, 1)))"
   ]
  },
  {
   "cell_type": "markdown",
   "metadata": {},
   "source": [
    "# Multiple Linear Regression on Change in ZORI\n",
    "# modified to calculate percent rather than absolute change"
   ]
  },
  {
   "cell_type": "code",
   "execution_count": 105,
   "metadata": {},
   "outputs": [],
   "source": [
    "df_change = df[df['ZORI']<4000].copy()\n",
    "df_change['Year_Month'] = df_change['Year'].map(str) + '_' + df_change['Month'].map(str)\n",
    "df_change = pd.merge(df_change, one_year_forecast, on = 'Year_Month')\n",
    "df_change = pd.merge(df_change, df_change, left_on = ['Year_Month', 'ZipCode'], right_on = ['Year_Month2', 'ZipCode'],\n",
    "                     how = 'inner')"
   ]
  },
  {
   "cell_type": "code",
   "execution_count": 106,
   "metadata": {},
   "outputs": [],
   "source": [
    "df_change['ZORI_x'] = 2*(df_change['ZORI_x'] - df_change['ZORI_y'])/(df_change['ZORI_x'] + df_change['ZORI_y'])\n",
    "df_change['ZHVI_lagged_1_x'] = 2*(df_change['ZHVI_lagged_1_x'] - df_change['ZHVI_lagged_1_y'])/(df_change['ZHVI_lagged_1_x'] + df_change['ZHVI_lagged_1_y'])\n",
    "df_change['AQI_lagged_1_x'] = 2*(df_change['AQI_lagged_1_x'] - df_change['AQI_lagged_1_y'])/(df_change['AQI_lagged_1_x'] + df_change['AQI_lagged_1_y'])\n",
    "df_change['Population_lagged_2_x'] = 2*(df_change['Population_lagged_2_x'] - df_change['Population_lagged_2_y'])/(df_change['Population_lagged_2_x'] + df_change['Population_lagged_2_y'])\n",
    "df_change['Unemployment_lagged_1_x'] = 2*(df_change['Unemployment_lagged_1_x'] - df_change['Unemployment_lagged_1_y'])/(df_change['Unemployment_lagged_1_x'] + df_change['Unemployment_lagged_1_y'])\n",
    "df_change['Percent Bacehlors_lagged_2_x'] = 2*(df_change['Percent Bachelors_lagged_2_x'] -\\\n",
    "                                            df_change['Percent Bachelors_lagged_2_y'])/(df_change['Percent Bachelors_lagged_2_x'] +\\\n",
    "                                            df_change['Percent Bachelors_lagged_2_y'])\n",
    "df_change['Permits_lagged_1_x'] = 2*(df_change['Permits_lagged_1_x'] - df_change['Permits_lagged_1_y'])/(df_change['Permits_lagged_1_x'] + df_change['Permits_lagged_1_y'])\n",
    "df_change['Total_Households_lagged_2_x'] = 2*(df_change['Total_Households_lagged_2_x'] -\\\n",
    "                                           df_change['Total_Households_lagged_2_y'])/(df_change['Total_Households_lagged_2_x'] +\\\n",
    "                                           df_change['Total_Households_lagged_2_y'])\n",
    "df_change['Med_Income_lagged_2_x'] = 2*(df_change['Med_Income_lagged_2_x'] - df_change['Med_Income_lagged_2_y'])/(df_change['Med_Income_lagged_2_x'] + df_change['Med_Income_lagged_2_y'])\n",
    "df_change['PCE_lagged_1_x'] = 2*(df_change['PCE_lagged_1_x'] - df_change['PCE_lagged_1_y'])/(df_change['PCE_lagged_1_x'] + df_change['PCE_lagged_1_y'])\n",
    "df_change['Rental Vacancy Rate_lagged_2_x'] = 2*(df_change['Rental Vacancy Rate_lagged_2_x'] -\\\n",
    "                                              df_change['Rental Vacancy Rate_lagged_2_y'])/(df_change['Rental Vacancy Rate_lagged_2_x'] +\\\n",
    "                                              df_change['Rental Vacancy Rate_lagged_2_y'])"
   ]
  },
  {
   "cell_type": "code",
   "execution_count": 107,
   "metadata": {},
   "outputs": [],
   "source": [
    "df_change = df_change[['Year_x', 'Month_x', 'ZipCode', 'ZORI_x', 'ZHVI_lagged_1_x', 'AQI_lagged_1_x', \n",
    "                      'Population_lagged_2_x', 'Unemployment_lagged_1_x', 'Percent Bachelors_lagged_2_x', \n",
    "                      'Permits_lagged_1_x', 'Total_Households_lagged_2_x', 'Med_Income_lagged_2_x', 'PCE_lagged_1_x', \n",
    "                      'Rental Vacancy Rate_lagged_2_x']]"
   ]
  },
  {
   "cell_type": "code",
   "execution_count": 108,
   "metadata": {},
   "outputs": [],
   "source": [
    "df_change.columns = ['Year', 'Month', 'ZipCode', 'ZORI_delta', 'ZHVI_lagged_1_delta', 'AQI_lagged_1_delta',\n",
    "                    'Population_lagged_2_delta', 'Unemployment_lagged_1_delta', 'Percent Bachelors_lagged_2_delta', \n",
    "                    'Permits_lagged_1_delta', 'Total_Households_lagged_2_delta', 'Med_Income_lagged_2_delta', \n",
    "                    'PCE_lagged_1_delta', 'Rental Vacancy Rate_lagged_2_delta']"
   ]
  },
  {
   "cell_type": "code",
   "execution_count": 113,
   "metadata": {},
   "outputs": [],
   "source": [
    "df_change = df_change.fillna(0)"
   ]
  },
  {
   "cell_type": "code",
   "execution_count": 114,
   "metadata": {},
   "outputs": [
    {
     "data": {
      "text/plain": [
       "Year                                  0\n",
       "Month                                 0\n",
       "ZipCode                               0\n",
       "ZORI_delta                            0\n",
       "ZHVI_lagged_1_delta                   0\n",
       "AQI_lagged_1_delta                    0\n",
       "Population_lagged_2_delta             0\n",
       "Unemployment_lagged_1_delta           0\n",
       "Percent Bachelors_lagged_2_delta      0\n",
       "Permits_lagged_1_delta                0\n",
       "Total_Households_lagged_2_delta       0\n",
       "Med_Income_lagged_2_delta             0\n",
       "PCE_lagged_1_delta                    0\n",
       "Rental Vacancy Rate_lagged_2_delta    0\n",
       "dtype: int64"
      ]
     },
     "execution_count": 114,
     "metadata": {},
     "output_type": "execute_result"
    }
   ],
   "source": [
    "df_change.isnull().sum(axis=0)"
   ]
  },
  {
   "cell_type": "code",
   "execution_count": 119,
   "metadata": {},
   "outputs": [
    {
     "data": {
      "text/plain": [
       "<AxesSubplot:xlabel='Year', ylabel='Unemployment_lagged_1_delta'>"
      ]
     },
     "execution_count": 119,
     "metadata": {},
     "output_type": "execute_result"
    },
    {
     "data": {
      "image/png": "[encoded data removed]",
      "text/plain": [
       "<Figure size 432x288 with 1 Axes>"
      ]
     },
     "metadata": {
      "needs_background": "light"
     },
     "output_type": "display_data"
    }
   ],
   "source": [
    "df_change[df_change['ZipCode']==10028].plot.scatter(x='Year',y='Unemployment_lagged_1_delta')"
   ]
  },
  {
   "cell_type": "code",
   "execution_count": 125,
   "metadata": {},
   "outputs": [
    {
     "data": {
      "text/plain": [
       "90068    45\n",
       "85301    45\n",
       "2141     45\n",
       "92337    45\n",
       "10457    45\n",
       "8536     45\n",
       "20886    45\n",
       "21014    45\n",
       "33484    45\n",
       "33612    45\n",
       "2909     45\n",
       "97203    45\n",
       "89015    45\n",
       "29650    45\n",
       "89143    45\n",
       "46218    45\n",
       "30034    45\n",
       "10075    45\n",
       "32211    45\n",
       "22102    45\n",
       "77433    45\n",
       "2140     45\n",
       "32909    45\n",
       "92336    45\n",
       "74105    45\n",
       "2460     45\n",
       "92592    45\n",
       "92656    45\n",
       "96818    45\n",
       "64130    45\n",
       "80634    45\n",
       "33613    45\n",
       "32780    45\n",
       "55303    45\n",
       "7960     45\n",
       "98036    45\n",
       "75070    45\n",
       "11743    45\n",
       "30228    45\n",
       "32277    45\n",
       "77375    45\n",
       "91766    45\n",
       "85747    45\n",
       "10014    45\n",
       "55104    45\n",
       "32725    45\n",
       "2138     45\n",
       "32907    45\n",
       "2458     45\n",
       "29205    45\n",
       "Name: ZipCode, dtype: int64"
      ]
     },
     "execution_count": 125,
     "metadata": {},
     "output_type": "execute_result"
    }
   ],
   "source": [
    "df_change.ZipCode.value_counts().head(50)"
   ]
  },
  {
   "cell_type": "code",
   "execution_count": 128,
   "metadata": {},
   "outputs": [
    {
     "name": "stdout",
     "output_type": "stream",
     "text": [
      "-0.010842667313806842 [-0.03146304  4.91984929 -0.33915798 -0.03942882] 0.9041324099112918\n"
     ]
    }
   ],
   "source": [
    "# fit to individual zip code\n",
    "r1 = LinearRegression()\n",
    "y1 = df_change[df_change['ZipCode']==10028]['ZORI_delta']\n",
    "x1 = df_change[df_change['ZipCode']==10028][['Unemployment_lagged_1_delta','Population_lagged_2_delta','Med_Income_lagged_2_delta','PCE_lagged_1_delta']]\n",
    "r1.fit(x1, y1)\n",
    "print(r1.intercept_, r1.coef_, r1.score(x1,y1))"
   ]
  },
  {
   "cell_type": "code",
   "execution_count": 129,
   "metadata": {},
   "outputs": [],
   "source": [
    "df2 = df[df['ZORI']<4000].copy()"
   ]
  },
  {
   "cell_type": "code",
   "execution_count": 130,
   "metadata": {},
   "outputs": [
    {
     "data": {
      "text/plain": [
       "Index(['Year', 'Month', 'ZipCode', 'ZORI', 'ZORI_lagged_1', 'ZHVI_lagged_1',\n",
       "       'AQI_lagged_1', 'Population_lagged_2', 'Unemployment_lagged_1',\n",
       "       'Percent Bachelors_lagged_2', 'Permits_lagged_1',\n",
       "       'Total_Households_lagged_2', 'Med_Income_lagged_2', 'PCE_lagged_1',\n",
       "       'Rental Vacancy Rate_lagged_2'],\n",
       "      dtype='object')"
      ]
     },
     "execution_count": 130,
     "metadata": {},
     "output_type": "execute_result"
    }
   ],
   "source": [
    "df2.columns"
   ]
  },
  {
   "cell_type": "code",
   "execution_count": 132,
   "metadata": {},
   "outputs": [
    {
     "name": "stdout",
     "output_type": "stream",
     "text": [
      "-624.8039224197041 [-2.35665919e+01  2.20944500e-03 -6.19741809e-03  9.99417862e+01] 0.6740213434272395\n"
     ]
    }
   ],
   "source": [
    "# fit to individual zip code of absolute values\n",
    "r2 = LinearRegression()\n",
    "y1 = df2[df2['ZipCode']==10028]['ZORI']\n",
    "x1 = df2[df2['ZipCode']==10028][['Unemployment_lagged_1','Population_lagged_2','Med_Income_lagged_2','PCE_lagged_1']]\n",
    "r2.fit(x1, y1)\n",
    "print(r2.intercept_, r2.coef_, r2.score(x1,y1))"
   ]
  },
  {
   "cell_type": "code",
   "execution_count": 123,
   "metadata": {},
   "outputs": [
    {
     "name": "stdout",
     "output_type": "stream",
     "text": [
      "-0.08751512169302261 [-0.25559551  1.26542802 -4.1540292   0.26806438] 0.714034493809388\n"
     ]
    }
   ],
   "source": [
    "r1 = LinearRegression()\n",
    "y1 = df_change[df_change['ZipCode']==11422]['ZORI_delta']\n",
    "x1 = df_change[df_change['ZipCode']==11422][['Unemployment_lagged_1_delta','Population_lagged_2_delta','Med_Income_lagged_2_delta','PCE_lagged_1_delta']]\n",
    "r1.fit(x1, y1)\n",
    "print(r1.intercept_, r1.coef_, r1.score(x1,y1))"
   ]
  },
  {
   "cell_type": "code",
   "execution_count": 115,
   "metadata": {},
   "outputs": [],
   "source": [
    "#fit to entire set\n",
    "train_change = df_change[df_change['Year'] != 2019]\n",
    "test_change = df_change[df_change['Year'] == 2019]"
   ]
  },
  {
   "cell_type": "code",
   "execution_count": 116,
   "metadata": {},
   "outputs": [
    {
     "data": {
      "text/plain": [
       "0.1857502234941768"
      ]
     },
     "execution_count": 116,
     "metadata": {},
     "output_type": "execute_result"
    }
   ],
   "source": [
    "regression_change = LinearRegression()\n",
    "regression_change.fit(train_change.iloc[:, 4:], train_change.iloc[:, 3])\n",
    "regression_change.score(train_change.iloc[:, 4:], train_change.iloc[:, 3])"
   ]
  },
  {
   "cell_type": "code",
   "execution_count": 228,
   "metadata": {},
   "outputs": [
    {
     "data": {
      "text/plain": [
       "0.0007700455758817837"
      ]
     },
     "execution_count": 228,
     "metadata": {},
     "output_type": "execute_result"
    }
   ],
   "source": [
    "r2_score(test_change.iloc[:, 3], regression.predict(test_change.iloc[:, 4:]))"
   ]
  }
 ],
 "metadata": {
  "kernelspec": {
   "display_name": "Python 3",
   "language": "python",
   "name": "python3"
  },
  "language_info": {
   "codemirror_mode": {
    "name": "ipython",
    "version": 3
   },
   "file_extension": ".py",
   "mimetype": "text/x-python",
   "name": "python",
   "nbconvert_exporter": "python",
   "pygments_lexer": "ipython3",
   "version": "3.7.9"
  }
 },
 "nbformat": 4,
 "nbformat_minor": 4
}
