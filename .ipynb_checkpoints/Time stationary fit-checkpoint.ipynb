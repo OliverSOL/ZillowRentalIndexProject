{
 "cells": [
  {
   "cell_type": "code",
   "execution_count": 80,
   "metadata": {},
   "outputs": [],
   "source": [
    "import numpy as np\n",
    "import pandas as pd\n",
    "from sklearn.metrics import r2_score\n",
    "from sklearn.linear_model import LinearRegression, Lasso\n",
    "from sklearn.model_selection import train_test_split, KFold, GridSearchCV, cross_validate\n",
    "from sklearn.feature_selection import f_regression, mutual_info_regression \n",
    "from sklearn import ensemble"
   ]
  },
  {
   "cell_type": "code",
   "execution_count": 2,
   "metadata": {},
   "outputs": [],
   "source": [
    "zori = pd.read_csv('./data/cleandata/clean_zori.csv').drop('Unnamed: 0', axis = 1)\n",
    "zhvi = pd.read_csv('./data/cleandata/clean_zhvi.csv').drop('Unnamed: 0', axis = 1)\n",
    "airq = pd.read_csv('./data/cleandata/clean_airq.csv').drop('Unnamed: 0', axis = 1)\n",
    "population = pd.read_csv('./data/cleandata/clean_population.csv').drop('Unnamed: 0', axis = 1)\n",
    "unemployment = pd.read_csv('./data/cleandata/clean_unemployment.csv').drop('Unnamed: 0', axis = 1)\n",
    "education = pd.read_csv('./data/cleandata/clean_education.csv').drop('Unnamed: 0', axis = 1)\n",
    "permits = pd.read_csv('./data/cleandata/clean_permits.csv').drop('Unnamed: 0', axis = 1)\n",
    "IandH = pd.read_csv('./data/cleandata/clean_IandH.csv').drop('Unnamed: 0', axis = 1)\n",
    "pce = pd.read_csv('./data/cleandata/clean_pce.csv').drop('Unnamed: 0', axis = 1)\n",
    "vacancy = pd.read_csv('./data/cleandata/clean_vacancy.csv').drop('Unnamed: 0', axis = 1)"
   ]
  },
  {
   "cell_type": "code",
   "execution_count": 122,
   "metadata": {},
   "outputs": [],
   "source": [
    "one_year_forecast = zori[['Year', 'Month', 'Year_Month']]\n",
    "one_year_forecast = pd.concat([one_year_forecast, pd.DataFrame(one_year_forecast['Year'].map(lambda year: year - 1))], \n",
    "                             axis = 1)\n",
    "one_year_forecast.columns = ['Year', 'Month', 'Year_Month', 'Year2']\n",
    "one_year_forecast = pd.concat([one_year_forecast, pd.DataFrame(one_year_forecast['Year'].map(lambda year: year - 2))], \n",
    "                             axis = 1)\n",
    "one_year_forecast.columns = ['Year', 'Month', 'Year_Month', 'Year2', 'Year3']\n",
    "one_year_forecast['Year_Month2'] = one_year_forecast['Year2'].map(str) + '_' + one_year_forecast['Month'].map(str)\n",
    "one_year_forecast['Year_Month3'] = one_year_forecast['Year3'].map(str) + '_' + one_year_forecast['Month'].map(str)\n",
    "one_year_forecast = one_year_forecast[['Year_Month', 'Year_Month2', 'Year_Month3']]\n",
    "one_year_forecast.drop_duplicates(inplace = True)"
   ]
  },
  {
   "cell_type": "markdown",
   "metadata": {},
   "source": [
    "# collecting data into same year format"
   ]
  },
  {
   "cell_type": "code",
   "execution_count": 123,
   "metadata": {},
   "outputs": [],
   "source": [
    "df = zori\n",
    "df = pd.merge(df, one_year_forecast, on = 'Year_Month')"
   ]
  },
  {
   "cell_type": "code",
   "execution_count": 124,
   "metadata": {},
   "outputs": [],
   "source": [
    "df = pd.merge(df, zhvi[['Year_Month', 'ZipCode', 'ZHVI']], left_on = ['Year_Month', 'ZipCode'],\n",
    "              right_on = ['Year_Month', 'ZipCode'], how = 'left')"
   ]
  },
  {
   "cell_type": "code",
   "execution_count": 125,
   "metadata": {},
   "outputs": [],
   "source": [
    "df = pd.merge(df, airq[['County', 'State', 'Year_Month', 'AQI']], left_on = ['County', 'State', 'Year_Month'],\n",
    "              right_on = ['County', 'State', 'Year_Month'], how = 'left')"
   ]
  },
  {
   "cell_type": "code",
   "execution_count": 137,
   "metadata": {},
   "outputs": [],
   "source": [
    "df = pd.merge(df, population[['County', 'State', 'Year_Month', 'Population']], \n",
    "              left_on = ['County', 'State', 'Year_Month'], right_on = ['County', 'State', 'Year_Month'], how = 'left')"
   ]
  },
  {
   "cell_type": "code",
   "execution_count": 128,
   "metadata": {},
   "outputs": [],
   "source": [
    "df = pd.merge(df, unemployment[['County', 'State', 'Year_Month', 'Unemployment']], \n",
    "             left_on = ['County', 'State', 'Year_Month'], right_on = ['County', 'State', 'Year_Month'], how = 'left')"
   ]
  },
  {
   "cell_type": "code",
   "execution_count": 129,
   "metadata": {},
   "outputs": [],
   "source": [
    "df = pd.merge(df, education, left_on = ['County', 'State', 'Year'], right_on = ['County', 'State', 'Year'], how = 'left')"
   ]
  },
  {
   "cell_type": "code",
   "execution_count": 136,
   "metadata": {},
   "outputs": [],
   "source": [
    "df = pd.merge(df, permits[['State', 'Units', 'Year_Month']], left_on = ['State', 'Year_Month'], \n",
    "              right_on = ['State', 'Year_Month'], how = 'left')"
   ]
  },
  {
   "cell_type": "code",
   "execution_count": 132,
   "metadata": {},
   "outputs": [],
   "source": [
    "df = pd.merge(df, IandH[['County', 'State', 'Year_Month', 'Total_Households', 'Med_income']], \n",
    "             left_on = ['County', 'State', 'Year_Month'], right_on = ['County', 'State', 'Year_Month'], how = 'left')"
   ]
  },
  {
   "cell_type": "code",
   "execution_count": 133,
   "metadata": {},
   "outputs": [],
   "source": [
    "df = pd.merge(df, pce[['PCE', 'Year_Month']], left_on = 'Year_Month', right_on = 'Year_Month')"
   ]
  },
  {
   "cell_type": "code",
   "execution_count": 134,
   "metadata": {},
   "outputs": [],
   "source": [
    "df = pd.merge(df, vacancy, left_on = ['County', 'State', 'Year'], right_on = ['County', 'State', 'Year'], how = 'left')"
   ]
  },
  {
   "cell_type": "code",
   "execution_count": 138,
   "metadata": {},
   "outputs": [],
   "source": [
    "df = df[['Year', 'Month', 'ZipCode', 'ZORI', 'ZHVI', 'AQI', 'Population', 'Unemployment', \n",
    "         'Percent Bachelors', 'Units', 'Total_Households', 'Med_income', 'PCE', 'Rental Vacancy Rate']]"
   ]
  },
  {
   "cell_type": "code",
   "execution_count": 178,
   "metadata": {},
   "outputs": [],
   "source": [
    "# Dropping all NaN values instead of imputing for simplicity for now\n",
    "df = df[(df['Year'] != 2014) & ~((df['Year'] == 2015) & (df['Month'] == 1))]\n",
    "df = df[~df['Total_Households'].isnull()]\n",
    "df = df[~df['ZORI'].isnull()]\n",
    "df = df[~df['ZHVI'].isnull()]\n",
    "df = df[~df['AQI'].isnull()]\n",
    "df = df[~df['Rental Vacancy Rate'].isnull()]\n",
    "df2 = df[df['ZORI']<4000].copy() #taking only ZORI < 4000\n",
    "#df2 = df[df['Year'] != 2020].copy() #drop 2020 since it is an anomolous year with COVID\n",
    "#train = df[df['Year'] != 2019]\n",
    "#test = df[df['Year'] == 2020]"
   ]
  },
  {
   "cell_type": "markdown",
   "metadata": {},
   "source": [
    "# Linear Regression Models"
   ]
  },
  {
   "cell_type": "code",
   "execution_count": 78,
   "metadata": {},
   "outputs": [
    {
     "data": {
      "text/plain": [
       "0.22972810675673438"
      ]
     },
     "execution_count": 78,
     "metadata": {},
     "output_type": "execute_result"
    }
   ],
   "source": [
    "# include all ZORIs\n",
    "regression = LinearRegression()\n",
    "regression.fit(df.iloc[:, 4:], df.iloc[:, 3])\n",
    "regression.score(df.iloc[:, 4:], df.iloc[:, 3])"
   ]
  },
  {
   "cell_type": "code",
   "execution_count": 79,
   "metadata": {},
   "outputs": [
    {
     "data": {
      "text/plain": [
       "0.7315064661331103"
      ]
     },
     "execution_count": 79,
     "metadata": {},
     "output_type": "execute_result"
    }
   ],
   "source": [
    "# include only ZORIs < 4000\n",
    "regression2 = LinearRegression()\n",
    "regression2.fit(df2.iloc[:, 4:], df2.iloc[:, 3])\n",
    "regression2.score(df2.iloc[:, 4:], df2.iloc[:, 3])"
   ]
  },
  {
   "cell_type": "code",
   "execution_count": 106,
   "metadata": {},
   "outputs": [],
   "source": [
    "df2.reset_index(inplace = True)\n",
    "df2.drop('index', axis=1, inplace=True)\n",
    "train_idx = np.random.choice(range(df2.shape[0]), round(0.7 * df2.shape[0]), replace = False)\n",
    "test_idx = df2.index[~df2.index.isin(train_idx)]\n",
    "train = df2.iloc[train_idx, :]\n",
    "test = df2.iloc[test_idx, :]"
   ]
  },
  {
   "cell_type": "code",
   "execution_count": 107,
   "metadata": {},
   "outputs": [
    {
     "data": {
      "text/plain": [
       "0.7297245817868043"
      ]
     },
     "execution_count": 107,
     "metadata": {},
     "output_type": "execute_result"
    }
   ],
   "source": [
    "regression3 = LinearRegression()\n",
    "regression3.fit(train.iloc[:, 4:], train.iloc[:, 3])\n",
    "regression3.score(train.iloc[:, 4:], train.iloc[:, 3])"
   ]
  },
  {
   "cell_type": "code",
   "execution_count": 108,
   "metadata": {},
   "outputs": [
    {
     "data": {
      "text/plain": [
       "0.7356098692465869"
      ]
     },
     "execution_count": 108,
     "metadata": {},
     "output_type": "execute_result"
    }
   ],
   "source": [
    "r2_score(test.iloc[:, 3], regression3.predict(test.iloc[:, 4:]))"
   ]
  },
  {
   "cell_type": "code",
   "execution_count": 110,
   "metadata": {},
   "outputs": [
    {
     "data": {
      "text/html": [
       "<div>\n",
       "<style scoped>\n",
       "    .dataframe tbody tr th:only-of-type {\n",
       "        vertical-align: middle;\n",
       "    }\n",
       "\n",
       "    .dataframe tbody tr th {\n",
       "        vertical-align: top;\n",
       "    }\n",
       "\n",
       "    .dataframe thead th {\n",
       "        text-align: right;\n",
       "    }\n",
       "</style>\n",
       "<table border=\"1\" class=\"dataframe\">\n",
       "  <thead>\n",
       "    <tr style=\"text-align: right;\">\n",
       "      <th></th>\n",
       "      <th>coefficients</th>\n",
       "    </tr>\n",
       "  </thead>\n",
       "  <tbody>\n",
       "    <tr>\n",
       "      <th>Rental Vacancy Rate</th>\n",
       "      <td>-3.590559</td>\n",
       "    </tr>\n",
       "    <tr>\n",
       "      <th>Percent Bachelors</th>\n",
       "      <td>-2.573306</td>\n",
       "    </tr>\n",
       "    <tr>\n",
       "      <th>AQI</th>\n",
       "      <td>-1.668358</td>\n",
       "    </tr>\n",
       "    <tr>\n",
       "      <th>Population</th>\n",
       "      <td>-0.000009</td>\n",
       "    </tr>\n",
       "    <tr>\n",
       "      <th>Total_Households</th>\n",
       "      <td>0.000061</td>\n",
       "    </tr>\n",
       "    <tr>\n",
       "      <th>ZHVI</th>\n",
       "      <td>0.001476</td>\n",
       "    </tr>\n",
       "    <tr>\n",
       "      <th>Med_income</th>\n",
       "      <td>0.006361</td>\n",
       "    </tr>\n",
       "    <tr>\n",
       "      <th>Units</th>\n",
       "      <td>0.032709</td>\n",
       "    </tr>\n",
       "    <tr>\n",
       "      <th>Unemployment</th>\n",
       "      <td>7.182334</td>\n",
       "    </tr>\n",
       "    <tr>\n",
       "      <th>PCE</th>\n",
       "      <td>63.603863</td>\n",
       "    </tr>\n",
       "  </tbody>\n",
       "</table>\n",
       "</div>"
      ],
      "text/plain": [
       "                     coefficients\n",
       "Rental Vacancy Rate     -3.590559\n",
       "Percent Bachelors       -2.573306\n",
       "AQI                     -1.668358\n",
       "Population              -0.000009\n",
       "Total_Households         0.000061\n",
       "ZHVI                     0.001476\n",
       "Med_income               0.006361\n",
       "Units                    0.032709\n",
       "Unemployment             7.182334\n",
       "PCE                     63.603863"
      ]
     },
     "execution_count": 110,
     "metadata": {},
     "output_type": "execute_result"
    }
   ],
   "source": [
    "c_values = pd.Series(regression2.coef_, index = df2.iloc[:, 4:].columns).sort_values()\n",
    "pd.DataFrame(c_values, columns = ['coefficients'])"
   ]
  },
  {
   "cell_type": "code",
   "execution_count": null,
   "metadata": {},
   "outputs": [],
   "source": [
    "value_f, p_f = f_regression(df2.iloc[:, 4:], df2.iloc[:, 3])\n",
    "mutual_scores = mutual_info_regression(df2.iloc[:, 4:], df2.iloc[:, 3])"
   ]
  },
  {
   "cell_type": "code",
   "execution_count": 111,
   "metadata": {},
   "outputs": [
    {
     "data": {
      "text/html": [
       "<div>\n",
       "<style scoped>\n",
       "    .dataframe tbody tr th:only-of-type {\n",
       "        vertical-align: middle;\n",
       "    }\n",
       "\n",
       "    .dataframe tbody tr th {\n",
       "        vertical-align: top;\n",
       "    }\n",
       "\n",
       "    .dataframe thead th {\n",
       "        text-align: right;\n",
       "    }\n",
       "</style>\n",
       "<table border=\"1\" class=\"dataframe\">\n",
       "  <thead>\n",
       "    <tr style=\"text-align: right;\">\n",
       "      <th></th>\n",
       "      <th>p-values</th>\n",
       "    </tr>\n",
       "  </thead>\n",
       "  <tbody>\n",
       "    <tr>\n",
       "      <th>ZHVI</th>\n",
       "      <td>0.000000e+00</td>\n",
       "    </tr>\n",
       "    <tr>\n",
       "      <th>Population</th>\n",
       "      <td>0.000000e+00</td>\n",
       "    </tr>\n",
       "    <tr>\n",
       "      <th>Unemployment</th>\n",
       "      <td>0.000000e+00</td>\n",
       "    </tr>\n",
       "    <tr>\n",
       "      <th>Percent Bachelors</th>\n",
       "      <td>0.000000e+00</td>\n",
       "    </tr>\n",
       "    <tr>\n",
       "      <th>Units</th>\n",
       "      <td>0.000000e+00</td>\n",
       "    </tr>\n",
       "    <tr>\n",
       "      <th>Total_Households</th>\n",
       "      <td>0.000000e+00</td>\n",
       "    </tr>\n",
       "    <tr>\n",
       "      <th>Med_income</th>\n",
       "      <td>0.000000e+00</td>\n",
       "    </tr>\n",
       "    <tr>\n",
       "      <th>Rental Vacancy Rate</th>\n",
       "      <td>0.000000e+00</td>\n",
       "    </tr>\n",
       "    <tr>\n",
       "      <th>PCE</th>\n",
       "      <td>1.086944e-322</td>\n",
       "    </tr>\n",
       "    <tr>\n",
       "      <th>AQI</th>\n",
       "      <td>2.136816e-226</td>\n",
       "    </tr>\n",
       "  </tbody>\n",
       "</table>\n",
       "</div>"
      ],
      "text/plain": [
       "                          p-values\n",
       "ZHVI                  0.000000e+00\n",
       "Population            0.000000e+00\n",
       "Unemployment          0.000000e+00\n",
       "Percent Bachelors     0.000000e+00\n",
       "Units                 0.000000e+00\n",
       "Total_Households      0.000000e+00\n",
       "Med_income            0.000000e+00\n",
       "Rental Vacancy Rate   0.000000e+00\n",
       "PCE                  1.086944e-322\n",
       "AQI                  2.136816e-226"
      ]
     },
     "execution_count": 111,
     "metadata": {},
     "output_type": "execute_result"
    }
   ],
   "source": [
    "p_values = pd.Series(p_f, index = df2.iloc[:, 4:].columns).sort_values()\n",
    "pd.DataFrame(p_values.head(25), columns = ['p-values'])"
   ]
  },
  {
   "cell_type": "code",
   "execution_count": 112,
   "metadata": {},
   "outputs": [
    {
     "data": {
      "text/html": [
       "<div>\n",
       "<style scoped>\n",
       "    .dataframe tbody tr th:only-of-type {\n",
       "        vertical-align: middle;\n",
       "    }\n",
       "\n",
       "    .dataframe tbody tr th {\n",
       "        vertical-align: top;\n",
       "    }\n",
       "\n",
       "    .dataframe thead th {\n",
       "        text-align: right;\n",
       "    }\n",
       "</style>\n",
       "<table border=\"1\" class=\"dataframe\">\n",
       "  <thead>\n",
       "    <tr style=\"text-align: right;\">\n",
       "      <th></th>\n",
       "      <th>mutual information scores</th>\n",
       "      <th>p_values</th>\n",
       "      <th>coefficients</th>\n",
       "    </tr>\n",
       "  </thead>\n",
       "  <tbody>\n",
       "    <tr>\n",
       "      <th>AQI</th>\n",
       "      <td>0.061494</td>\n",
       "      <td>2.136816e-226</td>\n",
       "      <td>-1.668358</td>\n",
       "    </tr>\n",
       "    <tr>\n",
       "      <th>Med_income</th>\n",
       "      <td>0.218119</td>\n",
       "      <td>0.000000e+00</td>\n",
       "      <td>0.006361</td>\n",
       "    </tr>\n",
       "    <tr>\n",
       "      <th>PCE</th>\n",
       "      <td>0.012461</td>\n",
       "      <td>1.086944e-322</td>\n",
       "      <td>63.603863</td>\n",
       "    </tr>\n",
       "    <tr>\n",
       "      <th>Percent Bachelors</th>\n",
       "      <td>0.468714</td>\n",
       "      <td>0.000000e+00</td>\n",
       "      <td>-2.573306</td>\n",
       "    </tr>\n",
       "    <tr>\n",
       "      <th>Population</th>\n",
       "      <td>0.365119</td>\n",
       "      <td>0.000000e+00</td>\n",
       "      <td>-0.000009</td>\n",
       "    </tr>\n",
       "    <tr>\n",
       "      <th>Rental Vacancy Rate</th>\n",
       "      <td>0.304485</td>\n",
       "      <td>0.000000e+00</td>\n",
       "      <td>-3.590559</td>\n",
       "    </tr>\n",
       "    <tr>\n",
       "      <th>Total_Households</th>\n",
       "      <td>0.375657</td>\n",
       "      <td>0.000000e+00</td>\n",
       "      <td>0.000061</td>\n",
       "    </tr>\n",
       "    <tr>\n",
       "      <th>Unemployment</th>\n",
       "      <td>0.050309</td>\n",
       "      <td>0.000000e+00</td>\n",
       "      <td>7.182334</td>\n",
       "    </tr>\n",
       "    <tr>\n",
       "      <th>Units</th>\n",
       "      <td>0.166772</td>\n",
       "      <td>0.000000e+00</td>\n",
       "      <td>0.032709</td>\n",
       "    </tr>\n",
       "    <tr>\n",
       "      <th>ZHVI</th>\n",
       "      <td>0.888186</td>\n",
       "      <td>0.000000e+00</td>\n",
       "      <td>0.001476</td>\n",
       "    </tr>\n",
       "  </tbody>\n",
       "</table>\n",
       "</div>"
      ],
      "text/plain": [
       "                     mutual information scores       p_values  coefficients\n",
       "AQI                                   0.061494  2.136816e-226     -1.668358\n",
       "Med_income                            0.218119   0.000000e+00      0.006361\n",
       "PCE                                   0.012461  1.086944e-322     63.603863\n",
       "Percent Bachelors                     0.468714   0.000000e+00     -2.573306\n",
       "Population                            0.365119   0.000000e+00     -0.000009\n",
       "Rental Vacancy Rate                   0.304485   0.000000e+00     -3.590559\n",
       "Total_Households                      0.375657   0.000000e+00      0.000061\n",
       "Unemployment                          0.050309   0.000000e+00      7.182334\n",
       "Units                                 0.166772   0.000000e+00      0.032709\n",
       "ZHVI                                  0.888186   0.000000e+00      0.001476"
      ]
     },
     "execution_count": 112,
     "metadata": {},
     "output_type": "execute_result"
    }
   ],
   "source": [
    "mutual_score_values = pd.Series(mutual_scores, index = df2.iloc[:, 4:].columns).sort_values(ascending = False)\n",
    "pd.DataFrame({'mutual information scores':mutual_score_values, 'p_values':p_values, 'coefficients':c_values})"
   ]
  },
  {
   "cell_type": "code",
   "execution_count": 113,
   "metadata": {},
   "outputs": [
    {
     "data": {
      "text/plain": [
       "array([ 1.47575942e-03, -1.66835759e+00, -8.88584880e-06,  7.18233412e+00,\n",
       "       -2.57330583e+00,  3.27091477e-02,  6.07732297e-05,  6.36081944e-03,\n",
       "        6.36038627e+01, -3.59055881e+00])"
      ]
     },
     "execution_count": 113,
     "metadata": {},
     "output_type": "execute_result"
    }
   ],
   "source": [
    "regression2.coef_"
   ]
  },
  {
   "cell_type": "markdown",
   "metadata": {},
   "source": [
    " # testing Random Forest model"
   ]
  },
  {
   "cell_type": "code",
   "execution_count": 114,
   "metadata": {},
   "outputs": [
    {
     "data": {
      "text/plain": [
       "RandomForestRegressor(max_features=2, random_state=42)"
      ]
     },
     "execution_count": 114,
     "metadata": {},
     "output_type": "execute_result"
    }
   ],
   "source": [
    "randomForest = ensemble.RandomForestRegressor()\n",
    "randomForest.set_params(random_state=42, n_estimators=100, max_features=2)"
   ]
  },
  {
   "cell_type": "code",
   "execution_count": 115,
   "metadata": {},
   "outputs": [
    {
     "data": {
      "text/plain": [
       "RandomForestRegressor(max_features=2, random_state=42)"
      ]
     },
     "execution_count": 115,
     "metadata": {},
     "output_type": "execute_result"
    }
   ],
   "source": [
    "randomForest.fit(train.iloc[:, 4:], train.iloc[:, 3])"
   ]
  },
  {
   "cell_type": "code",
   "execution_count": 116,
   "metadata": {},
   "outputs": [
    {
     "data": {
      "text/plain": [
       "0.8483873514113822"
      ]
     },
     "execution_count": 116,
     "metadata": {},
     "output_type": "execute_result"
    }
   ],
   "source": [
    "randomForest.score(test.iloc[:, 4:], test.iloc[:, 3])"
   ]
  },
  {
   "cell_type": "code",
   "execution_count": 118,
   "metadata": {},
   "outputs": [
    {
     "data": {
      "text/plain": [
       "array([0.56853782, 0.01217398, 0.0595217 , 0.01746908, 0.06696842,\n",
       "       0.04923219, 0.05263648, 0.09825793, 0.00793436, 0.06726804])"
      ]
     },
     "execution_count": 118,
     "metadata": {},
     "output_type": "execute_result"
    }
   ],
   "source": [
    "randomForest.feature_importances_"
   ]
  },
  {
   "cell_type": "code",
   "execution_count": 119,
   "metadata": {},
   "outputs": [
    {
     "data": {
      "text/html": [
       "<div>\n",
       "<style scoped>\n",
       "    .dataframe tbody tr th:only-of-type {\n",
       "        vertical-align: middle;\n",
       "    }\n",
       "\n",
       "    .dataframe tbody tr th {\n",
       "        vertical-align: top;\n",
       "    }\n",
       "\n",
       "    .dataframe thead th {\n",
       "        text-align: right;\n",
       "    }\n",
       "</style>\n",
       "<table border=\"1\" class=\"dataframe\">\n",
       "  <thead>\n",
       "    <tr style=\"text-align: right;\">\n",
       "      <th></th>\n",
       "      <th>mutual information scores</th>\n",
       "      <th>p_values</th>\n",
       "      <th>coefficients</th>\n",
       "      <th>feature importance</th>\n",
       "    </tr>\n",
       "  </thead>\n",
       "  <tbody>\n",
       "    <tr>\n",
       "      <th>AQI</th>\n",
       "      <td>0.061494</td>\n",
       "      <td>2.136816e-226</td>\n",
       "      <td>-1.668358</td>\n",
       "      <td>0.012174</td>\n",
       "    </tr>\n",
       "    <tr>\n",
       "      <th>Med_income</th>\n",
       "      <td>0.218119</td>\n",
       "      <td>0.000000e+00</td>\n",
       "      <td>0.006361</td>\n",
       "      <td>0.098258</td>\n",
       "    </tr>\n",
       "    <tr>\n",
       "      <th>PCE</th>\n",
       "      <td>0.012461</td>\n",
       "      <td>1.086944e-322</td>\n",
       "      <td>63.603863</td>\n",
       "      <td>0.007934</td>\n",
       "    </tr>\n",
       "    <tr>\n",
       "      <th>Percent Bachelors</th>\n",
       "      <td>0.468714</td>\n",
       "      <td>0.000000e+00</td>\n",
       "      <td>-2.573306</td>\n",
       "      <td>0.066968</td>\n",
       "    </tr>\n",
       "    <tr>\n",
       "      <th>Population</th>\n",
       "      <td>0.365119</td>\n",
       "      <td>0.000000e+00</td>\n",
       "      <td>-0.000009</td>\n",
       "      <td>0.059522</td>\n",
       "    </tr>\n",
       "    <tr>\n",
       "      <th>Rental Vacancy Rate</th>\n",
       "      <td>0.304485</td>\n",
       "      <td>0.000000e+00</td>\n",
       "      <td>-3.590559</td>\n",
       "      <td>0.067268</td>\n",
       "    </tr>\n",
       "    <tr>\n",
       "      <th>Total_Households</th>\n",
       "      <td>0.375657</td>\n",
       "      <td>0.000000e+00</td>\n",
       "      <td>0.000061</td>\n",
       "      <td>0.052636</td>\n",
       "    </tr>\n",
       "    <tr>\n",
       "      <th>Unemployment</th>\n",
       "      <td>0.050309</td>\n",
       "      <td>0.000000e+00</td>\n",
       "      <td>7.182334</td>\n",
       "      <td>0.017469</td>\n",
       "    </tr>\n",
       "    <tr>\n",
       "      <th>Units</th>\n",
       "      <td>0.166772</td>\n",
       "      <td>0.000000e+00</td>\n",
       "      <td>0.032709</td>\n",
       "      <td>0.049232</td>\n",
       "    </tr>\n",
       "    <tr>\n",
       "      <th>ZHVI</th>\n",
       "      <td>0.888186</td>\n",
       "      <td>0.000000e+00</td>\n",
       "      <td>0.001476</td>\n",
       "      <td>0.568538</td>\n",
       "    </tr>\n",
       "  </tbody>\n",
       "</table>\n",
       "</div>"
      ],
      "text/plain": [
       "                     mutual information scores       p_values  coefficients  \\\n",
       "AQI                                   0.061494  2.136816e-226     -1.668358   \n",
       "Med_income                            0.218119   0.000000e+00      0.006361   \n",
       "PCE                                   0.012461  1.086944e-322     63.603863   \n",
       "Percent Bachelors                     0.468714   0.000000e+00     -2.573306   \n",
       "Population                            0.365119   0.000000e+00     -0.000009   \n",
       "Rental Vacancy Rate                   0.304485   0.000000e+00     -3.590559   \n",
       "Total_Households                      0.375657   0.000000e+00      0.000061   \n",
       "Unemployment                          0.050309   0.000000e+00      7.182334   \n",
       "Units                                 0.166772   0.000000e+00      0.032709   \n",
       "ZHVI                                  0.888186   0.000000e+00      0.001476   \n",
       "\n",
       "                     feature importance  \n",
       "AQI                            0.012174  \n",
       "Med_income                     0.098258  \n",
       "PCE                            0.007934  \n",
       "Percent Bachelors              0.066968  \n",
       "Population                     0.059522  \n",
       "Rental Vacancy Rate            0.067268  \n",
       "Total_Households               0.052636  \n",
       "Unemployment                   0.017469  \n",
       "Units                          0.049232  \n",
       "ZHVI                           0.568538  "
      ]
     },
     "execution_count": 119,
     "metadata": {},
     "output_type": "execute_result"
    }
   ],
   "source": [
    "fi_values = pd.Series(randomForest.feature_importances_, index = df2.iloc[:, 4:].columns).sort_values()\n",
    "pd.DataFrame({'mutual information scores':mutual_score_values, 'p_values':p_values, 'coefficients':c_values, 'feature importance':fi_values})"
   ]
  },
  {
   "cell_type": "markdown",
   "metadata": {},
   "source": [
    "# looking at individual zipcodes"
   ]
  },
  {
   "cell_type": "code",
   "execution_count": 185,
   "metadata": {},
   "outputs": [
    {
     "data": {
      "text/plain": [
       "<AxesSubplot:xlabel='Year', ylabel='ZORI'>"
      ]
     },
     "execution_count": 185,
     "metadata": {},
     "output_type": "execute_result"
    },
    {
     "data": {
      "image/png": "[encoded data removed]",
      "text/plain": [
       "<Figure size 432x288 with 1 Axes>"
      ]
     },
     "metadata": {
      "needs_background": "light"
     },
     "output_type": "display_data"
    }
   ],
   "source": [
    "%matplotlib inline\n",
    "df[df['ZipCode']==10028].plot.scatter(x='Year',y='ZORI')"
   ]
  },
  {
   "cell_type": "code",
   "execution_count": 186,
   "metadata": {},
   "outputs": [
    {
     "name": "stdout",
     "output_type": "stream",
     "text": [
      "4382.707127552461 [-4.60697064e+01 -1.26074280e-03  4.73980040e-03  3.16956276e+01] 0.8158675624109685\n"
     ]
    }
   ],
   "source": [
    "#linear regression for individual zipcode using features linear with time\n",
    "r1 = LinearRegression()\n",
    "y1 = df[df['ZipCode']==10028]['ZORI']\n",
    "x1 = df[df['ZipCode']==10028][['Unemployment','Population','Med_income','PCE']]\n",
    "r1.fit(x1, y1)\n",
    "print(r1.intercept_, r1.coef_, r1.score(x1,y1))"
   ]
  },
  {
   "cell_type": "code",
   "execution_count": 187,
   "metadata": {},
   "outputs": [],
   "source": [
    "#try same fit on entire data set\n",
    "df3 = df2[['Year', 'Month','ZipCode','ZORI','Population','Unemployment','Med_income','PCE']]"
   ]
  },
  {
   "cell_type": "code",
   "execution_count": 188,
   "metadata": {},
   "outputs": [
    {
     "data": {
      "text/plain": [
       "0.3602486220390799"
      ]
     },
     "execution_count": 188,
     "metadata": {},
     "output_type": "execute_result"
    }
   ],
   "source": [
    "r3 = LinearRegression()\n",
    "r3.fit(df3.iloc[:, 4:], df3.iloc[:, 3])\n",
    "r3.score(df3.iloc[:, 4:], df3.iloc[:, 3])"
   ]
  }
 ],
 "metadata": {
  "kernelspec": {
   "display_name": "Python 3",
   "language": "python",
   "name": "python3"
  },
  "language_info": {
   "codemirror_mode": {
    "name": "ipython",
    "version": 3
   },
   "file_extension": ".py",
   "mimetype": "text/x-python",
   "name": "python",
   "nbconvert_exporter": "python",
   "pygments_lexer": "ipython3",
   "version": "3.7.7"
  }
 },
 "nbformat": 4,
 "nbformat_minor": 4
}
