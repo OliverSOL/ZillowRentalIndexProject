{
 "cells": [
  {
   "cell_type": "code",
   "execution_count": 2,
   "metadata": {},
   "outputs": [],
   "source": [
    "import numpy as np\n",
    "import pandas as pd\n",
    "from uszipcode import SearchEngine\n",
    "search = SearchEngine(simple_zipcode = True)\n",
    "import us_state_abbrev\n",
    "statedict = us_state_abbrev.us_state_abbrev"
   ]
  },
  {
   "cell_type": "markdown",
   "metadata": {},
   "source": [
    "## Zillow Rental Index Processing"
   ]
  },
  {
   "cell_type": "code",
   "execution_count": 2,
   "metadata": {},
   "outputs": [],
   "source": [
    "zori = pd.read_csv('./data/Zip_ZORI_AllHomesPlusMultifamily_SSA.csv')\n",
    "zori = pd.concat([zori['RegionName'], zori.iloc[:, 4:]], axis = 1)\n",
    "zori['County'] = zori['RegionName'].apply(lambda zipcode: search.by_zipcode(zipcode).values()[5][:-7]\\\n",
    "                                              if search.by_zipcode(zipcode).values()[5] is not None else 'NA')\n",
    "zori['State'] = zori['RegionName'].apply(lambda zipcode: search.by_zipcode(zipcode).values()[6]\\\n",
    "                                              if search.by_zipcode(zipcode).values()[6] is not None else 'NA')\n",
    "zori = pd.concat([zori[['RegionName', 'County', 'State']], zori.iloc[:, 2:-3]], axis = 1)\n",
    "zori.columns = zori.columns.str.replace('RegionName', 'ZipCode')"
   ]
  },
  {
   "cell_type": "code",
   "execution_count": 3,
   "metadata": {},
   "outputs": [],
   "source": [
    "temp1 = zori.iloc[:, :3].iloc[np.arange(zori.shape[0]).repeat(zori.iloc[:, 3:].shape[1])].reset_index().drop('index',\n",
    "                                                                                                             axis = 1)\n",
    "temp2 = pd.melt(zori.iloc[:, 3:].T.reset_index(), id_vars = 'index').drop('variable', axis = 1)\n",
    "temp2.columns = ['Date', 'ZORI']\n",
    "temp2['Year'] = temp2['Date'].map(lambda date: int(date[:4]))\n",
    "temp2['Month'] = temp2['Date'].map(lambda date: int(date[-2:]))\n",
    "temp2['Year_Month'] = temp2['Year'].map(str) + '_' + temp2['Month'].map(str)\n",
    "temp2.drop('Date', axis = 1, inplace = True)\n",
    "zori = pd.concat([temp1, temp2], axis = 1)"
   ]
  },
  {
   "cell_type": "code",
   "execution_count": 58,
   "metadata": {},
   "outputs": [],
   "source": [
    "zori.to_csv('./data/cleandata/clean_zori.csv')"
   ]
  },
  {
   "cell_type": "markdown",
   "metadata": {},
   "source": [
    "## Zillow Home Value Index Processing"
   ]
  },
  {
   "cell_type": "code",
   "execution_count": 4,
   "metadata": {},
   "outputs": [],
   "source": [
    "zhvi = pd.read_csv('./data/Zip_zhvi_uc_sfrcondo_tier_0.33_0.67_sm_sa_mon.csv')\n",
    "zhvi['CountyName'] = zhvi['CountyName'].map(lambda county: county[:-7] if county[-6:] == 'County' else county)\n",
    "zhvi = pd.concat([zhvi[['RegionName', 'CountyName', 'State']], zhvi.iloc[:, 9:]], axis = 1)\n",
    "zhvi.columns = zhvi.columns.str.replace('RegionName', 'ZipCode')\n",
    "zhvi.columns = zhvi.columns.str.replace('CountyName', 'County')"
   ]
  },
  {
   "cell_type": "code",
   "execution_count": 5,
   "metadata": {},
   "outputs": [],
   "source": [
    "temp1 = zhvi.iloc[:, :3].iloc[np.arange(zhvi.shape[0]).repeat(zhvi.iloc[:, 3:].shape[1])].reset_index().drop('index',\n",
    "                                                                                                             axis = 1)\n",
    "temp2 = pd.melt(zhvi.iloc[:, 3:].T.reset_index(), id_vars = 'index').drop('variable', axis = 1)\n",
    "temp2.columns = ['Date', 'ZHVI']\n",
    "temp2['Year'] = temp2['Date'].map(lambda date: int(date[:4]))\n",
    "temp2['Month'] = temp2['Date'].map(lambda date: int(date[5:7]))\n",
    "temp2['Year_Month'] = temp2['Year'].map(str) + '_' + temp2['Month'].map(str)\n",
    "temp2.drop('Date', axis = 1, inplace = True)\n",
    "zhvi = pd.concat([temp1, temp2], axis = 1)"
   ]
  },
  {
   "cell_type": "code",
   "execution_count": 59,
   "metadata": {},
   "outputs": [],
   "source": [
    "zhvi.to_csv('./data/cleandata/clean_zhvi.csv')"
   ]
  },
  {
   "cell_type": "markdown",
   "metadata": {},
   "source": [
    "## Air Quality Index Data Processing"
   ]
  },
  {
   "cell_type": "code",
   "execution_count": 6,
   "metadata": {},
   "outputs": [],
   "source": [
    "def airqcompiler(start, end):\n",
    "    \"\"\"Compiles air quality index csv files from 'start' to 'end' into 1 clean dataframe\"\"\"\n",
    "    final = pd.DataFrame()\n",
    "    for i in range(start, end + 1):\n",
    "        temp = pd.read_csv(f'./data/daily_aqi_by_county_{i}/daily_aqi_by_county_{i}.csv')[['county Name', 'State Name',\n",
    "                                                                                    'Date', 'AQI']]\n",
    "        temp['State Name'] = temp['State Name'].apply(lambda state: statedict.get(state))\n",
    "        temp.columns = temp.columns.str.replace('county Name', 'County')\n",
    "        temp.columns = temp.columns.str.replace('State Name', 'State')\n",
    "        temp['Date'] = temp['Date'].apply(lambda date: pd.to_datetime(date, format = '%Y-%m-%d'))\n",
    "        temp['Month'] = temp['Date'].apply(lambda date: date.month)\n",
    "        temp['Year'] = temp['Date'].apply(lambda date: date.year)\n",
    "        temp['Year_Month'] = temp['Year'].map(str) + '_' + temp['Month'].map(str)\n",
    "        temp = temp.groupby(['County', 'State', 'Year', 'Month', 'Year_Month']).mean().reset_index()\n",
    "        final = pd.concat([final, temp], axis = 0)\n",
    "        print(f'Finished compiling year {i}.')\n",
    "    return final"
   ]
  },
  {
   "cell_type": "code",
   "execution_count": 7,
   "metadata": {},
   "outputs": [
    {
     "name": "stdout",
     "output_type": "stream",
     "text": [
      "Finished compiling year 2014.\n",
      "Finished compiling year 2015.\n",
      "Finished compiling year 2016.\n",
      "Finished compiling year 2017.\n",
      "Finished compiling year 2018.\n",
      "Finished compiling year 2019.\n",
      "Finished compiling year 2020.\n"
     ]
    }
   ],
   "source": [
    "airq = airqcompiler(2014, 2020)"
   ]
  },
  {
   "cell_type": "code",
   "execution_count": 61,
   "metadata": {},
   "outputs": [],
   "source": [
    "airq.to_csv('./data/cleandata/clean_airq.csv')"
   ]
  },
  {
   "cell_type": "markdown",
   "metadata": {},
   "source": [
    "## Population Data Processing"
   ]
  },
  {
   "cell_type": "code",
   "execution_count": 8,
   "metadata": {},
   "outputs": [],
   "source": [
    "def popcompiler(start, end):\n",
    "    \"\"\"Compiles population csv files from 'start' to 'end' into 1 clean dataframe\"\"\"\n",
    "    final = pd.DataFrame()\n",
    "    for i in range(start, end + 1):\n",
    "        temp = pd.read_csv(f'./data/productDownload_2020-12-09T144241/ACSDT1Y{i}.B01003_data.csv', header = 1)\n",
    "        temp = temp[['Geographic Area Name', 'Estimate!!Total']]\n",
    "        temp.columns = ['County', 'Population']\n",
    "        temp['State'] = temp['County'].apply(lambda county: statedict.get(county[(county.find(',') + 2):]))\n",
    "        temp['County'] = temp['County'].apply(lambda county: county[:(county.find('County') - 1)] if 'County'\\\n",
    "                                              in county else (county[:(county.find('Municipio') - 1)] if 'Municipio'\\\n",
    "                                                             in county else county))\n",
    "        temp['Year'] = [i for x in range(temp.shape[0])]\n",
    "        final = pd.concat([final, temp], axis = 0)\n",
    "    return final"
   ]
  },
  {
   "cell_type": "code",
   "execution_count": 154,
   "metadata": {},
   "outputs": [],
   "source": [
    "# Clean up the population dataframe further and linearly extrapolate the yearly data into monthly\n",
    "temp = popcompiler(2012, 2019)\n",
    "population = pd.DataFrame()\n",
    "for (_, _), df in temp.groupby(['County', 'State']): \n",
    "    df['Change'] = df['Population'].diff() / df['Population'].shift()\n",
    "    df = df.iloc[np.arange(df.shape[0]).repeat(12)].reset_index().drop('index', axis = 1)\n",
    "    df = pd.concat([df, pd.DataFrame(list(range(1, 13)) * int(df.shape[0] / 12), columns = ['Month'])], axis = 1)\n",
    "    for year in pd.unique(df['Year'])[1:]:\n",
    "        df.loc[df['Year'] == year, 'Population'] = np.array(df.loc[df['Year'] == (year - 1), 'Population']) * \\\n",
    "                                                   np.array((((1 + df.loc[df['Year'] == year, 'Change']) ** (1/12)) ** \\\n",
    "                                                               df.loc[df['Year'] == year, 'Month']))\n",
    "    df = df[df['Year'] != 2012]\n",
    "    df['Year_Month'] = df['Year'].map(str) + '_' + df['Month'].map(str)\n",
    "    df = df[['County', 'State', 'Year', 'Month', 'Year_Month', 'Population']]\n",
    "    population = pd.concat([population, df], axis = 0)"
   ]
  },
  {
   "cell_type": "code",
   "execution_count": 156,
   "metadata": {},
   "outputs": [],
   "source": [
    "population.to_csv('./data/cleandata/clean_population.csv')"
   ]
  },
  {
   "cell_type": "markdown",
   "metadata": {},
   "source": [
    "## Unemployment Data Processing"
   ]
  },
  {
   "cell_type": "code",
   "execution_count": 151,
   "metadata": {},
   "outputs": [],
   "source": [
    "# Clean up the unemployment dataframe\n",
    "unemployment = pd.read_csv('./data/US_unemployment.csv', index_col = 0)\n",
    "unemployment = unemployment[~unemployment['County'].isnull()]\n",
    "unemployment['County'] = unemployment['County'] + ', ' + unemployment['State']\n",
    "unemployment.drop('State', axis = 1, inplace = True)\n",
    "unemployment = unemployment.T\n",
    "unemployment.columns = unemployment.iloc[0, :]\n",
    "unemployment = unemployment.iloc[1:, :]\n",
    "unemployment.reset_index(inplace = True)\n",
    "unemployment.columns.name = None\n",
    "unemployment['Year'] = unemployment['index'].map(lambda year: int(year[-4:]))\n",
    "unemployment = pd.concat([unemployment, pd.DataFrame(list(range(1, 13)) * int(unemployment.shape[0] / 12),\n",
    "                                                     columns = ['Month'])], axis = 1)\n",
    "unemployment['Year_Month'] = unemployment['Year'].map(str) + '_' + unemployment['Month'].map(str)\n",
    "unemployment.drop('index', axis = 1, inplace = True)\n",
    "temp = pd.DataFrame()\n",
    "for county in unemployment.columns[:-3].to_list():\n",
    "    temp2 = unemployment[[county, 'Year', 'Month', 'Year_Month']]\n",
    "    temp2 = temp2.assign(County = temp2.columns[0])\n",
    "    temp2.columns = ['Unemployment', 'Year', 'Month', 'Year_Month', 'County']\n",
    "    temp = pd.concat([temp, temp2], axis = 0)\n",
    "unemployment = temp\n",
    "unemployment['State'] = unemployment['County'].map(lambda county: county[-2:])\n",
    "unemployment['County'] = unemployment['County'].map(lambda county: county[:county.find(',')])\n",
    "unemployment['Unemployment'] = unemployment['Unemployment'].map(lambda x: str(x)[:str(x).find('(')]\\\n",
    "                                                                if str(x).find('(') != -1 else str(x))\n",
    "unemployment['Unemployment'] = unemployment['Unemployment'].map(lambda x: float(x) if (x != ' ')\\\n",
    "                                                                & (x != 'No Data Available ') else None)"
   ]
  },
  {
   "cell_type": "code",
   "execution_count": 153,
   "metadata": {},
   "outputs": [],
   "source": [
    "unemployment.to_csv('./data/cleandata/clean_unemployment.csv')"
   ]
  },
  {
   "cell_type": "markdown",
   "metadata": {},
   "source": [
    "## Education Data Processing"
   ]
  },
  {
   "cell_type": "code",
   "execution_count": 11,
   "metadata": {},
   "outputs": [],
   "source": [
    "education = pd.read_csv('./data/US_education.csv').drop('Unnamed: 0', axis = 1)\n",
    "education = education[education['County'] != 'United States']\n",
    "education['County'] = education['County'].apply(lambda county: county[:(county.find('County') - 1)] if 'County'\\\n",
    "                                              in county else (county[:(county.find('Municipio') - 1)] if 'Municipio'\\\n",
    "                                                             in county else county))\n",
    "education.loc[education['State'] == 'District of Columbia', 'State'] = 'District Of Columbia'\n",
    "education['State'] = education['State'].map(lambda state: statedict.get(state))"
   ]
  },
  {
   "cell_type": "code",
   "execution_count": 65,
   "metadata": {},
   "outputs": [],
   "source": [
    "education.to_csv('./data/cleandata/clean_education.csv')"
   ]
  },
  {
   "cell_type": "markdown",
   "metadata": {},
   "source": [
    "## Permits Data Processing"
   ]
  },
  {
   "cell_type": "code",
   "execution_count": 19,
   "metadata": {},
   "outputs": [],
   "source": [
    "permits = pd.read_csv('./data/US_permits.csv').drop('Unnamed: 0', axis = 1)\n",
    "month_to_number = {'January' : 1, 'February' : 2, 'March' : 3, 'April' : 4, 'May' : 5, 'June' : 6, 'July' : 7, \n",
    "                   'August' : 8, 'September' : 9, 'October' : 10, 'November' : 11, 'December' : 12}\n",
    "permits['Month'] = permits['Month'].map(lambda month: month_to_number.get(month))\n",
    "permits['Year_Month'] = permits['Year'].map(str) + '_' + permits['Month'].map(str)\n",
    "temp = permits[permits['State'] == 'MN'].groupby(['Year', 'Month', 'Year_Month', 'State']).sum().reset_index()\n",
    "permits = permits[permits['State'] != 'MN']\n",
    "permits = pd.concat([permits, temp], axis = 0)\n",
    "permits.reset_index().drop('index', axis = 1, inplace = True)"
   ]
  },
  {
   "cell_type": "code",
   "execution_count": 20,
   "metadata": {},
   "outputs": [],
   "source": [
    "permits.to_csv('./data/cleandata/clean_permits.csv')"
   ]
  },
  {
   "cell_type": "markdown",
   "metadata": {},
   "source": [
    "## Median Income and Total Households Data Processing"
   ]
  },
  {
   "cell_type": "code",
   "execution_count": 3,
   "metadata": {},
   "outputs": [],
   "source": [
    "IandH = pd.read_csv('./data/income_and_households.csv').drop('Unnamed: 0', axis = 1)\n",
    "IandH['County'] = IandH['County'].apply(lambda county: county[:(county.find('County') - 1)] if 'County'\\\n",
    "                                        in county else (county[:(county.find('Municipio') - 1)] if 'Municipio'\\\n",
    "                                                        in county else county))\n",
    "IandH['Year_Month'] = IandH['Year'].map(str) + '_' + IandH['Month'].map(str)"
   ]
  },
  {
   "cell_type": "code",
   "execution_count": 4,
   "metadata": {},
   "outputs": [],
   "source": [
    "IandH.to_csv('./data/cleandata/clean_IandH.csv')"
   ]
  },
  {
   "cell_type": "markdown",
   "metadata": {},
   "source": [
    "## Inflation Data Processing"
   ]
  },
  {
   "cell_type": "code",
   "execution_count": 14,
   "metadata": {},
   "outputs": [],
   "source": [
    "pce = pd.read_excel('./data/underlying-inflation-dashboard-data.xlsx', sheet_name = 'PCE')\n",
    "pce['Year'] = pce['Date'].map(lambda date: date.year)\n",
    "pce['Month'] = pce['Date'].map(lambda date: date.month)\n",
    "pce.drop('Date', axis = 1, inplace = True)\n",
    "pce['Year_Month'] = pce['Year'].map(str) + '_' + pce['Month'].map(str)\n",
    "pce = pce[~pce['PCE'].isnull()]"
   ]
  },
  {
   "cell_type": "code",
   "execution_count": 68,
   "metadata": {},
   "outputs": [],
   "source": [
    "pce.to_csv('./data/cleandata/clean_pce.csv')"
   ]
  },
  {
   "cell_type": "markdown",
   "metadata": {},
   "source": [
    "## Vacancy Data Processing"
   ]
  },
  {
   "cell_type": "code",
   "execution_count": 11,
   "metadata": {},
   "outputs": [],
   "source": [
    "vacancy = pd.read_csv('./data/vacancy.csv').drop('Unnamed: 0', axis = 1)\n",
    "vacancy.columns = ['Year', 'County', 'State', 'Rental Vacancy Rate']\n",
    "vacancy.to_csv('./data/cleandata/clean_vacancy.csv')"
   ]
  },
  {
   "cell_type": "markdown",
   "metadata": {},
   "source": [
    "## Unemployment "
   ]
  }
 ],
 "metadata": {
  "kernelspec": {
   "display_name": "Python 3",
   "language": "python",
   "name": "python3"
  },
  "language_info": {
   "codemirror_mode": {
    "name": "ipython",
    "version": 3
   },
   "file_extension": ".py",
   "mimetype": "text/x-python",
   "name": "python",
   "nbconvert_exporter": "python",
   "pygments_lexer": "ipython3",
   "version": "3.7.7"
  }
 },
 "nbformat": 4,
 "nbformat_minor": 4
}
