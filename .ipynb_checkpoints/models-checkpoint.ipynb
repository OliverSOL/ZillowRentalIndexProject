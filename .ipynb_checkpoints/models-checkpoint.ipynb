{
 "cells": [
  {
   "cell_type": "code",
   "execution_count": 1,
   "metadata": {},
   "outputs": [],
   "source": [
    "import numpy as np\n",
    "import pandas as pd\n",
    "from sklearn.linear_model import LinearRegression\n",
    "from sklearn.model_selection import cross_validate\n",
    "from sklearn.metrics import r2_score\n",
    "from sklearn import ensemble\n",
    "from sklearn.model_selection import GridSearchCV"
   ]
  },
  {
   "cell_type": "markdown",
   "metadata": {},
   "source": [
    "## Pull CSV Files"
   ]
  },
  {
   "cell_type": "code",
   "execution_count": 2,
   "metadata": {},
   "outputs": [],
   "source": [
    "zori = pd.read_csv('./data/cleandata/clean_zori.csv').drop('Unnamed: 0', axis = 1)\n",
    "hpi = pd.read_csv('./data/cleandata/clean_hpi.csv').drop('Unnamed: 0', axis = 1)\n",
    "zhvi = pd.read_csv('./data/cleandata/clean_zhvi.csv').drop('Unnamed: 0', axis = 1)\n",
    "airq = pd.read_csv('./data/cleandata/clean_airq.csv').drop('Unnamed: 0', axis = 1)\n",
    "population = pd.read_csv('./data/cleandata/clean_population.csv').drop('Unnamed: 0', axis = 1)\n",
    "unemployment = pd.read_csv('./data/cleandata/clean_unemployment.csv').drop('Unnamed: 0', axis = 1)\n",
    "education = pd.read_csv('./data/cleandata/clean_education.csv').drop('Unnamed: 0', axis = 1)\n",
    "permits = pd.read_csv('./data/cleandata/clean_permits.csv').drop('Unnamed: 0', axis = 1)\n",
    "IandH = pd.read_csv('./data/cleandata/clean_IandH.csv').drop('Unnamed: 0', axis = 1)\n",
    "pce = pd.read_csv('./data/cleandata/clean_pce.csv').drop('Unnamed: 0', axis = 1)\n",
    "vacancy = pd.read_csv('./data/cleandata/clean_vacancy.csv').drop('Unnamed: 0', axis = 1)\n",
    "jobs = pd.read_csv('./data/cleandata/clean_jos.csv').drop('Unnamed: 0', axis = 1)"
   ]
  },
  {
   "cell_type": "markdown",
   "metadata": {},
   "source": [
    "## Intermediate Matrices for Merging Dataframes before Training"
   ]
  },
  {
   "cell_type": "code",
   "execution_count": 3,
   "metadata": {},
   "outputs": [],
   "source": [
    "one_year_forecast = zori[['Year', 'Month', 'Year_Month']]\n",
    "one_year_forecast = pd.concat([one_year_forecast, pd.DataFrame(one_year_forecast['Year'].map(lambda year: year - 1))], \n",
    "                             axis = 1)\n",
    "one_year_forecast.columns = ['Year', 'Month', 'Year_Month', 'Year2']\n",
    "one_year_forecast = pd.concat([one_year_forecast, pd.DataFrame(one_year_forecast['Year'].map(lambda year: year - 2))], \n",
    "                             axis = 1)\n",
    "one_year_forecast.columns = ['Year', 'Month', 'Year_Month', 'Year2', 'Year3']\n",
    "one_year_forecast['Year_Month2'] = one_year_forecast['Year2'].map(str) + '_' + one_year_forecast['Month'].map(str)\n",
    "one_year_forecast['Year_Month3'] = one_year_forecast['Year3'].map(str) + '_' + one_year_forecast['Month'].map(str)\n",
    "one_year_forecast = one_year_forecast[['Year_Month', 'Year_Month2', 'Year_Month3']]\n",
    "one_year_forecast.drop_duplicates(inplace = True)"
   ]
  },
  {
   "cell_type": "code",
   "execution_count": 4,
   "metadata": {},
   "outputs": [
    {
     "data": {
      "text/html": [
       "<div>\n",
       "<style scoped>\n",
       "    .dataframe tbody tr th:only-of-type {\n",
       "        vertical-align: middle;\n",
       "    }\n",
       "\n",
       "    .dataframe tbody tr th {\n",
       "        vertical-align: top;\n",
       "    }\n",
       "\n",
       "    .dataframe thead th {\n",
       "        text-align: right;\n",
       "    }\n",
       "</style>\n",
       "<table border=\"1\" class=\"dataframe\">\n",
       "  <thead>\n",
       "    <tr style=\"text-align: right;\">\n",
       "      <th></th>\n",
       "      <th>Year_Month</th>\n",
       "      <th>Year_Month2</th>\n",
       "      <th>Year_Month3</th>\n",
       "    </tr>\n",
       "  </thead>\n",
       "  <tbody>\n",
       "    <tr>\n",
       "      <th>0</th>\n",
       "      <td>2014_2</td>\n",
       "      <td>2013_2</td>\n",
       "      <td>2012_2</td>\n",
       "    </tr>\n",
       "    <tr>\n",
       "      <th>1</th>\n",
       "      <td>2014_3</td>\n",
       "      <td>2013_3</td>\n",
       "      <td>2012_3</td>\n",
       "    </tr>\n",
       "    <tr>\n",
       "      <th>2</th>\n",
       "      <td>2014_4</td>\n",
       "      <td>2013_4</td>\n",
       "      <td>2012_4</td>\n",
       "    </tr>\n",
       "    <tr>\n",
       "      <th>3</th>\n",
       "      <td>2014_5</td>\n",
       "      <td>2013_5</td>\n",
       "      <td>2012_5</td>\n",
       "    </tr>\n",
       "    <tr>\n",
       "      <th>4</th>\n",
       "      <td>2014_6</td>\n",
       "      <td>2013_6</td>\n",
       "      <td>2012_6</td>\n",
       "    </tr>\n",
       "    <tr>\n",
       "      <th>...</th>\n",
       "      <td>...</td>\n",
       "      <td>...</td>\n",
       "      <td>...</td>\n",
       "    </tr>\n",
       "    <tr>\n",
       "      <th>75</th>\n",
       "      <td>2020_5</td>\n",
       "      <td>2019_5</td>\n",
       "      <td>2018_5</td>\n",
       "    </tr>\n",
       "    <tr>\n",
       "      <th>76</th>\n",
       "      <td>2020_6</td>\n",
       "      <td>2019_6</td>\n",
       "      <td>2018_6</td>\n",
       "    </tr>\n",
       "    <tr>\n",
       "      <th>77</th>\n",
       "      <td>2020_7</td>\n",
       "      <td>2019_7</td>\n",
       "      <td>2018_7</td>\n",
       "    </tr>\n",
       "    <tr>\n",
       "      <th>78</th>\n",
       "      <td>2020_8</td>\n",
       "      <td>2019_8</td>\n",
       "      <td>2018_8</td>\n",
       "    </tr>\n",
       "    <tr>\n",
       "      <th>79</th>\n",
       "      <td>2020_9</td>\n",
       "      <td>2019_9</td>\n",
       "      <td>2018_9</td>\n",
       "    </tr>\n",
       "  </tbody>\n",
       "</table>\n",
       "<p>80 rows × 3 columns</p>\n",
       "</div>"
      ],
      "text/plain": [
       "   Year_Month Year_Month2 Year_Month3\n",
       "0      2014_2      2013_2      2012_2\n",
       "1      2014_3      2013_3      2012_3\n",
       "2      2014_4      2013_4      2012_4\n",
       "3      2014_5      2013_5      2012_5\n",
       "4      2014_6      2013_6      2012_6\n",
       "..        ...         ...         ...\n",
       "75     2020_5      2019_5      2018_5\n",
       "76     2020_6      2019_6      2018_6\n",
       "77     2020_7      2019_7      2018_7\n",
       "78     2020_8      2019_8      2018_8\n",
       "79     2020_9      2019_9      2018_9\n",
       "\n",
       "[80 rows x 3 columns]"
      ]
     },
     "execution_count": 4,
     "metadata": {},
     "output_type": "execute_result"
    }
   ],
   "source": [
    "one_year_forecast"
   ]
  },
  {
   "cell_type": "markdown",
   "metadata": {},
   "source": [
    "## Final Dataframe for Training"
   ]
  },
  {
   "cell_type": "code",
   "execution_count": 5,
   "metadata": {},
   "outputs": [],
   "source": [
    "df = zori[zori['ZORI'] <= 4000]\n",
    "df = pd.merge(df, one_year_forecast, on = 'Year_Month')\n",
    "df = pd.merge(df, zori[['Year_Month', 'ZipCode', 'ZORI']], left_on = ['Year_Month2', 'ZipCode'],\n",
    "              right_on = ['Year_Month', 'ZipCode'], how = 'left')\n",
    "df.drop('Year_Month_y', axis = 1, inplace = True)"
   ]
  },
  {
   "cell_type": "code",
   "execution_count": 6,
   "metadata": {},
   "outputs": [],
   "source": [
    "df = pd.merge(df, zhvi[['Year_Month', 'ZipCode', 'ZHVI']], left_on = ['Year_Month2', 'ZipCode'],\n",
    "              right_on = ['Year_Month', 'ZipCode'], how = 'left')\n",
    "df.drop('Year_Month', axis = 1, inplace = True)"
   ]
  },
  {
   "cell_type": "code",
   "execution_count": 7,
   "metadata": {},
   "outputs": [],
   "source": [
    "df = pd.merge(df, hpi[['Year_Month', 'ZipCode', 'HPI']], left_on = ['Year_Month3', 'ZipCode'],\n",
    "              right_on = ['Year_Month', 'ZipCode'], how = 'left')\n",
    "df.drop('Year_Month', axis = 1, inplace = True)"
   ]
  },
  {
   "cell_type": "code",
   "execution_count": 8,
   "metadata": {},
   "outputs": [],
   "source": [
    "df = pd.merge(df, airq[['County', 'State', 'Year_Month', 'AQI']], left_on = ['County', 'State', 'Year_Month2'],\n",
    "              right_on = ['County', 'State', 'Year_Month'], how = 'left')\n",
    "df.drop('Year_Month', axis = 1, inplace = True)"
   ]
  },
  {
   "cell_type": "code",
   "execution_count": 9,
   "metadata": {},
   "outputs": [],
   "source": [
    "df = pd.merge(df, population[['County', 'State', 'Year_Month', 'Population']], \n",
    "              left_on = ['County', 'State', 'Year_Month3'], right_on = ['County', 'State', 'Year_Month'], how = 'left')\n",
    "df.drop('Year_Month', axis = 1, inplace = True)"
   ]
  },
  {
   "cell_type": "code",
   "execution_count": 10,
   "metadata": {},
   "outputs": [],
   "source": [
    "df = pd.merge(df, unemployment[['County', 'State', 'Year_Month', 'Unemployment']], \n",
    "             left_on = ['County', 'State', 'Year_Month2'], right_on = ['County', 'State', 'Year_Month'], how = 'left')\n",
    "df.drop('Year_Month', axis = 1, inplace = True)"
   ]
  },
  {
   "cell_type": "code",
   "execution_count": 11,
   "metadata": {},
   "outputs": [],
   "source": [
    "df['Year2'] = df['Year'] - 1\n",
    "df['Year3'] = df['Year'] - 2\n",
    "df = pd.merge(df, education, left_on = ['County', 'State', 'Year3'], right_on = ['County', 'State', 'Year'], how = 'left')\n",
    "df.drop('Year_y', axis = 1, inplace = True)"
   ]
  },
  {
   "cell_type": "code",
   "execution_count": 12,
   "metadata": {},
   "outputs": [],
   "source": [
    "df = pd.merge(df, permits[['State', 'Units', 'Year_Month']], left_on = ['State', 'Year_Month2'], \n",
    "              right_on = ['State', 'Year_Month'], how = 'left')\n",
    "df.drop('Year_Month', axis = 1, inplace = True)"
   ]
  },
  {
   "cell_type": "code",
   "execution_count": 13,
   "metadata": {},
   "outputs": [],
   "source": [
    "df = pd.merge(df, IandH[['County', 'State', 'Year_Month', 'Total_Households', 'Med_income']], \n",
    "             left_on = ['County', 'State', 'Year_Month3'], right_on = ['County', 'State', 'Year_Month'], how = 'left')\n",
    "df.drop('Year_Month', axis = 1, inplace = True)"
   ]
  },
  {
   "cell_type": "code",
   "execution_count": 14,
   "metadata": {},
   "outputs": [],
   "source": [
    "df = pd.merge(df, pce[['PCE', 'Year_Month']], left_on = 'Year_Month2', right_on = 'Year_Month')\n",
    "df.drop('Year_Month', axis = 1, inplace = True)"
   ]
  },
  {
   "cell_type": "code",
   "execution_count": 15,
   "metadata": {},
   "outputs": [],
   "source": [
    "df = pd.merge(df, vacancy, left_on = ['County', 'State', 'Year3'], right_on = ['County', 'State', 'Year'], how = 'left')\n",
    "df.drop('Year', axis = 1, inplace = True)"
   ]
  },
  {
   "cell_type": "code",
   "execution_count": 16,
   "metadata": {},
   "outputs": [],
   "source": [
    "df = pd.merge(df, jobs[['State', 'Job Openings', 'Year_Month']], left_on = ['State', 'Year_Month2'], \n",
    "              right_on = ['State', 'Year_Month'], how = 'left')\n",
    "df.drop('Year_Month', axis = 1, inplace = True)"
   ]
  },
  {
   "cell_type": "code",
   "execution_count": 17,
   "metadata": {},
   "outputs": [],
   "source": [
    "df = df[['Year_x', 'Month', 'ZipCode', 'ZORI_x', 'ZORI_y', 'ZHVI', 'HPI', 'AQI', 'Population', 'Unemployment', \n",
    "         'Percent Bachelors', 'Units', 'Total_Households', 'Med_income', 'PCE', 'Rental Vacancy Rate', 'Job Openings']]"
   ]
  },
  {
   "cell_type": "code",
   "execution_count": 18,
   "metadata": {},
   "outputs": [],
   "source": [
    "df.columns = ['Year', 'Month', 'ZipCode', 'ZORI', 'ZORI_lagged_1', 'ZHVI_lagged_1', 'HPI_lagged_2', 'AQI_lagged_1',\n",
    "              'Population_lagged_2', 'Unemployment_lagged_1', 'Percent Bachelors_lagged_2', 'Permits_lagged_1',\n",
    "              'Total_Households_lagged_2', 'Med_Income_lagged_2', 'PCE_lagged_1', 'Rental Vacancy Rate_lagged_2',\n",
    "              'Job Openings_lagged_1']"
   ]
  },
  {
   "cell_type": "code",
   "execution_count": 19,
   "metadata": {},
   "outputs": [],
   "source": [
    "df_clean = df.drop('ZORI_lagged_1', axis = 1)"
   ]
  },
  {
   "cell_type": "code",
   "execution_count": 20,
   "metadata": {},
   "outputs": [
    {
     "data": {
      "text/plain": [
       "Year                                0\n",
       "Month                               0\n",
       "ZipCode                             0\n",
       "ZORI                                0\n",
       "ZHVI_lagged_1                    1054\n",
       "HPI_lagged_2                    17192\n",
       "AQI_lagged_1                    19188\n",
       "Population_lagged_2              8690\n",
       "Unemployment_lagged_1            7458\n",
       "Percent Bachelors_lagged_2       8690\n",
       "Permits_lagged_1                   80\n",
       "Total_Households_lagged_2        8690\n",
       "Med_Income_lagged_2              8690\n",
       "PCE_lagged_1                        0\n",
       "Rental Vacancy Rate_lagged_2     8943\n",
       "Job Openings_lagged_1            1445\n",
       "dtype: int64"
      ]
     },
     "execution_count": 20,
     "metadata": {},
     "output_type": "execute_result"
    }
   ],
   "source": [
    "df_clean.isnull().sum(axis = 0) "
   ]
  },
  {
   "cell_type": "code",
   "execution_count": 21,
   "metadata": {},
   "outputs": [],
   "source": [
    "# Dropping all NaN values instead of imputing for simplicity for now\n",
    "df_clean = df_clean[~df_clean['Percent Bachelors_lagged_2'].isnull()]\n",
    "df_clean = df_clean[~df_clean['HPI_lagged_2'].isnull()]\n",
    "df_clean = df_clean[~df_clean['AQI_lagged_1'].isnull()]\n",
    "df_clean = df_clean[~df_clean['ZHVI_lagged_1'].isnull()]\n",
    "df_clean = df_clean[~df_clean['Rental Vacancy Rate_lagged_2'].isnull()]"
   ]
  },
  {
   "cell_type": "code",
   "execution_count": 22,
   "metadata": {},
   "outputs": [
    {
     "data": {
      "text/plain": [
       "Year                            0\n",
       "Month                           0\n",
       "ZipCode                         0\n",
       "ZORI                            0\n",
       "ZHVI_lagged_1                   0\n",
       "HPI_lagged_2                    0\n",
       "AQI_lagged_1                    0\n",
       "Population_lagged_2             0\n",
       "Unemployment_lagged_1           0\n",
       "Percent Bachelors_lagged_2      0\n",
       "Permits_lagged_1                0\n",
       "Total_Households_lagged_2       0\n",
       "Med_Income_lagged_2             0\n",
       "PCE_lagged_1                    0\n",
       "Rental Vacancy Rate_lagged_2    0\n",
       "Job Openings_lagged_1           0\n",
       "dtype: int64"
      ]
     },
     "execution_count": 22,
     "metadata": {},
     "output_type": "execute_result"
    }
   ],
   "source": [
    "df_clean.isnull().sum(axis = 0) "
   ]
  },
  {
   "cell_type": "code",
   "execution_count": 23,
   "metadata": {},
   "outputs": [
    {
     "data": {
      "text/html": [
       "<div>\n",
       "<style scoped>\n",
       "    .dataframe tbody tr th:only-of-type {\n",
       "        vertical-align: middle;\n",
       "    }\n",
       "\n",
       "    .dataframe tbody tr th {\n",
       "        vertical-align: top;\n",
       "    }\n",
       "\n",
       "    .dataframe thead th {\n",
       "        text-align: right;\n",
       "    }\n",
       "</style>\n",
       "<table border=\"1\" class=\"dataframe\">\n",
       "  <thead>\n",
       "    <tr style=\"text-align: right;\">\n",
       "      <th></th>\n",
       "      <th>Year</th>\n",
       "      <th>Month</th>\n",
       "      <th>ZipCode</th>\n",
       "      <th>ZORI</th>\n",
       "      <th>ZHVI_lagged_1</th>\n",
       "      <th>HPI_lagged_2</th>\n",
       "      <th>AQI_lagged_1</th>\n",
       "      <th>Population_lagged_2</th>\n",
       "      <th>Unemployment_lagged_1</th>\n",
       "      <th>Percent Bachelors_lagged_2</th>\n",
       "      <th>Permits_lagged_1</th>\n",
       "      <th>Total_Households_lagged_2</th>\n",
       "      <th>Med_Income_lagged_2</th>\n",
       "      <th>PCE_lagged_1</th>\n",
       "      <th>Rental Vacancy Rate_lagged_2</th>\n",
       "      <th>Job Openings_lagged_1</th>\n",
       "    </tr>\n",
       "  </thead>\n",
       "  <tbody>\n",
       "    <tr>\n",
       "      <th>1</th>\n",
       "      <td>2014</td>\n",
       "      <td>2</td>\n",
       "      <td>60657</td>\n",
       "      <td>1583.0</td>\n",
       "      <td>393330.0</td>\n",
       "      <td>141.503229</td>\n",
       "      <td>53.928571</td>\n",
       "      <td>5.219456e+06</td>\n",
       "      <td>10.2</td>\n",
       "      <td>20.8</td>\n",
       "      <td>155.0</td>\n",
       "      <td>1.920079e+06</td>\n",
       "      <td>51037.342494</td>\n",
       "      <td>1.553716</td>\n",
       "      <td>6.7</td>\n",
       "      <td>149.0</td>\n",
       "    </tr>\n",
       "    <tr>\n",
       "      <th>4</th>\n",
       "      <td>2014</td>\n",
       "      <td>2</td>\n",
       "      <td>60614</td>\n",
       "      <td>1752.0</td>\n",
       "      <td>503651.0</td>\n",
       "      <td>130.588399</td>\n",
       "      <td>53.928571</td>\n",
       "      <td>5.219456e+06</td>\n",
       "      <td>10.2</td>\n",
       "      <td>20.8</td>\n",
       "      <td>155.0</td>\n",
       "      <td>1.920079e+06</td>\n",
       "      <td>51037.342494</td>\n",
       "      <td>1.553716</td>\n",
       "      <td>6.7</td>\n",
       "      <td>149.0</td>\n",
       "    </tr>\n",
       "    <tr>\n",
       "      <th>5</th>\n",
       "      <td>2014</td>\n",
       "      <td>2</td>\n",
       "      <td>77449</td>\n",
       "      <td>1288.0</td>\n",
       "      <td>117563.0</td>\n",
       "      <td>115.806934</td>\n",
       "      <td>48.071429</td>\n",
       "      <td>4.192941e+06</td>\n",
       "      <td>6.3</td>\n",
       "      <td>18.0</td>\n",
       "      <td>4566.0</td>\n",
       "      <td>1.421905e+06</td>\n",
       "      <td>50987.989729</td>\n",
       "      <td>1.553716</td>\n",
       "      <td>10.7</td>\n",
       "      <td>353.0</td>\n",
       "    </tr>\n",
       "    <tr>\n",
       "      <th>7</th>\n",
       "      <td>2014</td>\n",
       "      <td>2</td>\n",
       "      <td>77084</td>\n",
       "      <td>1123.0</td>\n",
       "      <td>120268.0</td>\n",
       "      <td>112.776241</td>\n",
       "      <td>48.071429</td>\n",
       "      <td>4.192941e+06</td>\n",
       "      <td>6.3</td>\n",
       "      <td>18.0</td>\n",
       "      <td>4566.0</td>\n",
       "      <td>1.421905e+06</td>\n",
       "      <td>50987.989729</td>\n",
       "      <td>1.553716</td>\n",
       "      <td>10.7</td>\n",
       "      <td>353.0</td>\n",
       "    </tr>\n",
       "    <tr>\n",
       "      <th>8</th>\n",
       "      <td>2014</td>\n",
       "      <td>2</td>\n",
       "      <td>79936</td>\n",
       "      <td>992.0</td>\n",
       "      <td>116709.0</td>\n",
       "      <td>143.575982</td>\n",
       "      <td>57.285714</td>\n",
       "      <td>8.218877e+05</td>\n",
       "      <td>8.3</td>\n",
       "      <td>14.3</td>\n",
       "      <td>4566.0</td>\n",
       "      <td>2.578420e+05</td>\n",
       "      <td>39700.633106</td>\n",
       "      <td>1.553716</td>\n",
       "      <td>7.0</td>\n",
       "      <td>353.0</td>\n",
       "    </tr>\n",
       "    <tr>\n",
       "      <th>...</th>\n",
       "      <td>...</td>\n",
       "      <td>...</td>\n",
       "      <td>...</td>\n",
       "      <td>...</td>\n",
       "      <td>...</td>\n",
       "      <td>...</td>\n",
       "      <td>...</td>\n",
       "      <td>...</td>\n",
       "      <td>...</td>\n",
       "      <td>...</td>\n",
       "      <td>...</td>\n",
       "      <td>...</td>\n",
       "      <td>...</td>\n",
       "      <td>...</td>\n",
       "      <td>...</td>\n",
       "      <td>...</td>\n",
       "    </tr>\n",
       "    <tr>\n",
       "      <th>247035</th>\n",
       "      <td>2020</td>\n",
       "      <td>9</td>\n",
       "      <td>30288</td>\n",
       "      <td>1253.0</td>\n",
       "      <td>134851.0</td>\n",
       "      <td>88.079328</td>\n",
       "      <td>46.200000</td>\n",
       "      <td>2.823235e+05</td>\n",
       "      <td>3.8</td>\n",
       "      <td>14.4</td>\n",
       "      <td>1059.0</td>\n",
       "      <td>9.380716e+04</td>\n",
       "      <td>44035.999593</td>\n",
       "      <td>1.721905</td>\n",
       "      <td>9.4</td>\n",
       "      <td>229.0</td>\n",
       "    </tr>\n",
       "    <tr>\n",
       "      <th>247037</th>\n",
       "      <td>2020</td>\n",
       "      <td>9</td>\n",
       "      <td>2466</td>\n",
       "      <td>2164.0</td>\n",
       "      <td>960437.0</td>\n",
       "      <td>205.642620</td>\n",
       "      <td>34.066667</td>\n",
       "      <td>1.590017e+06</td>\n",
       "      <td>2.2</td>\n",
       "      <td>28.4</td>\n",
       "      <td>371.0</td>\n",
       "      <td>6.047694e+05</td>\n",
       "      <td>94031.051916</td>\n",
       "      <td>1.721905</td>\n",
       "      <td>2.8</td>\n",
       "      <td>173.0</td>\n",
       "    </tr>\n",
       "    <tr>\n",
       "      <th>247039</th>\n",
       "      <td>2020</td>\n",
       "      <td>9</td>\n",
       "      <td>7732</td>\n",
       "      <td>1607.0</td>\n",
       "      <td>307845.0</td>\n",
       "      <td>198.179098</td>\n",
       "      <td>36.600000</td>\n",
       "      <td>6.237565e+05</td>\n",
       "      <td>3.0</td>\n",
       "      <td>29.7</td>\n",
       "      <td>2475.0</td>\n",
       "      <td>2.350342e+05</td>\n",
       "      <td>94123.195905</td>\n",
       "      <td>1.721905</td>\n",
       "      <td>3.6</td>\n",
       "      <td>191.0</td>\n",
       "    </tr>\n",
       "    <tr>\n",
       "      <th>247041</th>\n",
       "      <td>2020</td>\n",
       "      <td>9</td>\n",
       "      <td>85701</td>\n",
       "      <td>1015.0</td>\n",
       "      <td>273317.0</td>\n",
       "      <td>198.579601</td>\n",
       "      <td>46.033333</td>\n",
       "      <td>1.026470e+06</td>\n",
       "      <td>4.3</td>\n",
       "      <td>18.5</td>\n",
       "      <td>667.0</td>\n",
       "      <td>3.965703e+05</td>\n",
       "      <td>50954.820177</td>\n",
       "      <td>1.721905</td>\n",
       "      <td>6.4</td>\n",
       "      <td>164.0</td>\n",
       "    </tr>\n",
       "    <tr>\n",
       "      <th>247050</th>\n",
       "      <td>2020</td>\n",
       "      <td>9</td>\n",
       "      <td>33306</td>\n",
       "      <td>1517.0</td>\n",
       "      <td>337334.0</td>\n",
       "      <td>194.845959</td>\n",
       "      <td>34.928571</td>\n",
       "      <td>1.907005e+06</td>\n",
       "      <td>2.8</td>\n",
       "      <td>19.8</td>\n",
       "      <td>6613.0</td>\n",
       "      <td>6.882069e+05</td>\n",
       "      <td>55052.073769</td>\n",
       "      <td>1.721905</td>\n",
       "      <td>7.0</td>\n",
       "      <td>431.0</td>\n",
       "    </tr>\n",
       "  </tbody>\n",
       "</table>\n",
       "<p>209901 rows × 16 columns</p>\n",
       "</div>"
      ],
      "text/plain": [
       "        Year  Month  ZipCode    ZORI  ZHVI_lagged_1  HPI_lagged_2  \\\n",
       "1       2014      2    60657  1583.0       393330.0    141.503229   \n",
       "4       2014      2    60614  1752.0       503651.0    130.588399   \n",
       "5       2014      2    77449  1288.0       117563.0    115.806934   \n",
       "7       2014      2    77084  1123.0       120268.0    112.776241   \n",
       "8       2014      2    79936   992.0       116709.0    143.575982   \n",
       "...      ...    ...      ...     ...            ...           ...   \n",
       "247035  2020      9    30288  1253.0       134851.0     88.079328   \n",
       "247037  2020      9     2466  2164.0       960437.0    205.642620   \n",
       "247039  2020      9     7732  1607.0       307845.0    198.179098   \n",
       "247041  2020      9    85701  1015.0       273317.0    198.579601   \n",
       "247050  2020      9    33306  1517.0       337334.0    194.845959   \n",
       "\n",
       "        AQI_lagged_1  Population_lagged_2  Unemployment_lagged_1  \\\n",
       "1          53.928571         5.219456e+06                   10.2   \n",
       "4          53.928571         5.219456e+06                   10.2   \n",
       "5          48.071429         4.192941e+06                    6.3   \n",
       "7          48.071429         4.192941e+06                    6.3   \n",
       "8          57.285714         8.218877e+05                    8.3   \n",
       "...              ...                  ...                    ...   \n",
       "247035     46.200000         2.823235e+05                    3.8   \n",
       "247037     34.066667         1.590017e+06                    2.2   \n",
       "247039     36.600000         6.237565e+05                    3.0   \n",
       "247041     46.033333         1.026470e+06                    4.3   \n",
       "247050     34.928571         1.907005e+06                    2.8   \n",
       "\n",
       "        Percent Bachelors_lagged_2  Permits_lagged_1  \\\n",
       "1                             20.8             155.0   \n",
       "4                             20.8             155.0   \n",
       "5                             18.0            4566.0   \n",
       "7                             18.0            4566.0   \n",
       "8                             14.3            4566.0   \n",
       "...                            ...               ...   \n",
       "247035                        14.4            1059.0   \n",
       "247037                        28.4             371.0   \n",
       "247039                        29.7            2475.0   \n",
       "247041                        18.5             667.0   \n",
       "247050                        19.8            6613.0   \n",
       "\n",
       "        Total_Households_lagged_2  Med_Income_lagged_2  PCE_lagged_1  \\\n",
       "1                    1.920079e+06         51037.342494      1.553716   \n",
       "4                    1.920079e+06         51037.342494      1.553716   \n",
       "5                    1.421905e+06         50987.989729      1.553716   \n",
       "7                    1.421905e+06         50987.989729      1.553716   \n",
       "8                    2.578420e+05         39700.633106      1.553716   \n",
       "...                           ...                  ...           ...   \n",
       "247035               9.380716e+04         44035.999593      1.721905   \n",
       "247037               6.047694e+05         94031.051916      1.721905   \n",
       "247039               2.350342e+05         94123.195905      1.721905   \n",
       "247041               3.965703e+05         50954.820177      1.721905   \n",
       "247050               6.882069e+05         55052.073769      1.721905   \n",
       "\n",
       "        Rental Vacancy Rate_lagged_2  Job Openings_lagged_1  \n",
       "1                                6.7                  149.0  \n",
       "4                                6.7                  149.0  \n",
       "5                               10.7                  353.0  \n",
       "7                               10.7                  353.0  \n",
       "8                                7.0                  353.0  \n",
       "...                              ...                    ...  \n",
       "247035                           9.4                  229.0  \n",
       "247037                           2.8                  173.0  \n",
       "247039                           3.6                  191.0  \n",
       "247041                           6.4                  164.0  \n",
       "247050                           7.0                  431.0  \n",
       "\n",
       "[209901 rows x 16 columns]"
      ]
     },
     "execution_count": 23,
     "metadata": {},
     "output_type": "execute_result"
    }
   ],
   "source": [
    "df_clean"
   ]
  },
  {
   "cell_type": "code",
   "execution_count": 24,
   "metadata": {},
   "outputs": [],
   "source": [
    "train_idx = np.random.choice(range(df_clean.shape[0]), round(df_clean.shape[0] * 0.7), replace = False)"
   ]
  },
  {
   "cell_type": "code",
   "execution_count": 25,
   "metadata": {},
   "outputs": [],
   "source": [
    "train = df_clean.iloc[train_idx, :]\n",
    "test = df_clean.iloc[list(set(range(df_clean.shape[0])) - set(train_idx)), :]"
   ]
  },
  {
   "cell_type": "markdown",
   "metadata": {},
   "source": [
    "## Multiple Linear Regression on ZORI"
   ]
  },
  {
   "cell_type": "code",
   "execution_count": 26,
   "metadata": {},
   "outputs": [
    {
     "data": {
      "text/plain": [
       "0.7436702378242114"
      ]
     },
     "execution_count": 26,
     "metadata": {},
     "output_type": "execute_result"
    }
   ],
   "source": [
    "regression = LinearRegression()\n",
    "regression.fit(train.iloc[:, 4:], train.iloc[:, 3])\n",
    "regression.score(train.iloc[:, 4:], train.iloc[:, 3])"
   ]
  },
  {
   "cell_type": "code",
   "execution_count": 27,
   "metadata": {},
   "outputs": [
    {
     "data": {
      "text/plain": [
       "0.7423574003274593"
      ]
     },
     "execution_count": 27,
     "metadata": {},
     "output_type": "execute_result"
    }
   ],
   "source": [
    "r2_score(test.iloc[:, 3], regression.predict(test.iloc[:, 4:]))"
   ]
  },
  {
   "cell_type": "markdown",
   "metadata": {},
   "source": [
    "## Random Forest Regressor on ZORI"
   ]
  },
  {
   "cell_type": "code",
   "execution_count": 28,
   "metadata": {},
   "outputs": [],
   "source": [
    "randomForest = ensemble.RandomForestRegressor()"
   ]
  },
  {
   "cell_type": "code",
   "execution_count": 29,
   "metadata": {},
   "outputs": [
    {
     "data": {
      "text/plain": [
       "GridSearchCV(cv=5, estimator=RandomForestRegressor(), n_jobs=-1,\n",
       "             param_grid=[{'criterion': ['mse'], 'max_depth': [5],\n",
       "                          'min_samples_leaf': [10], 'min_samples_split': [30],\n",
       "                          'n_estimators': [10], 'random_state': [42]}],\n",
       "             return_train_score=True)"
      ]
     },
     "execution_count": 29,
     "metadata": {},
     "output_type": "execute_result"
    }
   ],
   "source": [
    "grid_para_forest = [{\n",
    "    \"n_estimators\": [10],\n",
    "    \"criterion\": [\"mse\"],\n",
    "    \"min_samples_leaf\": [10],\n",
    "    \"min_samples_split\": [30],\n",
    "    \"max_depth\": [5],\n",
    "    \"random_state\": [42]}]\n",
    "\n",
    "grid_search_forest = GridSearchCV(randomForest, grid_para_forest, cv = 5, n_jobs = -1, return_train_score = True)\n",
    "grid_search_forest.fit(train.iloc[:, 4:], train.iloc[:, 3])"
   ]
  },
  {
   "cell_type": "code",
   "execution_count": 30,
   "metadata": {},
   "outputs": [
    {
     "data": {
      "text/html": [
       "<div>\n",
       "<style scoped>\n",
       "    .dataframe tbody tr th:only-of-type {\n",
       "        vertical-align: middle;\n",
       "    }\n",
       "\n",
       "    .dataframe tbody tr th {\n",
       "        vertical-align: top;\n",
       "    }\n",
       "\n",
       "    .dataframe thead th {\n",
       "        text-align: right;\n",
       "    }\n",
       "</style>\n",
       "<table border=\"1\" class=\"dataframe\">\n",
       "  <thead>\n",
       "    <tr style=\"text-align: right;\">\n",
       "      <th></th>\n",
       "      <th>hyperparameter</th>\n",
       "    </tr>\n",
       "  </thead>\n",
       "  <tbody>\n",
       "    <tr>\n",
       "      <th>criterion</th>\n",
       "      <td>mse</td>\n",
       "    </tr>\n",
       "    <tr>\n",
       "      <th>max_depth</th>\n",
       "      <td>5</td>\n",
       "    </tr>\n",
       "    <tr>\n",
       "      <th>min_samples_leaf</th>\n",
       "      <td>10</td>\n",
       "    </tr>\n",
       "    <tr>\n",
       "      <th>min_samples_split</th>\n",
       "      <td>30</td>\n",
       "    </tr>\n",
       "    <tr>\n",
       "      <th>n_estimators</th>\n",
       "      <td>10</td>\n",
       "    </tr>\n",
       "    <tr>\n",
       "      <th>random_state</th>\n",
       "      <td>42</td>\n",
       "    </tr>\n",
       "  </tbody>\n",
       "</table>\n",
       "</div>"
      ],
      "text/plain": [
       "                  hyperparameter\n",
       "criterion                    mse\n",
       "max_depth                      5\n",
       "min_samples_leaf              10\n",
       "min_samples_split             30\n",
       "n_estimators                  10\n",
       "random_state                  42"
      ]
     },
     "execution_count": 30,
     "metadata": {},
     "output_type": "execute_result"
    }
   ],
   "source": [
    "pd.DataFrame.from_dict(grid_search_forest.best_params_, orient = 'index', columns = ['hyperparameter'])"
   ]
  },
  {
   "cell_type": "code",
   "execution_count": 31,
   "metadata": {},
   "outputs": [
    {
     "data": {
      "text/plain": [
       "0.7929299903552405"
      ]
     },
     "execution_count": 31,
     "metadata": {},
     "output_type": "execute_result"
    }
   ],
   "source": [
    "grid_search_forest.cv_results_['mean_train_score'][0]"
   ]
  },
  {
   "cell_type": "code",
   "execution_count": 32,
   "metadata": {},
   "outputs": [
    {
     "data": {
      "text/plain": [
       "0.7880928961493116"
      ]
     },
     "execution_count": 32,
     "metadata": {},
     "output_type": "execute_result"
    }
   ],
   "source": [
    "grid_search_forest.score(test.iloc[:, 4:], test.iloc[:, 3])"
   ]
  },
  {
   "cell_type": "markdown",
   "metadata": {},
   "source": [
    "## Multiple Linear Regression on % Change in ZORI"
   ]
  },
  {
   "cell_type": "code",
   "execution_count": 33,
   "metadata": {},
   "outputs": [],
   "source": [
    "df_change = df.drop('ZORI_lagged_1', axis = 1).copy()\n",
    "df_change['Year_Month'] = df_change['Year'].map(str) + '_' + df_change['Month'].map(str)\n",
    "df_change = pd.merge(df_change, one_year_forecast, on = 'Year_Month')\n",
    "df_change = pd.merge(df_change, df_change, left_on = ['Year_Month2', 'ZipCode'], right_on = ['Year_Month', 'ZipCode'],\n",
    "                     how = 'left')"
   ]
  },
  {
   "cell_type": "code",
   "execution_count": 34,
   "metadata": {},
   "outputs": [],
   "source": [
    "df_change['ZORI_x'] = (df_change['ZORI_x'] - df_change['ZORI_y']) / df_change['ZORI_y']\n",
    "df_change['ZHVI_lagged_1_x'] = (df_change['ZHVI_lagged_1_x'] - df_change['ZHVI_lagged_1_y']) / df_change['ZHVI_lagged_1_y']\n",
    "df_change['HPI_lagged_2_x'] = (df_change['HPI_lagged_2_x'] - df_change['HPI_lagged_2_y']) / df_change['HPI_lagged_2_y']\n",
    "df_change['AQI_lagged_1_x'] = (df_change['AQI_lagged_1_x'] - df_change['AQI_lagged_1_y']) / df_change['AQI_lagged_1_y']\n",
    "df_change['Population_lagged_2_x'] = (df_change['Population_lagged_2_x'] - df_change['Population_lagged_2_y']) /\\\n",
    "                                     df_change['Population_lagged_2_y']\n",
    "df_change['Unemployment_lagged_1_x'] = (df_change['Unemployment_lagged_1_x'] - df_change['Unemployment_lagged_1_y']) /\\\n",
    "                                        df_change['Unemployment_lagged_1_y']\n",
    "df_change['Percent Bacehlors_lagged_2_x'] = (df_change['Percent Bachelors_lagged_2_x'] -\\\n",
    "                                            df_change['Percent Bachelors_lagged_2_y']) /\\\n",
    "                                            df_change['Percent Bachelors_lagged_2_y']\n",
    "df_change['Permits_lagged_1_x'] = (df_change['Permits_lagged_1_x'] - df_change['Permits_lagged_1_y']) /\\\n",
    "                                  df_change['Permits_lagged_1_y']\n",
    "df_change['Total_Households_lagged_2_x'] = (df_change['Total_Households_lagged_2_x'] -\\\n",
    "                                           df_change['Total_Households_lagged_2_y']) /\\\n",
    "                                           df_change['Total_Households_lagged_2_y']\n",
    "df_change['Med_Income_lagged_2_x'] = (df_change['Med_Income_lagged_2_x'] - df_change['Med_Income_lagged_2_y']) /\\\n",
    "                                      df_change['Med_Income_lagged_2_y']\n",
    "df_change['PCE_lagged_1_x'] = (df_change['PCE_lagged_1_x'] - df_change['PCE_lagged_1_y']) / df_change['PCE_lagged_1_y'] \n",
    "df_change['Rental Vacancy Rate_lagged_2_x'] = (df_change['Rental Vacancy Rate_lagged_2_x'] -\\\n",
    "                                              df_change['Rental Vacancy Rate_lagged_2_y']) /\\\n",
    "                                              df_change['Rental Vacancy Rate_lagged_2_y']\n",
    "df_change['Job Openings_lagged_1_x'] = (df_change['Job Openings_lagged_1_x'] - df_change['Job Openings_lagged_1_y']) /\\\n",
    "                                        df_change['Job Openings_lagged_1_y']"
   ]
  },
  {
   "cell_type": "code",
   "execution_count": 35,
   "metadata": {},
   "outputs": [],
   "source": [
    "df_change = df_change[['Year_x', 'Month_x', 'ZipCode', 'ZORI_x', 'ZHVI_lagged_1_x', 'HPI_lagged_2_x', 'AQI_lagged_1_x', \n",
    "                      'Population_lagged_2_x', 'Unemployment_lagged_1_x', 'Percent Bachelors_lagged_2_x', \n",
    "                      'Permits_lagged_1_x', 'Total_Households_lagged_2_x', 'Med_Income_lagged_2_x', 'PCE_lagged_1_x', \n",
    "                      'Rental Vacancy Rate_lagged_2_x', 'Job Openings_lagged_1_x']]"
   ]
  },
  {
   "cell_type": "code",
   "execution_count": 36,
   "metadata": {},
   "outputs": [],
   "source": [
    "df_change.columns = ['Year', 'Month', 'ZipCode', 'ZORI_delta', 'ZHVI_lagged_1_delta', 'HPI_lagged_2_delta', \n",
    "                     'AQI_lagged_1_delta', 'Population_lagged_2_delta', 'Unemployment_lagged_1_delta',\n",
    "                     'Percent Bachelors_lagged_2_delta', 'Permits_lagged_1_delta', 'Total_Households_lagged_2_delta',\n",
    "                     'Med_Income_lagged_2_delta', 'PCE_lagged_1_delta', 'Rental Vacancy Rate_lagged_2_delta',\n",
    "                     'Job Openings_lagged_1_delta']"
   ]
  },
  {
   "cell_type": "code",
   "execution_count": 37,
   "metadata": {},
   "outputs": [],
   "source": [
    "df_change = df_change[(df_change['Year'] != 2014) & ~((df_change['Year'] == 2015) & (df_change['Month'] == 1))]"
   ]
  },
  {
   "cell_type": "code",
   "execution_count": 38,
   "metadata": {},
   "outputs": [
    {
     "data": {
      "text/plain": [
       "Year                                      0\n",
       "Month                                     0\n",
       "ZipCode                                   0\n",
       "ZORI_delta                             8666\n",
       "ZHVI_lagged_1_delta                    9633\n",
       "HPI_lagged_2_delta                    22958\n",
       "AQI_lagged_1_delta                    24759\n",
       "Population_lagged_2_delta             15937\n",
       "Unemployment_lagged_1_delta           14914\n",
       "Percent Bachelors_lagged_2_delta       7522\n",
       "Permits_lagged_1_delta                 9265\n",
       "Total_Households_lagged_2_delta       15937\n",
       "Med_Income_lagged_2_delta             15937\n",
       "PCE_lagged_1_delta                     8666\n",
       "Rental Vacancy Rate_lagged_2_delta    16282\n",
       "Job Openings_lagged_1_delta            9871\n",
       "dtype: int64"
      ]
     },
     "execution_count": 38,
     "metadata": {},
     "output_type": "execute_result"
    }
   ],
   "source": [
    "df_change.isnull().sum(axis = 0)"
   ]
  },
  {
   "cell_type": "code",
   "execution_count": 39,
   "metadata": {},
   "outputs": [],
   "source": [
    "# Dropping NaN values instead of imputing for now\n",
    "df_change = df_change[~df_change['ZORI_delta'].isnull()]\n",
    "df_change = df_change[~df_change['ZHVI_lagged_1_delta'].isnull()]\n",
    "df_change = df_change[~df_change['HPI_lagged_2_delta'].isnull()]\n",
    "df_change = df_change[~df_change['AQI_lagged_1_delta'].isnull()]\n",
    "df_change = df_change[~df_change['Population_lagged_2_delta'].isnull()]\n",
    "df_change = df_change[~df_change['Permits_lagged_1_delta'].isnull()]\n",
    "df_change = df_change[~df_change['Rental Vacancy Rate_lagged_2_delta'].isnull()]"
   ]
  },
  {
   "cell_type": "code",
   "execution_count": 40,
   "metadata": {},
   "outputs": [
    {
     "data": {
      "text/plain": [
       "Year                                  0\n",
       "Month                                 0\n",
       "ZipCode                               0\n",
       "ZORI_delta                            0\n",
       "ZHVI_lagged_1_delta                   0\n",
       "HPI_lagged_2_delta                    0\n",
       "AQI_lagged_1_delta                    0\n",
       "Population_lagged_2_delta             0\n",
       "Unemployment_lagged_1_delta           0\n",
       "Percent Bachelors_lagged_2_delta      0\n",
       "Permits_lagged_1_delta                0\n",
       "Total_Households_lagged_2_delta       0\n",
       "Med_Income_lagged_2_delta             0\n",
       "PCE_lagged_1_delta                    0\n",
       "Rental Vacancy Rate_lagged_2_delta    0\n",
       "Job Openings_lagged_1_delta           0\n",
       "dtype: int64"
      ]
     },
     "execution_count": 40,
     "metadata": {},
     "output_type": "execute_result"
    }
   ],
   "source": [
    "df_change.isnull().sum(axis = 0)"
   ]
  },
  {
   "cell_type": "code",
   "execution_count": 41,
   "metadata": {},
   "outputs": [
    {
     "data": {
      "text/plain": [
       "Year                                    0\n",
       "Month                                   0\n",
       "ZipCode                                 0\n",
       "ZORI_delta                              0\n",
       "ZHVI_lagged_1_delta                     0\n",
       "HPI_lagged_2_delta                      0\n",
       "AQI_lagged_1_delta                      0\n",
       "Population_lagged_2_delta               0\n",
       "Unemployment_lagged_1_delta             0\n",
       "Percent Bachelors_lagged_2_delta        0\n",
       "Permits_lagged_1_delta                590\n",
       "Total_Households_lagged_2_delta         0\n",
       "Med_Income_lagged_2_delta               0\n",
       "PCE_lagged_1_delta                      0\n",
       "Rental Vacancy Rate_lagged_2_delta     99\n",
       "Job Openings_lagged_1_delta             0\n",
       "dtype: int64"
      ]
     },
     "execution_count": 41,
     "metadata": {},
     "output_type": "execute_result"
    }
   ],
   "source": [
    "(df_change == np.inf).sum(axis = 0)"
   ]
  },
  {
   "cell_type": "code",
   "execution_count": 42,
   "metadata": {},
   "outputs": [],
   "source": [
    "# Drop np.inf values\n",
    "df_change = df_change[df_change['Permits_lagged_1_delta'] != np.inf]\n",
    "df_change = df_change[df_change['Rental Vacancy Rate_lagged_2_delta'] != np.inf]"
   ]
  },
  {
   "cell_type": "code",
   "execution_count": 43,
   "metadata": {},
   "outputs": [],
   "source": [
    "train_change_idx = np.random.choice(range(df_change.shape[0]), round(df_change.shape[0] * 0.7), replace = False)"
   ]
  },
  {
   "cell_type": "code",
   "execution_count": 44,
   "metadata": {},
   "outputs": [],
   "source": [
    "train_change = df_change.iloc[train_change_idx, :]\n",
    "test_change = df_change.iloc[list(set(range(df_change.shape[0])) - set(train_change_idx)), :]"
   ]
  },
  {
   "cell_type": "code",
   "execution_count": 45,
   "metadata": {},
   "outputs": [
    {
     "data": {
      "text/plain": [
       "0.1556915452128823"
      ]
     },
     "execution_count": 45,
     "metadata": {},
     "output_type": "execute_result"
    }
   ],
   "source": [
    "regression_change = LinearRegression()\n",
    "regression.fit(train_change.iloc[:, 4:], train_change.iloc[:, 3])\n",
    "regression.score(train_change.iloc[:, 4:], train_change.iloc[:, 3])"
   ]
  },
  {
   "cell_type": "code",
   "execution_count": 46,
   "metadata": {},
   "outputs": [
    {
     "data": {
      "text/plain": [
       "0.15876474464239088"
      ]
     },
     "execution_count": 46,
     "metadata": {},
     "output_type": "execute_result"
    }
   ],
   "source": [
    "r2_score(test_change.iloc[:, 3], regression.predict(test_change.iloc[:, 4:]))"
   ]
  }
 ],
 "metadata": {
  "kernelspec": {
   "display_name": "Python 3",
   "language": "python",
   "name": "python3"
  },
  "language_info": {
   "codemirror_mode": {
    "name": "ipython",
    "version": 3
   },
   "file_extension": ".py",
   "mimetype": "text/x-python",
   "name": "python",
   "nbconvert_exporter": "python",
   "pygments_lexer": "ipython3",
   "version": "3.7.7"
  }
 },
 "nbformat": 4,
 "nbformat_minor": 4
}
